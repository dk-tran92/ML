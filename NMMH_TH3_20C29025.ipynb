{
 "cells": [
  {
   "cell_type": "code",
   "execution_count": 1,
   "metadata": {},
   "outputs": [],
   "source": [
    "import pandas as pd\n",
    "import numpy as np\n",
    "from sklearn.model_selection import train_test_split"
   ]
  },
  {
   "cell_type": "code",
   "execution_count": 2,
   "metadata": {
    "scrolled": true
   },
   "outputs": [
    {
     "data": {
      "text/html": [
       "<div>\n",
       "<style scoped>\n",
       "    .dataframe tbody tr th:only-of-type {\n",
       "        vertical-align: middle;\n",
       "    }\n",
       "\n",
       "    .dataframe tbody tr th {\n",
       "        vertical-align: top;\n",
       "    }\n",
       "\n",
       "    .dataframe thead th {\n",
       "        text-align: right;\n",
       "    }\n",
       "</style>\n",
       "<table border=\"1\" class=\"dataframe\">\n",
       "  <thead>\n",
       "    <tr style=\"text-align: right;\">\n",
       "      <th></th>\n",
       "      <th>age</th>\n",
       "      <th>sex</th>\n",
       "      <th>cp</th>\n",
       "      <th>trestbps</th>\n",
       "      <th>chol</th>\n",
       "      <th>fbs</th>\n",
       "      <th>restecg</th>\n",
       "      <th>thalach</th>\n",
       "      <th>exang</th>\n",
       "      <th>oldpeak</th>\n",
       "      <th>slope</th>\n",
       "      <th>ca</th>\n",
       "      <th>thal</th>\n",
       "      <th>target</th>\n",
       "    </tr>\n",
       "  </thead>\n",
       "  <tbody>\n",
       "    <tr>\n",
       "      <th>0</th>\n",
       "      <td>63</td>\n",
       "      <td>1</td>\n",
       "      <td>3</td>\n",
       "      <td>145</td>\n",
       "      <td>233</td>\n",
       "      <td>1</td>\n",
       "      <td>0</td>\n",
       "      <td>150</td>\n",
       "      <td>0</td>\n",
       "      <td>2.3</td>\n",
       "      <td>0</td>\n",
       "      <td>0</td>\n",
       "      <td>1</td>\n",
       "      <td>1</td>\n",
       "    </tr>\n",
       "    <tr>\n",
       "      <th>1</th>\n",
       "      <td>37</td>\n",
       "      <td>1</td>\n",
       "      <td>2</td>\n",
       "      <td>130</td>\n",
       "      <td>250</td>\n",
       "      <td>0</td>\n",
       "      <td>1</td>\n",
       "      <td>187</td>\n",
       "      <td>0</td>\n",
       "      <td>3.5</td>\n",
       "      <td>0</td>\n",
       "      <td>0</td>\n",
       "      <td>2</td>\n",
       "      <td>1</td>\n",
       "    </tr>\n",
       "    <tr>\n",
       "      <th>2</th>\n",
       "      <td>41</td>\n",
       "      <td>0</td>\n",
       "      <td>1</td>\n",
       "      <td>130</td>\n",
       "      <td>204</td>\n",
       "      <td>0</td>\n",
       "      <td>0</td>\n",
       "      <td>172</td>\n",
       "      <td>0</td>\n",
       "      <td>1.4</td>\n",
       "      <td>2</td>\n",
       "      <td>0</td>\n",
       "      <td>2</td>\n",
       "      <td>1</td>\n",
       "    </tr>\n",
       "    <tr>\n",
       "      <th>3</th>\n",
       "      <td>56</td>\n",
       "      <td>1</td>\n",
       "      <td>1</td>\n",
       "      <td>120</td>\n",
       "      <td>236</td>\n",
       "      <td>0</td>\n",
       "      <td>1</td>\n",
       "      <td>178</td>\n",
       "      <td>0</td>\n",
       "      <td>0.8</td>\n",
       "      <td>2</td>\n",
       "      <td>0</td>\n",
       "      <td>2</td>\n",
       "      <td>1</td>\n",
       "    </tr>\n",
       "    <tr>\n",
       "      <th>4</th>\n",
       "      <td>57</td>\n",
       "      <td>0</td>\n",
       "      <td>0</td>\n",
       "      <td>120</td>\n",
       "      <td>354</td>\n",
       "      <td>0</td>\n",
       "      <td>1</td>\n",
       "      <td>163</td>\n",
       "      <td>1</td>\n",
       "      <td>0.6</td>\n",
       "      <td>2</td>\n",
       "      <td>0</td>\n",
       "      <td>2</td>\n",
       "      <td>1</td>\n",
       "    </tr>\n",
       "    <tr>\n",
       "      <th>...</th>\n",
       "      <td>...</td>\n",
       "      <td>...</td>\n",
       "      <td>...</td>\n",
       "      <td>...</td>\n",
       "      <td>...</td>\n",
       "      <td>...</td>\n",
       "      <td>...</td>\n",
       "      <td>...</td>\n",
       "      <td>...</td>\n",
       "      <td>...</td>\n",
       "      <td>...</td>\n",
       "      <td>...</td>\n",
       "      <td>...</td>\n",
       "      <td>...</td>\n",
       "    </tr>\n",
       "    <tr>\n",
       "      <th>298</th>\n",
       "      <td>57</td>\n",
       "      <td>0</td>\n",
       "      <td>0</td>\n",
       "      <td>140</td>\n",
       "      <td>241</td>\n",
       "      <td>0</td>\n",
       "      <td>1</td>\n",
       "      <td>123</td>\n",
       "      <td>1</td>\n",
       "      <td>0.2</td>\n",
       "      <td>1</td>\n",
       "      <td>0</td>\n",
       "      <td>3</td>\n",
       "      <td>0</td>\n",
       "    </tr>\n",
       "    <tr>\n",
       "      <th>299</th>\n",
       "      <td>45</td>\n",
       "      <td>1</td>\n",
       "      <td>3</td>\n",
       "      <td>110</td>\n",
       "      <td>264</td>\n",
       "      <td>0</td>\n",
       "      <td>1</td>\n",
       "      <td>132</td>\n",
       "      <td>0</td>\n",
       "      <td>1.2</td>\n",
       "      <td>1</td>\n",
       "      <td>0</td>\n",
       "      <td>3</td>\n",
       "      <td>0</td>\n",
       "    </tr>\n",
       "    <tr>\n",
       "      <th>300</th>\n",
       "      <td>68</td>\n",
       "      <td>1</td>\n",
       "      <td>0</td>\n",
       "      <td>144</td>\n",
       "      <td>193</td>\n",
       "      <td>1</td>\n",
       "      <td>1</td>\n",
       "      <td>141</td>\n",
       "      <td>0</td>\n",
       "      <td>3.4</td>\n",
       "      <td>1</td>\n",
       "      <td>2</td>\n",
       "      <td>3</td>\n",
       "      <td>0</td>\n",
       "    </tr>\n",
       "    <tr>\n",
       "      <th>301</th>\n",
       "      <td>57</td>\n",
       "      <td>1</td>\n",
       "      <td>0</td>\n",
       "      <td>130</td>\n",
       "      <td>131</td>\n",
       "      <td>0</td>\n",
       "      <td>1</td>\n",
       "      <td>115</td>\n",
       "      <td>1</td>\n",
       "      <td>1.2</td>\n",
       "      <td>1</td>\n",
       "      <td>1</td>\n",
       "      <td>3</td>\n",
       "      <td>0</td>\n",
       "    </tr>\n",
       "    <tr>\n",
       "      <th>302</th>\n",
       "      <td>57</td>\n",
       "      <td>0</td>\n",
       "      <td>1</td>\n",
       "      <td>130</td>\n",
       "      <td>236</td>\n",
       "      <td>0</td>\n",
       "      <td>0</td>\n",
       "      <td>174</td>\n",
       "      <td>0</td>\n",
       "      <td>0.0</td>\n",
       "      <td>1</td>\n",
       "      <td>1</td>\n",
       "      <td>2</td>\n",
       "      <td>0</td>\n",
       "    </tr>\n",
       "  </tbody>\n",
       "</table>\n",
       "<p>303 rows × 14 columns</p>\n",
       "</div>"
      ],
      "text/plain": [
       "     age  sex  cp  trestbps  chol  fbs  restecg  thalach  exang  oldpeak  \\\n",
       "0     63    1   3       145   233    1        0      150      0      2.3   \n",
       "1     37    1   2       130   250    0        1      187      0      3.5   \n",
       "2     41    0   1       130   204    0        0      172      0      1.4   \n",
       "3     56    1   1       120   236    0        1      178      0      0.8   \n",
       "4     57    0   0       120   354    0        1      163      1      0.6   \n",
       "..   ...  ...  ..       ...   ...  ...      ...      ...    ...      ...   \n",
       "298   57    0   0       140   241    0        1      123      1      0.2   \n",
       "299   45    1   3       110   264    0        1      132      0      1.2   \n",
       "300   68    1   0       144   193    1        1      141      0      3.4   \n",
       "301   57    1   0       130   131    0        1      115      1      1.2   \n",
       "302   57    0   1       130   236    0        0      174      0      0.0   \n",
       "\n",
       "     slope  ca  thal  target  \n",
       "0        0   0     1       1  \n",
       "1        0   0     2       1  \n",
       "2        2   0     2       1  \n",
       "3        2   0     2       1  \n",
       "4        2   0     2       1  \n",
       "..     ...  ..   ...     ...  \n",
       "298      1   0     3       0  \n",
       "299      1   0     3       0  \n",
       "300      1   2     3       0  \n",
       "301      1   1     3       0  \n",
       "302      1   1     2       0  \n",
       "\n",
       "[303 rows x 14 columns]"
      ]
     },
     "execution_count": 2,
     "metadata": {},
     "output_type": "execute_result"
    }
   ],
   "source": [
    "data=pd.read_csv(\"https://raw.githubusercontent.com/huynhthanh98/ML/master/lab-03/heart.csv\")\n",
    "data"
   ]
  },
  {
   "cell_type": "markdown",
   "metadata": {},
   "source": [
    "# 1. Xây dựng mô hình logistic regression bằng tất cả các features trong file heart, so sánh với thư viện sklearn."
   ]
  },
  {
   "cell_type": "markdown",
   "metadata": {},
   "source": [
    "Mô hình logistic regression sử dụng tất cả (13) các features"
   ]
  },
  {
   "cell_type": "code",
   "execution_count": 3,
   "metadata": {},
   "outputs": [],
   "source": [
    "y = data['target']\n",
    "X = data.drop('target', axis = 1)"
   ]
  },
  {
   "cell_type": "code",
   "execution_count": 4,
   "metadata": {},
   "outputs": [],
   "source": [
    "X_train, X_test, y_train, y_test = train_test_split(X, y, \\\n",
    "                                                   test_size = 0.33, random_state = 42)"
   ]
  },
  {
   "cell_type": "code",
   "execution_count": 5,
   "metadata": {
    "scrolled": true
   },
   "outputs": [],
   "source": [
    "X_train = X_train.values\n",
    "X_test = X_test.values\n",
    "y_train = y_train.values.reshape(-1,1)\n",
    "y_test = y_test.values.reshape(-1,1)"
   ]
  },
  {
   "cell_type": "code",
   "execution_count": 6,
   "metadata": {},
   "outputs": [],
   "source": [
    "#Normalizaition\n",
    "min=np.min(X_train,axis=0)\n",
    "max=np.max(X_train,axis=0)\n",
    "X_train=(X_train-min)/(max-min)\n",
    "X_test=(X_test-min)/(max-min)"
   ]
  },
  {
   "cell_type": "code",
   "execution_count": 8,
   "metadata": {},
   "outputs": [],
   "source": [
    "def sigmoid(W,X):\n",
    "    \"\"\"\n",
    "    W-weight-trọng số\n",
    "    X-sample(s)\n",
    "    \"\"\"\n",
    "    return 1/(1 + np.exp(-np.matmul(X,W)) )"
   ]
  },
  {
   "cell_type": "code",
   "execution_count": 9,
   "metadata": {},
   "outputs": [
    {
     "data": {
      "text/plain": [
       "(203, 14)"
      ]
     },
     "execution_count": 9,
     "metadata": {},
     "output_type": "execute_result"
    }
   ],
   "source": [
    "X_train_bar = np.concatenate([np.ones([X_train.shape[0],1]), X_train], axis = 1)\n",
    "X_train_bar.shape"
   ]
  },
  {
   "cell_type": "code",
   "execution_count": 14,
   "metadata": {
    "scrolled": false
   },
   "outputs": [
    {
     "name": "stdout",
     "output_type": "stream",
     "text": [
      "[0.69314718]\n",
      "[0.6896408]\n",
      "[0.68619053]\n",
      "[0.68279452]\n",
      "[0.67945112]\n",
      "[0.67615884]\n",
      "[0.67291632]\n",
      "[0.66972233]\n",
      "[0.66657573]\n",
      "[0.66347546]\n",
      "[0.66042052]\n",
      "[0.65740999]\n",
      "[0.65444299]\n",
      "[0.65151867]\n",
      "[0.64863624]\n",
      "[0.64579493]\n",
      "[0.64299399]\n",
      "[0.6402327]\n",
      "[0.63751038]\n",
      "[0.63482635]\n",
      "[0.63217995]\n",
      "[0.62957054]\n",
      "[0.62699749]\n",
      "[0.6244602]\n",
      "[0.62195805]\n",
      "[0.61949046]\n",
      "[0.61705686]\n",
      "[0.61465669]\n",
      "[0.61228937]\n",
      "[0.60995437]\n",
      "[0.60765116]\n",
      "[0.6053792]\n",
      "[0.60313798]\n",
      "[0.60092699]\n",
      "[0.59874574]\n",
      "[0.59659372]\n",
      "[0.59447045]\n",
      "[0.59237547]\n",
      "[0.5903083]\n",
      "[0.58826848]\n",
      "[0.58625557]\n",
      "[0.58426911]\n",
      "[0.58230868]\n",
      "[0.58037385]\n",
      "[0.57846419]\n",
      "[0.57657929]\n",
      "[0.57471874]\n",
      "[0.57288214]\n",
      "[0.57106911]\n",
      "[0.56927925]\n"
     ]
    }
   ],
   "source": [
    "lr=0.0001\n",
    "\n",
    "W_init = np.zeros([X_train_bar.shape[1],1])\n",
    "\n",
    "\"\"\"\n",
    "W_init = np.array([[ 0.08301728],\n",
    "                   [-0.04727973],\n",
    "                   [-0.24824661],\n",
    "                   [ 0.36166991],\n",
    "                   [ 0.01432057],\n",
    "                   [ 0.01424189],\n",
    "                   [ 0.03692692],\n",
    "                   [ 0.0615951 ],\n",
    "                   [ 0.22291787],\n",
    "                   [-0.39715771],\n",
    "                   [-0.16351445],\n",
    "                   [ 0.27335201],\n",
    "                   [-0.30551619],\n",
    "                   [-0.10815532]])\n",
    "\"\"\"\n",
    "\n",
    "list_W=[W_init]\n",
    "list_error=[]\n",
    "\n",
    "\n",
    "for epoch in range(50000):\n",
    "    W = list_W[-1]\n",
    "    prediction = sigmoid(W, X_train_bar)\n",
    "    \n",
    "    error = -np.mean((y_train*np.log(prediction) + (1-y_train)*np.log(1-prediction)), axis = 0)\n",
    "    \n",
    "    gradient = np.mean((prediction-y_train)*X_train_bar, axis = 0)\n",
    "    gradient = gradient.reshape(-1,1)\n",
    "    \n",
    "    W = W-lr*gradient\n",
    "    \n",
    "    list_W.append(W)\n",
    "    list_error.append(error)\n",
    "    if epoch % 1000==0:\n",
    "        print(list_error[-1])\n",
    "  \n",
    "    "
   ]
  },
  {
   "cell_type": "code",
   "execution_count": 15,
   "metadata": {
    "scrolled": true
   },
   "outputs": [
    {
     "data": {
      "text/plain": [
       "0.84"
      ]
     },
     "execution_count": 15,
     "metadata": {},
     "output_type": "execute_result"
    }
   ],
   "source": [
    "X_test_bar = np.concatenate([np.ones([X_test.shape[0],1]), X_test], axis = 1)\n",
    "y_hat = sigmoid(W, X_test_bar)\n",
    "\n",
    "np.mean(np.where(y_hat>0.5,1,0) == y_test)"
   ]
  },
  {
   "cell_type": "markdown",
   "metadata": {},
   "source": [
    "So sánh với thư viện sklearn"
   ]
  },
  {
   "cell_type": "code",
   "execution_count": 16,
   "metadata": {
    "scrolled": false
   },
   "outputs": [
    {
     "name": "stderr",
     "output_type": "stream",
     "text": [
      "C:\\Users\\duykh\\anaconda3\\lib\\site-packages\\sklearn\\utils\\validation.py:72: DataConversionWarning: A column-vector y was passed when a 1d array was expected. Please change the shape of y to (n_samples, ), for example using ravel().\n",
      "  return f(**kwargs)\n"
     ]
    },
    {
     "data": {
      "text/plain": [
       "0.81"
      ]
     },
     "execution_count": 16,
     "metadata": {},
     "output_type": "execute_result"
    }
   ],
   "source": [
    "from sklearn.linear_model import LogisticRegression\n",
    "\n",
    "clf = LogisticRegression(random_state=0).fit(X_train, y_train)\n",
    "clf.score(X_test,y_test)"
   ]
  },
  {
   "cell_type": "markdown",
   "metadata": {},
   "source": [
    "LogisticRegression trong sklearn không sử dụng SGD nên kết quả có khác biệt."
   ]
  },
  {
   "cell_type": "markdown",
   "metadata": {},
   "source": [
    "# 2. Hãy xây dựng mô hình softmax regression trên bộ Iris (nên Normalize data), so sánh với thư viện sklearn."
   ]
  },
  {
   "cell_type": "markdown",
   "metadata": {},
   "source": [
    "Mô hình softmax regression trên bộ Iris"
   ]
  },
  {
   "cell_type": "code",
   "execution_count": null,
   "metadata": {},
   "outputs": [],
   "source": [
    "import pandas as pd\n",
    "import numpy as np\n",
    "from sklearn.model_selection import train_test_split"
   ]
  },
  {
   "cell_type": "code",
   "execution_count": 17,
   "metadata": {},
   "outputs": [],
   "source": [
    "from sklearn import datasets\n",
    "\n",
    "# import some data to play with\n",
    "iris = datasets.load_iris()\n",
    "X = iris.data\n",
    "y = iris.target\n",
    "\n",
    "X_train, X_test, y_train, y_test = train_test_split(\n",
    "  X, y, test_size=0.33, random_state=42)"
   ]
  },
  {
   "cell_type": "code",
   "execution_count": 20,
   "metadata": {},
   "outputs": [
    {
     "data": {
      "text/plain": [
       "array([1, 2, 1, 0, 2, 1, 0, 0, 0, 1, 2, 0, 0, 0, 1, 0, 1, 2, 0, 1, 2, 0,\n",
       "       2, 2, 1, 1, 2, 1, 0, 1, 2, 0, 0, 1, 1, 0, 2, 0, 0, 1, 1, 2, 1, 2,\n",
       "       2, 1, 0, 0, 2, 2, 0, 0, 0, 1, 2, 0, 2, 2, 0, 1, 1, 2, 1, 2, 0, 2,\n",
       "       1, 2, 1, 1, 1, 0, 1, 1, 0, 1, 2, 2, 0, 1, 2, 2, 0, 2, 0, 1, 2, 2,\n",
       "       1, 2, 1, 1, 2, 2, 0, 1, 2, 0, 1, 2])"
      ]
     },
     "execution_count": 20,
     "metadata": {},
     "output_type": "execute_result"
    }
   ],
   "source": [
    "y_train"
   ]
  },
  {
   "cell_type": "code",
   "execution_count": 21,
   "metadata": {},
   "outputs": [],
   "source": [
    "max=np.max(X_train,axis=0)\n",
    "min=np.min(X_train,axis=0)\n",
    "\n",
    "X_train=(X_train-min)/(max-min)\n",
    "X_test=(X_test-min)/(max-min)"
   ]
  },
  {
   "cell_type": "code",
   "execution_count": 22,
   "metadata": {},
   "outputs": [],
   "source": [
    "y_train_onehot = np.zeros( (y_train.size, y_train.max() + 1),dtype=int)\n",
    "y_train_onehot[np.arange(y_train.size), y_train.reshape(-1)] = 1\n",
    "\n",
    "y_test_onehot = np.zeros( (y_test.size, y_test.max() + 1) ,dtype=int)\n",
    "y_test_onehot[np.arange(y_test.size), y_test.reshape(-1)] = 1"
   ]
  },
  {
   "cell_type": "code",
   "execution_count": 23,
   "metadata": {},
   "outputs": [],
   "source": [
    "X_train_bar=np.concatenate([np.ones([X_train.shape[0],1]),X_train],axis=1)\n",
    "X_test_bar=np.concatenate([np.ones([X_test.shape[0],1]),X_test],axis=1)"
   ]
  },
  {
   "cell_type": "code",
   "execution_count": 24,
   "metadata": {},
   "outputs": [
    {
     "data": {
      "text/plain": [
       "(50, 5)"
      ]
     },
     "execution_count": 24,
     "metadata": {},
     "output_type": "execute_result"
    }
   ],
   "source": [
    "X_test_bar.shape"
   ]
  },
  {
   "cell_type": "code",
   "execution_count": 31,
   "metadata": {},
   "outputs": [
    {
     "name": "stdout",
     "output_type": "stream",
     "text": [
      "1.098198230715856\n",
      "0.45411078202632477\n",
      "0.3584306266179421\n",
      "0.30997795744900786\n",
      "0.27806815869501905\n",
      "0.25449220523553673\n",
      "0.23596141090505515\n",
      "0.2208346998764795\n",
      "0.20816830722140853\n",
      "0.19736415321181722\n",
      "0.188016396306078\n",
      "0.17983568437281316\n",
      "0.17260799287018214\n",
      "0.16617049047905028\n",
      "0.16039650510625575\n",
      "0.15518569451129915\n",
      "0.15045736498087459\n",
      "0.1461457843187094\n",
      "0.14219680756431333\n",
      "0.13856539472123702\n"
     ]
    }
   ],
   "source": [
    "lr=0.005\n",
    "W_init=np.zeros([X_train_bar.shape[1],len(np.unique(y_train))])\n",
    "list_W=[W_init]\n",
    "list_error=[0]\n",
    "for epoch in range(200000):\n",
    "  expi=np.exp(np.matmul(X_train_bar,list_W[-1])) #300 3\n",
    "  expsum=np.sum(expi,axis=1)   #300, \n",
    "  soft1=expi/expsum.reshape(-1,1)  #300 1\n",
    "  a=(-y_train_onehot+soft1)    #300,1\n",
    "  W_temp=np.zeros([X_train_bar.shape[1],y_train_onehot.shape[1]])\n",
    "  #W_temp\n",
    "  for i in range(y_train_onehot.shape[1]):\n",
    "    temp=i+1\n",
    "    W_temp[:,i:temp]=np.mean(a[:,i:temp]*X_train_bar,axis=0).reshape(-1,1)\n",
    "#cal error\n",
    "  W=list_W[-1]-lr*W_temp\n",
    "\n",
    "\n",
    "  for i in range(y_train_onehot.shape[1]):\n",
    "    error=np.exp(np.matmul(X_train_bar,W))/np.sum(np.exp(np.matmul(X_train_bar,W)),axis=1).reshape(-1,1)\n",
    "    error=-y_train_onehot*np.log(error)\n",
    "    error=np.sum(np.mean(error,axis=0))\n",
    "\n",
    "  \n",
    "  list_W.append(W)\n",
    "  list_error.append(error)\n",
    "\n",
    "  if epoch % 10000==0:\n",
    "    print(list_error[-1])"
   ]
  },
  {
   "cell_type": "code",
   "execution_count": 32,
   "metadata": {},
   "outputs": [
    {
     "data": {
      "text/plain": [
       "array([[5.91467019e-03, 9.06564030e-01, 8.75212997e-02],\n",
       "       [9.82955781e-01, 1.70440286e-02, 1.90109342e-07],\n",
       "       [1.16970954e-08, 2.93974824e-03, 9.97060240e-01],\n",
       "       [6.29650244e-03, 7.64077174e-01, 2.29626323e-01],\n",
       "       [1.26584184e-03, 7.81756980e-01, 2.16977178e-01],\n",
       "       [9.62941705e-01, 3.70574715e-02, 8.23112519e-07],\n",
       "       [5.62865291e-02, 9.08318397e-01, 3.53950739e-02],\n",
       "       [2.37952128e-05, 3.97510075e-02, 9.60225197e-01],\n",
       "       [4.01771532e-04, 6.18453318e-01, 3.81144911e-01],\n",
       "       [1.86157396e-02, 9.42160472e-01, 3.92237886e-02],\n",
       "       [3.75876168e-04, 1.63417777e-01, 8.36206347e-01],\n",
       "       [9.67059890e-01, 3.29398756e-02, 2.34870814e-07],\n",
       "       [9.82467556e-01, 1.75323413e-02, 1.02359800e-07],\n",
       "       [9.68952741e-01, 3.10470357e-02, 2.23458758e-07],\n",
       "       [9.94061416e-01, 5.93852990e-03, 5.42074203e-08],\n",
       "       [9.35808425e-03, 7.05886646e-01, 2.84755270e-01],\n",
       "       [8.80142996e-06, 2.48352664e-02, 9.75155932e-01],\n",
       "       [1.51583900e-02, 9.54471161e-01, 3.03704491e-02],\n",
       "       [1.08040047e-02, 8.77403219e-01, 1.11792776e-01],\n",
       "       [6.97856134e-06, 2.54628005e-02, 9.74530221e-01],\n",
       "       [9.76914756e-01, 2.30849640e-02, 2.79902208e-07],\n",
       "       [1.26412311e-03, 3.43837366e-01, 6.54898511e-01],\n",
       "       [9.75107556e-01, 2.48918024e-02, 6.41203964e-07],\n",
       "       [1.31878509e-05, 4.09675938e-02, 9.59019218e-01],\n",
       "       [3.55123971e-05, 7.73104675e-02, 9.22654020e-01],\n",
       "       [1.57290295e-05, 3.15664556e-02, 9.68417815e-01],\n",
       "       [1.00302264e-05, 9.85908653e-02, 9.01399105e-01],\n",
       "       [5.78506898e-06, 1.70726146e-02, 9.82921600e-01],\n",
       "       [9.55117075e-01, 4.48820693e-02, 8.55430142e-07],\n",
       "       [9.63946617e-01, 3.60529013e-02, 4.82001872e-07],\n",
       "       [9.97397799e-01, 2.60219112e-03, 1.01308151e-08],\n",
       "       [9.97756374e-01, 2.24360866e-03, 1.71605456e-08],\n",
       "       [7.22937310e-03, 8.81698752e-01, 1.11071875e-01],\n",
       "       [9.86064565e-01, 1.39352989e-02, 1.36145470e-07],\n",
       "       [9.89387456e-01, 1.06124522e-02, 9.14241326e-08],\n",
       "       [6.06419860e-05, 1.46061287e-01, 8.53878071e-01],\n",
       "       [1.03732778e-02, 8.15394870e-01, 1.74231853e-01],\n",
       "       [9.84831039e-01, 1.51688454e-02, 1.15100128e-07],\n",
       "       [9.92576619e-01, 7.42333520e-03, 4.55841259e-08],\n",
       "       [9.98131242e-01, 1.86875344e-03, 4.63158677e-09],\n",
       "       [2.09536372e-04, 1.52912278e-01, 8.46878186e-01],\n",
       "       [2.67751875e-02, 7.53674302e-01, 2.19550510e-01],\n",
       "       [3.64998844e-03, 7.68847640e-01, 2.27502371e-01],\n",
       "       [9.94156974e-01, 5.84296566e-03, 6.04330409e-08],\n",
       "       [9.89569604e-01, 1.04303325e-02, 6.33366957e-08],\n",
       "       [1.92413533e-02, 9.64282073e-01, 1.64765737e-02],\n",
       "       [1.09695527e-03, 5.96482111e-01, 4.02420934e-01],\n",
       "       [3.51144802e-04, 2.23684760e-01, 7.75964095e-01],\n",
       "       [5.91042885e-03, 8.71380980e-01, 1.22708591e-01],\n",
       "       [3.20668032e-06, 7.90594466e-03, 9.92090849e-01]])"
      ]
     },
     "execution_count": 32,
     "metadata": {},
     "output_type": "execute_result"
    }
   ],
   "source": [
    "expi=np.exp(np.matmul(X_test_bar,list_W[-1])) #300 3\n",
    "expsum=np.sum(expi,axis=1)   #300, \n",
    "soft1=expi/expsum.reshape(-1,1)\n",
    "soft1\n"
   ]
  },
  {
   "cell_type": "code",
   "execution_count": 33,
   "metadata": {},
   "outputs": [
    {
     "data": {
      "text/plain": [
       "0.98"
      ]
     },
     "execution_count": 33,
     "metadata": {},
     "output_type": "execute_result"
    }
   ],
   "source": [
    "expi=np.exp(np.matmul(X_test_bar,list_W[-1])) \n",
    "expsum=np.sum(expi,axis=1)   \n",
    "#Kết quả\n",
    "np.mean(y_test.reshape(-1)==np.argmax(expi/expsum.reshape(-1,1),axis=1))"
   ]
  },
  {
   "cell_type": "code",
   "execution_count": 34,
   "metadata": {},
   "outputs": [
    {
     "data": {
      "text/plain": [
       "0.9"
      ]
     },
     "execution_count": 34,
     "metadata": {},
     "output_type": "execute_result"
    }
   ],
   "source": [
    "from sklearn.linear_model import LogisticRegression\n",
    "clf = LogisticRegression(random_state=0).fit(X_train, y_train)\n",
    "clf.score(X_test,y_test)"
   ]
  }
 ],
 "metadata": {
  "kernelspec": {
   "display_name": "Python 3",
   "language": "python",
   "name": "python3"
  },
  "language_info": {
   "codemirror_mode": {
    "name": "ipython",
    "version": 3
   },
   "file_extension": ".py",
   "mimetype": "text/x-python",
   "name": "python",
   "nbconvert_exporter": "python",
   "pygments_lexer": "ipython3",
   "version": "3.8.5"
  }
 },
 "nbformat": 4,
 "nbformat_minor": 4
}
