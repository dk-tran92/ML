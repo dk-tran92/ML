{
 "cells": [
  {
   "cell_type": "markdown",
   "metadata": {},
   "source": [
    "# 1. Xây dựng mô hình logistic regression bằng tất cả các features trong file heart, so sánh với thư viện sklearn."
   ]
  },
  {
   "cell_type": "code",
   "execution_count": 1,
   "metadata": {},
   "outputs": [],
   "source": [
    "import pandas as pd\n",
    "import numpy as np\n",
    "from sklearn.model_selection import train_test_split"
   ]
  },
  {
   "cell_type": "code",
   "execution_count": 2,
   "metadata": {
    "scrolled": true
   },
   "outputs": [
    {
     "data": {
      "text/html": [
       "<div>\n",
       "<style scoped>\n",
       "    .dataframe tbody tr th:only-of-type {\n",
       "        vertical-align: middle;\n",
       "    }\n",
       "\n",
       "    .dataframe tbody tr th {\n",
       "        vertical-align: top;\n",
       "    }\n",
       "\n",
       "    .dataframe thead th {\n",
       "        text-align: right;\n",
       "    }\n",
       "</style>\n",
       "<table border=\"1\" class=\"dataframe\">\n",
       "  <thead>\n",
       "    <tr style=\"text-align: right;\">\n",
       "      <th></th>\n",
       "      <th>age</th>\n",
       "      <th>sex</th>\n",
       "      <th>cp</th>\n",
       "      <th>trestbps</th>\n",
       "      <th>chol</th>\n",
       "      <th>fbs</th>\n",
       "      <th>restecg</th>\n",
       "      <th>thalach</th>\n",
       "      <th>exang</th>\n",
       "      <th>oldpeak</th>\n",
       "      <th>slope</th>\n",
       "      <th>ca</th>\n",
       "      <th>thal</th>\n",
       "      <th>target</th>\n",
       "    </tr>\n",
       "  </thead>\n",
       "  <tbody>\n",
       "    <tr>\n",
       "      <th>0</th>\n",
       "      <td>63</td>\n",
       "      <td>1</td>\n",
       "      <td>3</td>\n",
       "      <td>145</td>\n",
       "      <td>233</td>\n",
       "      <td>1</td>\n",
       "      <td>0</td>\n",
       "      <td>150</td>\n",
       "      <td>0</td>\n",
       "      <td>2.3</td>\n",
       "      <td>0</td>\n",
       "      <td>0</td>\n",
       "      <td>1</td>\n",
       "      <td>1</td>\n",
       "    </tr>\n",
       "    <tr>\n",
       "      <th>1</th>\n",
       "      <td>37</td>\n",
       "      <td>1</td>\n",
       "      <td>2</td>\n",
       "      <td>130</td>\n",
       "      <td>250</td>\n",
       "      <td>0</td>\n",
       "      <td>1</td>\n",
       "      <td>187</td>\n",
       "      <td>0</td>\n",
       "      <td>3.5</td>\n",
       "      <td>0</td>\n",
       "      <td>0</td>\n",
       "      <td>2</td>\n",
       "      <td>1</td>\n",
       "    </tr>\n",
       "    <tr>\n",
       "      <th>2</th>\n",
       "      <td>41</td>\n",
       "      <td>0</td>\n",
       "      <td>1</td>\n",
       "      <td>130</td>\n",
       "      <td>204</td>\n",
       "      <td>0</td>\n",
       "      <td>0</td>\n",
       "      <td>172</td>\n",
       "      <td>0</td>\n",
       "      <td>1.4</td>\n",
       "      <td>2</td>\n",
       "      <td>0</td>\n",
       "      <td>2</td>\n",
       "      <td>1</td>\n",
       "    </tr>\n",
       "    <tr>\n",
       "      <th>3</th>\n",
       "      <td>56</td>\n",
       "      <td>1</td>\n",
       "      <td>1</td>\n",
       "      <td>120</td>\n",
       "      <td>236</td>\n",
       "      <td>0</td>\n",
       "      <td>1</td>\n",
       "      <td>178</td>\n",
       "      <td>0</td>\n",
       "      <td>0.8</td>\n",
       "      <td>2</td>\n",
       "      <td>0</td>\n",
       "      <td>2</td>\n",
       "      <td>1</td>\n",
       "    </tr>\n",
       "    <tr>\n",
       "      <th>4</th>\n",
       "      <td>57</td>\n",
       "      <td>0</td>\n",
       "      <td>0</td>\n",
       "      <td>120</td>\n",
       "      <td>354</td>\n",
       "      <td>0</td>\n",
       "      <td>1</td>\n",
       "      <td>163</td>\n",
       "      <td>1</td>\n",
       "      <td>0.6</td>\n",
       "      <td>2</td>\n",
       "      <td>0</td>\n",
       "      <td>2</td>\n",
       "      <td>1</td>\n",
       "    </tr>\n",
       "    <tr>\n",
       "      <th>...</th>\n",
       "      <td>...</td>\n",
       "      <td>...</td>\n",
       "      <td>...</td>\n",
       "      <td>...</td>\n",
       "      <td>...</td>\n",
       "      <td>...</td>\n",
       "      <td>...</td>\n",
       "      <td>...</td>\n",
       "      <td>...</td>\n",
       "      <td>...</td>\n",
       "      <td>...</td>\n",
       "      <td>...</td>\n",
       "      <td>...</td>\n",
       "      <td>...</td>\n",
       "    </tr>\n",
       "    <tr>\n",
       "      <th>298</th>\n",
       "      <td>57</td>\n",
       "      <td>0</td>\n",
       "      <td>0</td>\n",
       "      <td>140</td>\n",
       "      <td>241</td>\n",
       "      <td>0</td>\n",
       "      <td>1</td>\n",
       "      <td>123</td>\n",
       "      <td>1</td>\n",
       "      <td>0.2</td>\n",
       "      <td>1</td>\n",
       "      <td>0</td>\n",
       "      <td>3</td>\n",
       "      <td>0</td>\n",
       "    </tr>\n",
       "    <tr>\n",
       "      <th>299</th>\n",
       "      <td>45</td>\n",
       "      <td>1</td>\n",
       "      <td>3</td>\n",
       "      <td>110</td>\n",
       "      <td>264</td>\n",
       "      <td>0</td>\n",
       "      <td>1</td>\n",
       "      <td>132</td>\n",
       "      <td>0</td>\n",
       "      <td>1.2</td>\n",
       "      <td>1</td>\n",
       "      <td>0</td>\n",
       "      <td>3</td>\n",
       "      <td>0</td>\n",
       "    </tr>\n",
       "    <tr>\n",
       "      <th>300</th>\n",
       "      <td>68</td>\n",
       "      <td>1</td>\n",
       "      <td>0</td>\n",
       "      <td>144</td>\n",
       "      <td>193</td>\n",
       "      <td>1</td>\n",
       "      <td>1</td>\n",
       "      <td>141</td>\n",
       "      <td>0</td>\n",
       "      <td>3.4</td>\n",
       "      <td>1</td>\n",
       "      <td>2</td>\n",
       "      <td>3</td>\n",
       "      <td>0</td>\n",
       "    </tr>\n",
       "    <tr>\n",
       "      <th>301</th>\n",
       "      <td>57</td>\n",
       "      <td>1</td>\n",
       "      <td>0</td>\n",
       "      <td>130</td>\n",
       "      <td>131</td>\n",
       "      <td>0</td>\n",
       "      <td>1</td>\n",
       "      <td>115</td>\n",
       "      <td>1</td>\n",
       "      <td>1.2</td>\n",
       "      <td>1</td>\n",
       "      <td>1</td>\n",
       "      <td>3</td>\n",
       "      <td>0</td>\n",
       "    </tr>\n",
       "    <tr>\n",
       "      <th>302</th>\n",
       "      <td>57</td>\n",
       "      <td>0</td>\n",
       "      <td>1</td>\n",
       "      <td>130</td>\n",
       "      <td>236</td>\n",
       "      <td>0</td>\n",
       "      <td>0</td>\n",
       "      <td>174</td>\n",
       "      <td>0</td>\n",
       "      <td>0.0</td>\n",
       "      <td>1</td>\n",
       "      <td>1</td>\n",
       "      <td>2</td>\n",
       "      <td>0</td>\n",
       "    </tr>\n",
       "  </tbody>\n",
       "</table>\n",
       "<p>303 rows × 14 columns</p>\n",
       "</div>"
      ],
      "text/plain": [
       "     age  sex  cp  trestbps  chol  fbs  restecg  thalach  exang  oldpeak  \\\n",
       "0     63    1   3       145   233    1        0      150      0      2.3   \n",
       "1     37    1   2       130   250    0        1      187      0      3.5   \n",
       "2     41    0   1       130   204    0        0      172      0      1.4   \n",
       "3     56    1   1       120   236    0        1      178      0      0.8   \n",
       "4     57    0   0       120   354    0        1      163      1      0.6   \n",
       "..   ...  ...  ..       ...   ...  ...      ...      ...    ...      ...   \n",
       "298   57    0   0       140   241    0        1      123      1      0.2   \n",
       "299   45    1   3       110   264    0        1      132      0      1.2   \n",
       "300   68    1   0       144   193    1        1      141      0      3.4   \n",
       "301   57    1   0       130   131    0        1      115      1      1.2   \n",
       "302   57    0   1       130   236    0        0      174      0      0.0   \n",
       "\n",
       "     slope  ca  thal  target  \n",
       "0        0   0     1       1  \n",
       "1        0   0     2       1  \n",
       "2        2   0     2       1  \n",
       "3        2   0     2       1  \n",
       "4        2   0     2       1  \n",
       "..     ...  ..   ...     ...  \n",
       "298      1   0     3       0  \n",
       "299      1   0     3       0  \n",
       "300      1   2     3       0  \n",
       "301      1   1     3       0  \n",
       "302      1   1     2       0  \n",
       "\n",
       "[303 rows x 14 columns]"
      ]
     },
     "execution_count": 2,
     "metadata": {},
     "output_type": "execute_result"
    }
   ],
   "source": [
    "data=pd.read_csv(\"https://raw.githubusercontent.com/huynhthanh98/ML/master/lab-03/heart.csv\")\n",
    "data"
   ]
  },
  {
   "cell_type": "markdown",
   "metadata": {},
   "source": [
    "Mô hình logistic regression sử dụng tất cả (13) các features"
   ]
  },
  {
   "cell_type": "code",
   "execution_count": 3,
   "metadata": {},
   "outputs": [],
   "source": [
    "y = data['target']\n",
    "X = data.drop('target', axis = 1)"
   ]
  },
  {
   "cell_type": "code",
   "execution_count": 4,
   "metadata": {},
   "outputs": [],
   "source": [
    "X_train, X_test, y_train, y_test = train_test_split(X, y, \\\n",
    "                                                   test_size = 0.33, random_state = 42)"
   ]
  },
  {
   "cell_type": "code",
   "execution_count": 5,
   "metadata": {
    "scrolled": true
   },
   "outputs": [],
   "source": [
    "X_train = X_train.values\n",
    "X_test = X_test.values\n",
    "y_train = y_train.values.reshape(-1,1)\n",
    "y_test = y_test.values.reshape(-1,1)"
   ]
  },
  {
   "cell_type": "code",
   "execution_count": 6,
   "metadata": {},
   "outputs": [],
   "source": [
    "#Normalizaition\n",
    "min = np.min(X_train,axis=0)\n",
    "max = np.max(X_train,axis=0)\n",
    "X_train = (X_train-min)/(max-min)\n",
    "X_test = (X_test-min)/(max-min)"
   ]
  },
  {
   "cell_type": "code",
   "execution_count": 7,
   "metadata": {},
   "outputs": [],
   "source": [
    "def sigmoid(W,X):\n",
    "    \"\"\"\n",
    "    W-weight-trọng số\n",
    "    X-sample(s)\n",
    "    \"\"\"\n",
    "    return 1/(1 + np.exp(-np.matmul(X,W)) )"
   ]
  },
  {
   "cell_type": "code",
   "execution_count": 8,
   "metadata": {},
   "outputs": [
    {
     "data": {
      "text/plain": [
       "(203, 14)"
      ]
     },
     "execution_count": 8,
     "metadata": {},
     "output_type": "execute_result"
    }
   ],
   "source": [
    "X_train_bar = np.concatenate([np.ones([X_train.shape[0],1]), X_train], axis = 1)\n",
    "X_train_bar.shape"
   ]
  },
  {
   "cell_type": "code",
   "execution_count": 9,
   "metadata": {
    "scrolled": false
   },
   "outputs": [
    {
     "name": "stdout",
     "output_type": "stream",
     "text": [
      "[0.69314718]\n",
      "[0.6896408]\n",
      "[0.68619053]\n",
      "[0.68279452]\n",
      "[0.67945112]\n",
      "[0.67615884]\n",
      "[0.67291632]\n",
      "[0.66972233]\n",
      "[0.66657573]\n",
      "[0.66347546]\n",
      "[0.66042052]\n",
      "[0.65740999]\n",
      "[0.65444299]\n",
      "[0.65151867]\n",
      "[0.64863624]\n",
      "[0.64579493]\n",
      "[0.64299399]\n",
      "[0.6402327]\n",
      "[0.63751038]\n",
      "[0.63482635]\n",
      "[0.63217995]\n",
      "[0.62957054]\n",
      "[0.62699749]\n",
      "[0.6244602]\n",
      "[0.62195805]\n",
      "[0.61949046]\n",
      "[0.61705686]\n",
      "[0.61465669]\n",
      "[0.61228937]\n",
      "[0.60995437]\n",
      "[0.60765116]\n",
      "[0.6053792]\n",
      "[0.60313798]\n",
      "[0.60092699]\n",
      "[0.59874574]\n",
      "[0.59659372]\n",
      "[0.59447045]\n",
      "[0.59237547]\n",
      "[0.5903083]\n",
      "[0.58826848]\n",
      "[0.58625557]\n",
      "[0.58426911]\n",
      "[0.58230868]\n",
      "[0.58037385]\n",
      "[0.57846419]\n",
      "[0.57657929]\n",
      "[0.57471874]\n",
      "[0.57288214]\n",
      "[0.57106911]\n",
      "[0.56927925]\n"
     ]
    }
   ],
   "source": [
    "learning_rate = 0.0001\n",
    "\n",
    "W_init = np.zeros([X_train_bar.shape[1],1])\n",
    "\n",
    "\"\"\"\n",
    "W_init = np.array([[ 0.08301728],\n",
    "                   [-0.04727973],\n",
    "                   [-0.24824661],\n",
    "                   [ 0.36166991],\n",
    "                   [ 0.01432057],\n",
    "                   [ 0.01424189],\n",
    "                   [ 0.03692692],\n",
    "                   [ 0.0615951 ],\n",
    "                   [ 0.22291787],\n",
    "                   [-0.39715771],\n",
    "                   [-0.16351445],\n",
    "                   [ 0.27335201],\n",
    "                   [-0.30551619],\n",
    "                   [-0.10815532]])\n",
    "\"\"\"\n",
    "\n",
    "list_W=[W_init]\n",
    "list_error=[]\n",
    "\n",
    "\n",
    "for epoch in range(50000):\n",
    "    W = list_W[-1]\n",
    "    prediction = sigmoid(W, X_train_bar)\n",
    "    \n",
    "    error = -np.mean((y_train*np.log(prediction) + (1-y_train)*np.log(1-prediction)), axis = 0)\n",
    "    \n",
    "    gradient = np.mean((prediction-y_train)*X_train_bar, axis = 0)\n",
    "    gradient = gradient.reshape(-1,1)\n",
    "    \n",
    "    W = W-learning_rate*gradient\n",
    "    \n",
    "    list_W.append(W)\n",
    "    list_error.append(error)\n",
    "    if epoch % 1000==0:\n",
    "        print(list_error[-1])\n",
    "  \n",
    "    "
   ]
  },
  {
   "cell_type": "code",
   "execution_count": 10,
   "metadata": {
    "scrolled": true
   },
   "outputs": [
    {
     "data": {
      "text/plain": [
       "0.84"
      ]
     },
     "execution_count": 10,
     "metadata": {},
     "output_type": "execute_result"
    }
   ],
   "source": [
    "X_test_bar = np.concatenate([np.ones([X_test.shape[0],1]), X_test], axis = 1)\n",
    "y_hat = sigmoid(W, X_test_bar)\n",
    "\n",
    "np.mean(np.where(y_hat>0.5,1,0) == y_test)"
   ]
  },
  {
   "cell_type": "markdown",
   "metadata": {},
   "source": [
    "So sánh với thư viện sklearn"
   ]
  },
  {
   "cell_type": "code",
   "execution_count": 11,
   "metadata": {
    "scrolled": false
   },
   "outputs": [
    {
     "name": "stderr",
     "output_type": "stream",
     "text": [
      "C:\\Anaconda\\lib\\site-packages\\sklearn\\utils\\validation.py:760: DataConversionWarning: A column-vector y was passed when a 1d array was expected. Please change the shape of y to (n_samples, ), for example using ravel().\n",
      "  y = column_or_1d(y, warn=True)\n"
     ]
    },
    {
     "data": {
      "text/plain": [
       "0.81"
      ]
     },
     "execution_count": 11,
     "metadata": {},
     "output_type": "execute_result"
    }
   ],
   "source": [
    "from sklearn.linear_model import LogisticRegression\n",
    "\n",
    "clf = LogisticRegression(random_state=0).fit(X_train, y_train)\n",
    "clf.score(X_test,y_test)"
   ]
  },
  {
   "cell_type": "markdown",
   "metadata": {},
   "source": [
    "LogisticRegression trong sklearn không sử dụng SGD nên kết quả có khác biệt."
   ]
  },
  {
   "cell_type": "markdown",
   "metadata": {},
   "source": [
    "# 2. Hãy xây dựng mô hình softmax regression trên bộ Iris (nên Normalize data), so sánh với thư viện sklearn."
   ]
  },
  {
   "cell_type": "markdown",
   "metadata": {},
   "source": [
    "Mô hình softmax regression trên bộ Iris"
   ]
  },
  {
   "cell_type": "code",
   "execution_count": 12,
   "metadata": {},
   "outputs": [],
   "source": [
    "import pandas as pd\n",
    "import numpy as np\n",
    "from sklearn.model_selection import train_test_split"
   ]
  },
  {
   "cell_type": "code",
   "execution_count": 13,
   "metadata": {},
   "outputs": [],
   "source": [
    "from sklearn import datasets\n",
    "\n",
    "# import some data to play with\n",
    "iris = datasets.load_iris()\n",
    "X = iris.data\n",
    "y = iris.target\n",
    "\n",
    "X_train, X_test, y_train, y_test = train_test_split(\n",
    "  X, y, test_size=0.33, random_state=42)"
   ]
  },
  {
   "cell_type": "code",
   "execution_count": 14,
   "metadata": {},
   "outputs": [],
   "source": [
    "max=np.max(X_train,axis=0)\n",
    "min=np.min(X_train,axis=0)\n",
    "\n",
    "X_train=(X_train-min)/(max-min)\n",
    "X_test=(X_test-min)/(max-min)"
   ]
  },
  {
   "cell_type": "code",
   "execution_count": 15,
   "metadata": {},
   "outputs": [],
   "source": [
    "y_train_onehot = np.zeros((y_train.size, y_train.max() + 1), dtype=int)\n",
    "y_train_onehot[np.arange(y_train.size), y_train.reshape(-1)] = 1\n",
    "\n",
    "y_test_onehot = np.zeros((y_test.size, y_test.max() + 1), dtype=int)\n",
    "y_test_onehot[np.arange(y_test.size), y_test.reshape(-1)] = 1"
   ]
  },
  {
   "cell_type": "code",
   "execution_count": 16,
   "metadata": {},
   "outputs": [],
   "source": [
    "y_train = y_train.reshape(-1,1)\n",
    "y_test = y_test.reshape(-1,1)\n"
   ]
  },
  {
   "cell_type": "code",
   "execution_count": 17,
   "metadata": {
    "scrolled": false
   },
   "outputs": [
    {
     "name": "stdout",
     "output_type": "stream",
     "text": [
      "(100, 5)\n",
      "(50, 5)\n",
      "(100, 1)\n",
      "(50, 1)\n"
     ]
    }
   ],
   "source": [
    "X_train_bar=np.concatenate([np.ones([X_train.shape[0],1]),X_train],axis=1)\n",
    "X_test_bar=np.concatenate([np.ones([X_test.shape[0],1]),X_test],axis=1)\n",
    "print(X_train_bar.shape)\n",
    "print(X_test_bar.shape)\n",
    "print(y_train.shape)\n",
    "print(y_test.shape)"
   ]
  },
  {
   "cell_type": "code",
   "execution_count": 19,
   "metadata": {},
   "outputs": [
    {
     "name": "stdout",
     "output_type": "stream",
     "text": [
      "(5, 3)\n"
     ]
    },
    {
     "data": {
      "text/plain": [
       "(100, 3)"
      ]
     },
     "execution_count": 19,
     "metadata": {},
     "output_type": "execute_result"
    }
   ],
   "source": [
    "learning_rate = 0.005\n",
    "W_init = np.zeros([X_train_bar.shape[1], len(np.unique(y))])\n",
    "\n",
    "list_W = [W_init]\n",
    "list_error = []\n",
    "\n",
    "print(W_init.shape)\n",
    "np.matmul(X_train_bar, list_W[-1]).shape #100x5 mul 5x3 = 100x3"
   ]
  },
  {
   "cell_type": "code",
   "execution_count": 20,
   "metadata": {
    "scrolled": false
   },
   "outputs": [
    {
     "name": "stdout",
     "output_type": "stream",
     "text": [
      "1.098198230715856\n",
      "0.45411078202632477\n",
      "0.3584306266179421\n",
      "0.30997795744900786\n",
      "0.27806815869501905\n",
      "0.25449220523553673\n",
      "0.23596141090505515\n",
      "0.2208346998764795\n",
      "0.20816830722140853\n",
      "0.19736415321181722\n",
      "0.188016396306078\n",
      "0.17983568437281316\n",
      "0.17260799287018214\n",
      "0.16617049047905028\n",
      "0.16039650510625575\n",
      "0.15518569451129915\n",
      "0.15045736498087459\n",
      "0.1461457843187094\n",
      "0.14219680756431333\n",
      "0.13856539472123702\n"
     ]
    }
   ],
   "source": [
    "learning_rate = 0.005\n",
    "W_init = np.zeros([X_train_bar.shape[1], len(np.unique(y))])\n",
    "\n",
    "list_W = [W_init]\n",
    "list_error = []\n",
    "\n",
    "for epoch in range(200000):\n",
    "    exp_i = np.exp(np.matmul(X_train_bar, list_W[-1])) #100x5 mul 5x3 = 100x3\n",
    "    exp_sum = np.sum(exp_i, 1) #100\n",
    "    soft1 = exp_i/exp_sum.reshape(-1,1) #100x1\n",
    "    a = (-y_train_onehot + soft1)\n",
    "    \n",
    "    W_temp = np.zeros([X_train_bar.shape[1],y_train_onehot.shape[1]])\n",
    "    \n",
    "    for i in range(y_train_onehot.shape[1]):\n",
    "        temp = i+1\n",
    "        W_temp[:,i:temp]=np.mean(a[:,i:temp]*X_train_bar,axis=0).reshape(-1,1)\n",
    "        \n",
    "    W=list_W[-1]-learning_rate*W_temp\n",
    "    \n",
    "    for i in range(y_train_onehot.shape[1]):\n",
    "        error = np.exp(np.matmul(X_train_bar,W))/np.sum(np.exp(np.matmul(X_train_bar,W)),axis=1).reshape(-1,1)\n",
    "        error = -y_train_onehot*np.log(error)\n",
    "        error = np.sum(np.mean(error,axis=0))\n",
    "    \n",
    "    list_W.append(W)\n",
    "    list_error.append(error)\n",
    "    \n",
    "    if epoch % 10000==0:\n",
    "        print(list_error[-1])"
   ]
  },
  {
   "cell_type": "code",
   "execution_count": 21,
   "metadata": {},
   "outputs": [
    {
     "name": "stdout",
     "output_type": "stream",
     "text": [
      "0.13521375096287747\n",
      "0.1321099111110363\n",
      "0.12922664736036307\n",
      "0.12654061614282175\n",
      "0.12403168451206678\n",
      "0.12168239304673872\n",
      "0.11947752378169095\n",
      "0.1174037497904003\n",
      "0.11544934885275585\n",
      "0.11360396786264718\n",
      "0.11185842773370766\n",
      "0.11020456087077699\n",
      "0.10863507501067818\n",
      "0.10714343855362335\n",
      "0.10572378351572237\n",
      "0.10437082301229586\n",
      "0.103079780788042\n",
      "0.10184633078534702\n",
      "0.10066654511701842\n",
      "0.09953684910751862\n"
     ]
    }
   ],
   "source": [
    "learning_rate = 0.005\n",
    "W_init = W\n",
    "\n",
    "list_W = [W_init]\n",
    "list_error = []\n",
    "\n",
    "for epoch in range(200000):\n",
    "    exp_i = np.exp(np.matmul(X_train_bar, list_W[-1])) #100x5 mul 5x3 = 100x3\n",
    "    exp_sum = np.sum(exp_i, 1) #100\n",
    "    soft1 = exp_i/exp_sum.reshape(-1,1) #100x1\n",
    "    a = (-y_train_onehot + soft1)\n",
    "    \n",
    "    W_temp = np.zeros([X_train_bar.shape[1],y_train_onehot.shape[1]])\n",
    "    \n",
    "    for i in range(y_train_onehot.shape[1]):\n",
    "        temp = i+1\n",
    "        W_temp[:,i:temp]=np.mean(a[:,i:temp]*X_train_bar,axis=0).reshape(-1,1)\n",
    "        \n",
    "    W=list_W[-1]-learning_rate*W_temp\n",
    "    \n",
    "    for i in range(y_train_onehot.shape[1]):\n",
    "        error = np.exp(np.matmul(X_train_bar,W))/np.sum(np.exp(np.matmul(X_train_bar,W)),axis=1).reshape(-1,1)\n",
    "        error = -y_train_onehot*np.log(error)\n",
    "        error = np.sum(np.mean(error,axis=0))\n",
    "    \n",
    "    list_W.append(W)\n",
    "    list_error.append(error)\n",
    "    \n",
    "    if epoch % 10000==0:\n",
    "        print(list_error[-1])"
   ]
  },
  {
   "cell_type": "code",
   "execution_count": 22,
   "metadata": {},
   "outputs": [
    {
     "data": {
      "text/plain": [
       "array([[2.42791825e-03, 9.53437217e-01, 4.41348644e-02],\n",
       "       [9.89126126e-01, 1.08738729e-02, 9.24445028e-10],\n",
       "       [1.34441608e-10, 3.78038399e-04, 9.99621961e-01],\n",
       "       [2.75844355e-03, 8.44783850e-01, 1.52457707e-01],\n",
       "       [3.81811239e-04, 8.60217960e-01, 1.39400228e-01],\n",
       "       [9.75575149e-01, 2.44248441e-02, 7.11129117e-09],\n",
       "       [3.47343322e-02, 9.54621788e-01, 1.06438793e-02],\n",
       "       [2.78084535e-06, 2.24757100e-02, 9.77521509e-01],\n",
       "       [1.03626745e-04, 5.61774991e-01, 4.38121382e-01],\n",
       "       [9.50435937e-03, 9.76065232e-01, 1.44304084e-02],\n",
       "       [9.31329779e-05, 1.46792975e-01, 8.53113892e-01],\n",
       "       [9.82203714e-01, 1.77962844e-02, 1.81434827e-09],\n",
       "       [9.89633143e-01, 1.03668562e-02, 4.60160587e-10],\n",
       "       [9.82891319e-01, 1.71086795e-02, 1.63377146e-09],\n",
       "       [9.97113183e-01, 2.88681721e-03, 2.03210484e-10],\n",
       "       [4.22940291e-03, 8.37962875e-01, 1.57807722e-01],\n",
       "       [6.48400461e-07, 8.72876243e-03, 9.91270589e-01],\n",
       "       [7.94918858e-03, 9.79520399e-01, 1.25304128e-02],\n",
       "       [5.24676138e-03, 9.31060802e-01, 6.36924367e-02],\n",
       "       [4.54843785e-07, 7.88810560e-03, 9.92111440e-01],\n",
       "       [9.88067549e-01, 1.19324488e-02, 2.19938914e-09],\n",
       "       [4.11385847e-04, 3.37323721e-01, 6.62264893e-01],\n",
       "       [9.85682592e-01, 1.43174026e-02, 5.60221236e-09],\n",
       "       [1.03641430e-06, 1.48078666e-02, 9.85191097e-01],\n",
       "       [5.96097200e-06, 8.30505079e-02, 9.16943531e-01],\n",
       "       [1.51105734e-06, 1.43720677e-02, 9.85626421e-01],\n",
       "       [7.24617470e-07, 3.86367557e-02, 9.61362520e-01],\n",
       "       [4.20490115e-07, 6.50315716e-03, 9.93496422e-01],\n",
       "       [9.73999053e-01, 2.60009376e-02, 9.47326836e-09],\n",
       "       [9.79813339e-01, 2.01866567e-02, 4.49286339e-09],\n",
       "       [9.99014294e-01, 9.85705891e-04, 2.65267198e-11],\n",
       "       [9.98863749e-01, 1.13625105e-03, 3.45481873e-11],\n",
       "       [2.69539836e-03, 9.56926379e-01, 4.03782228e-02],\n",
       "       [9.93074182e-01, 6.92581754e-03, 8.03186650e-10],\n",
       "       [9.95410516e-01, 4.58948331e-03, 5.36379806e-10],\n",
       "       [7.49874255e-06, 7.43963270e-02, 9.25596174e-01],\n",
       "       [4.43396910e-03, 9.18570804e-01, 7.69952268e-02],\n",
       "       [9.91691942e-01, 8.30805754e-03, 5.76892821e-10],\n",
       "       [9.96450179e-01, 3.54982058e-03, 1.75372341e-10],\n",
       "       [9.99209750e-01, 7.90250223e-04, 7.88086250e-12],\n",
       "       [3.50217863e-05, 8.23509758e-02, 9.17614002e-01],\n",
       "       [1.44602873e-02, 8.83806009e-01, 1.01733704e-01],\n",
       "       [1.30777842e-03, 8.78253382e-01, 1.20438840e-01],\n",
       "       [9.96946923e-01, 3.05307720e-03, 2.08987324e-10],\n",
       "       [9.94280663e-01, 5.71933663e-03, 2.42789235e-10],\n",
       "       [1.07881803e-02, 9.83281921e-01, 5.92989847e-03],\n",
       "       [3.46570028e-04, 6.21646059e-01, 3.78007371e-01],\n",
       "       [8.11331412e-05, 1.89254135e-01, 8.10664731e-01],\n",
       "       [2.20960125e-03, 9.46700257e-01, 5.10901413e-02],\n",
       "       [2.35695377e-07, 3.40331883e-03, 9.96596445e-01]])"
      ]
     },
     "execution_count": 22,
     "metadata": {},
     "output_type": "execute_result"
    }
   ],
   "source": [
    "#Tren tap Test\n",
    "\n",
    "exp_i = np.exp(np.matmul(X_test_bar, list_W[-1])) #100x5 mul 5x3 = 100x3\n",
    "exp_sum = np.sum(exp_i, 1) #100\n",
    "soft1 = exp_i/exp_sum.reshape(-1,1) #100x1\n",
    "soft1"
   ]
  },
  {
   "cell_type": "code",
   "execution_count": 23,
   "metadata": {},
   "outputs": [
    {
     "data": {
      "text/plain": [
       "0.98"
      ]
     },
     "execution_count": 23,
     "metadata": {},
     "output_type": "execute_result"
    }
   ],
   "source": [
    "exp_i = np.exp(np.matmul(X_test_bar, list_W[-1])) #100x5 mul 5x3 = 100x3\n",
    "exp_sum = np.sum(exp_iter, 1) #100\n",
    "np.mean(y_test.reshape(-1)==np.argmax(exp_iter/exp_sum.reshape(-1,1),axis=1))\n",
    "    "
   ]
  },
  {
   "cell_type": "markdown",
   "metadata": {},
   "source": [
    "So sánh với sklearn"
   ]
  },
  {
   "cell_type": "code",
   "execution_count": 24,
   "metadata": {},
   "outputs": [
    {
     "name": "stderr",
     "output_type": "stream",
     "text": [
      "C:\\Anaconda\\lib\\site-packages\\sklearn\\utils\\validation.py:760: DataConversionWarning: A column-vector y was passed when a 1d array was expected. Please change the shape of y to (n_samples, ), for example using ravel().\n",
      "  y = column_or_1d(y, warn=True)\n"
     ]
    },
    {
     "data": {
      "text/plain": [
       "0.9"
      ]
     },
     "execution_count": 24,
     "metadata": {},
     "output_type": "execute_result"
    }
   ],
   "source": [
    "from sklearn.linear_model import LogisticRegression\n",
    "clf = LogisticRegression(random_state=0).fit(X_train, y_train)\n",
    "clf.score(X_test,y_test)"
   ]
  }
 ],
 "metadata": {
  "kernelspec": {
   "display_name": "Python 3",
   "language": "python",
   "name": "python3"
  },
  "language_info": {
   "codemirror_mode": {
    "name": "ipython",
    "version": 3
   },
   "file_extension": ".py",
   "mimetype": "text/x-python",
   "name": "python",
   "nbconvert_exporter": "python",
   "pygments_lexer": "ipython3",
   "version": "3.7.6"
  }
 },
 "nbformat": 4,
 "nbformat_minor": 4
}
