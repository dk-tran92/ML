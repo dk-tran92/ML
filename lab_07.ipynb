{
 "cells": [
  {
   "cell_type": "markdown",
   "metadata": {
    "id": "JaIbKZNd43RB"
   },
   "source": [
    "**Lab-07 Decision Tree and Random Forest**"
   ]
  },
  {
   "cell_type": "markdown",
   "metadata": {
    "id": "X0hWxPfl49-x"
   },
   "source": [
    "Ở Bài thực hành này chúng ta sẽ tiến hành làm quen với thư viện sklearn thuật toán Decision Tree với các Parameters như max_depth, max_features...\n",
    "\n",
    "*Thuật toán Random Forest\n",
    "1. Lấy ngẫu nhiên $n$ dữ liệu từ bộ dữ liệu với kĩ thuật Bootstrapping, hay còn gọi là random sampling with replacement. Tức là chúng ta sẽ lấy mẫu một số dữ liệu từ tập dữ liệu ban đầu. Khi dùng kĩ thuật này thì tập n dữ liệu mới của mình có thể có những dữ liệu bị trùng nhau.\n",
    "2. Sau khi sample được n dữ liệu từ bước 1 thì mình chọn ngẫu nhiên k thuộc tính ($k$ < $m$, $m$ là số features). Giờ mình được bộ dữ liệu mới gồm n dữ liệu và mỗi dữ liệu có k thuộc tính.\n",
    "3. Dùng thuật toán Decision Tree để xây dựng cây quyết định với bộ dữ liệu ở bước 2.\n",
    "4. Sau khi có $n$ kết quả ta tiến hành voting, kết quả dự đoán của thuật toán Random Forest sẽ được tổng hợp từ các cây quyết định này.\n"
   ]
  },
  {
   "cell_type": "code",
   "execution_count": 1,
   "metadata": {
    "id": "JeKuVA4JA3iy"
   },
   "outputs": [],
   "source": [
    "import numpy as np\n",
    "import pandas as pd \n",
    "import matplotlib.pyplot as plt \n",
    "import seaborn as sns "
   ]
  },
  {
   "cell_type": "code",
   "execution_count": 2,
   "metadata": {
    "id": "IxqXzv0_A6AH"
   },
   "outputs": [],
   "source": [
    "df = pd.read_csv(\"https://raw.githubusercontent.com/huynhthanh98/ML/master/lab-07/bt1.csv\", header=None)"
   ]
  },
  {
   "cell_type": "code",
   "execution_count": 3,
   "metadata": {
    "colab": {
     "base_uri": "https://localhost:8080/"
    },
    "id": "XbcQWGtPBA5e",
    "outputId": "69d83e4c-125a-4cf3-ac5d-545043d55880"
   },
   "outputs": [
    {
     "data": {
      "text/plain": [
       "(1728, 7)"
      ]
     },
     "execution_count": 3,
     "metadata": {},
     "output_type": "execute_result"
    }
   ],
   "source": [
    "df.shape"
   ]
  },
  {
   "cell_type": "code",
   "execution_count": 4,
   "metadata": {
    "colab": {
     "base_uri": "https://localhost:8080/",
     "height": 195
    },
    "id": "xLJ6Vu7HPwgc",
    "outputId": "ab2bd2b6-558b-4a69-adec-1f0e9a59493f"
   },
   "outputs": [
    {
     "data": {
      "text/html": [
       "<div>\n",
       "<style scoped>\n",
       "    .dataframe tbody tr th:only-of-type {\n",
       "        vertical-align: middle;\n",
       "    }\n",
       "\n",
       "    .dataframe tbody tr th {\n",
       "        vertical-align: top;\n",
       "    }\n",
       "\n",
       "    .dataframe thead th {\n",
       "        text-align: right;\n",
       "    }\n",
       "</style>\n",
       "<table border=\"1\" class=\"dataframe\">\n",
       "  <thead>\n",
       "    <tr style=\"text-align: right;\">\n",
       "      <th></th>\n",
       "      <th>0</th>\n",
       "      <th>1</th>\n",
       "      <th>2</th>\n",
       "      <th>3</th>\n",
       "      <th>4</th>\n",
       "      <th>5</th>\n",
       "      <th>6</th>\n",
       "    </tr>\n",
       "  </thead>\n",
       "  <tbody>\n",
       "    <tr>\n",
       "      <th>0</th>\n",
       "      <td>vhigh</td>\n",
       "      <td>vhigh</td>\n",
       "      <td>2</td>\n",
       "      <td>2</td>\n",
       "      <td>small</td>\n",
       "      <td>low</td>\n",
       "      <td>unacc</td>\n",
       "    </tr>\n",
       "    <tr>\n",
       "      <th>1</th>\n",
       "      <td>vhigh</td>\n",
       "      <td>vhigh</td>\n",
       "      <td>2</td>\n",
       "      <td>2</td>\n",
       "      <td>small</td>\n",
       "      <td>med</td>\n",
       "      <td>unacc</td>\n",
       "    </tr>\n",
       "    <tr>\n",
       "      <th>2</th>\n",
       "      <td>vhigh</td>\n",
       "      <td>vhigh</td>\n",
       "      <td>2</td>\n",
       "      <td>2</td>\n",
       "      <td>small</td>\n",
       "      <td>high</td>\n",
       "      <td>unacc</td>\n",
       "    </tr>\n",
       "    <tr>\n",
       "      <th>3</th>\n",
       "      <td>vhigh</td>\n",
       "      <td>vhigh</td>\n",
       "      <td>2</td>\n",
       "      <td>2</td>\n",
       "      <td>med</td>\n",
       "      <td>low</td>\n",
       "      <td>unacc</td>\n",
       "    </tr>\n",
       "    <tr>\n",
       "      <th>4</th>\n",
       "      <td>vhigh</td>\n",
       "      <td>vhigh</td>\n",
       "      <td>2</td>\n",
       "      <td>2</td>\n",
       "      <td>med</td>\n",
       "      <td>med</td>\n",
       "      <td>unacc</td>\n",
       "    </tr>\n",
       "  </tbody>\n",
       "</table>\n",
       "</div>"
      ],
      "text/plain": [
       "       0      1  2  3      4     5      6\n",
       "0  vhigh  vhigh  2  2  small   low  unacc\n",
       "1  vhigh  vhigh  2  2  small   med  unacc\n",
       "2  vhigh  vhigh  2  2  small  high  unacc\n",
       "3  vhigh  vhigh  2  2    med   low  unacc\n",
       "4  vhigh  vhigh  2  2    med   med  unacc"
      ]
     },
     "execution_count": 4,
     "metadata": {},
     "output_type": "execute_result"
    }
   ],
   "source": [
    "df.head()"
   ]
  },
  {
   "cell_type": "markdown",
   "metadata": {
    "id": "HRKbaFPC7HpY"
   },
   "source": [
    "Data trong bài thực hành này gồm 7 features, từ 0 đến 6, do đó ta đặt tên lại cho từng feature"
   ]
  },
  {
   "cell_type": "code",
   "execution_count": 5,
   "metadata": {
    "colab": {
     "base_uri": "https://localhost:8080/"
    },
    "id": "jS4JVW08PzBv",
    "outputId": "f49af38c-9c19-4dcb-f0a2-d161505c0408"
   },
   "outputs": [
    {
     "data": {
      "text/plain": [
       "['buying', 'maint', 'doors', 'persons', 'lug_boot', 'safety', 'class']"
      ]
     },
     "execution_count": 5,
     "metadata": {},
     "output_type": "execute_result"
    }
   ],
   "source": [
    "col_names = ['buying', 'maint', 'doors', 'persons', 'lug_boot', 'safety', 'class']\n",
    "\n",
    "\n",
    "df.columns = col_names\n",
    "\n",
    "col_names"
   ]
  },
  {
   "cell_type": "code",
   "execution_count": 6,
   "metadata": {
    "colab": {
     "base_uri": "https://localhost:8080/"
    },
    "id": "2lktm5QxP0u-",
    "outputId": "e40e62c3-1922-4432-8ed6-84e954adc945",
    "scrolled": true
   },
   "outputs": [
    {
     "data": {
      "text/plain": [
       "buying      0\n",
       "maint       0\n",
       "doors       0\n",
       "persons     0\n",
       "lug_boot    0\n",
       "safety      0\n",
       "class       0\n",
       "dtype: int64"
      ]
     },
     "execution_count": 6,
     "metadata": {},
     "output_type": "execute_result"
    }
   ],
   "source": [
    "#Check xem có feature nào có null không\n",
    "df.isnull().sum()"
   ]
  },
  {
   "cell_type": "code",
   "execution_count": 7,
   "metadata": {
    "id": "rE1rayWXP7ZS"
   },
   "outputs": [],
   "source": [
    "# Chia ra tập training và tập testing\n",
    "X = df.drop(['class'], axis=1)\n",
    "\n",
    "y = df['class']\n",
    "\n",
    "from sklearn.model_selection import train_test_split\n",
    "\n",
    "X_train, X_test, y_train, y_test = train_test_split(X, y, test_size = 0.33, random_state = 42)"
   ]
  },
  {
   "cell_type": "code",
   "execution_count": 8,
   "metadata": {
    "colab": {
     "base_uri": "https://localhost:8080/"
    },
    "id": "k0khNHmhP9kC",
    "outputId": "bbb9da08-15e9-4605-f2d2-a52c5742ce70"
   },
   "outputs": [
    {
     "data": {
      "text/plain": [
       "((1157, 6), (571, 6))"
      ]
     },
     "execution_count": 8,
     "metadata": {},
     "output_type": "execute_result"
    }
   ],
   "source": [
    "# check the shape of X_train and X_test\n",
    "\n",
    "X_train.shape, X_test.shape"
   ]
  },
  {
   "cell_type": "code",
   "execution_count": 9,
   "metadata": {
    "colab": {
     "base_uri": "https://localhost:8080/"
    },
    "id": "oXQnV0VjP_j1",
    "outputId": "4d90271c-8b9e-4b15-ee46-4d70f9a4b26e"
   },
   "outputs": [],
   "source": [
    "#convert các feature từ string sang int\n",
    "import category_encoders as ce\n",
    "encoder = ce.OrdinalEncoder(cols=['buying', 'maint', 'doors', 'persons', 'lug_boot', 'safety'])\n",
    "\n",
    "\n",
    "X_train = encoder.fit_transform(X_train)\n",
    "\n",
    "X_test = encoder.transform(X_test)"
   ]
  },
  {
   "cell_type": "code",
   "execution_count": 10,
   "metadata": {
    "colab": {
     "base_uri": "https://localhost:8080/"
    },
    "id": "7QIKE9TTQB6W",
    "outputId": "513b6a08-e6e9-4b0b-f048-8f3dbb5a67ec"
   },
   "outputs": [
    {
     "data": {
      "text/plain": [
       "buying      int32\n",
       "maint       int32\n",
       "doors       int32\n",
       "persons     int32\n",
       "lug_boot    int32\n",
       "safety      int32\n",
       "dtype: object"
      ]
     },
     "execution_count": 10,
     "metadata": {},
     "output_type": "execute_result"
    }
   ],
   "source": [
    "#check type \n",
    "X_train.dtypes"
   ]
  },
  {
   "cell_type": "code",
   "execution_count": 11,
   "metadata": {
    "colab": {
     "base_uri": "https://localhost:8080/",
     "height": 195
    },
    "id": "XeeaOjElQ8gT",
    "outputId": "fc760966-ac61-4376-94ea-765376cfef78"
   },
   "outputs": [
    {
     "data": {
      "text/html": [
       "<div>\n",
       "<style scoped>\n",
       "    .dataframe tbody tr th:only-of-type {\n",
       "        vertical-align: middle;\n",
       "    }\n",
       "\n",
       "    .dataframe tbody tr th {\n",
       "        vertical-align: top;\n",
       "    }\n",
       "\n",
       "    .dataframe thead th {\n",
       "        text-align: right;\n",
       "    }\n",
       "</style>\n",
       "<table border=\"1\" class=\"dataframe\">\n",
       "  <thead>\n",
       "    <tr style=\"text-align: right;\">\n",
       "      <th></th>\n",
       "      <th>buying</th>\n",
       "      <th>maint</th>\n",
       "      <th>doors</th>\n",
       "      <th>persons</th>\n",
       "      <th>lug_boot</th>\n",
       "      <th>safety</th>\n",
       "    </tr>\n",
       "  </thead>\n",
       "  <tbody>\n",
       "    <tr>\n",
       "      <th>599</th>\n",
       "      <td>2</td>\n",
       "      <td>2</td>\n",
       "      <td>4</td>\n",
       "      <td>3</td>\n",
       "      <td>1</td>\n",
       "      <td>2</td>\n",
       "    </tr>\n",
       "    <tr>\n",
       "      <th>1201</th>\n",
       "      <td>4</td>\n",
       "      <td>3</td>\n",
       "      <td>3</td>\n",
       "      <td>2</td>\n",
       "      <td>1</td>\n",
       "      <td>3</td>\n",
       "    </tr>\n",
       "    <tr>\n",
       "      <th>628</th>\n",
       "      <td>2</td>\n",
       "      <td>2</td>\n",
       "      <td>2</td>\n",
       "      <td>3</td>\n",
       "      <td>3</td>\n",
       "      <td>3</td>\n",
       "    </tr>\n",
       "    <tr>\n",
       "      <th>1498</th>\n",
       "      <td>3</td>\n",
       "      <td>2</td>\n",
       "      <td>2</td>\n",
       "      <td>2</td>\n",
       "      <td>1</td>\n",
       "      <td>3</td>\n",
       "    </tr>\n",
       "    <tr>\n",
       "      <th>1263</th>\n",
       "      <td>4</td>\n",
       "      <td>3</td>\n",
       "      <td>4</td>\n",
       "      <td>1</td>\n",
       "      <td>1</td>\n",
       "      <td>1</td>\n",
       "    </tr>\n",
       "  </tbody>\n",
       "</table>\n",
       "</div>"
      ],
      "text/plain": [
       "      buying  maint  doors  persons  lug_boot  safety\n",
       "599        2      2      4        3         1       2\n",
       "1201       4      3      3        2         1       3\n",
       "628        2      2      2        3         3       3\n",
       "1498       3      2      2        2         1       3\n",
       "1263       4      3      4        1         1       1"
      ]
     },
     "execution_count": 11,
     "metadata": {},
     "output_type": "execute_result"
    }
   ],
   "source": [
    "X_test.head()"
   ]
  },
  {
   "cell_type": "code",
   "execution_count": 12,
   "metadata": {
    "id": "k43S36JBQ9Ui"
   },
   "outputs": [],
   "source": [
    "from sklearn import tree\n",
    "from sklearn.tree import DecisionTreeClassifier"
   ]
  },
  {
   "cell_type": "code",
   "execution_count": 13,
   "metadata": {
    "colab": {
     "base_uri": "https://localhost:8080/"
    },
    "id": "FKIW739HQ_r1",
    "outputId": "1c49a744-2347-40ea-9e7e-75303d2c2281"
   },
   "outputs": [
    {
     "data": {
      "text/plain": [
       "DecisionTreeClassifier(ccp_alpha=0.0, class_weight=None, criterion='entropy',\n",
       "                       max_depth=3, max_features=None, max_leaf_nodes=None,\n",
       "                       min_impurity_decrease=0.0, min_impurity_split=None,\n",
       "                       min_samples_leaf=1, min_samples_split=2,\n",
       "                       min_weight_fraction_leaf=0.0, presort='deprecated',\n",
       "                       random_state=0, splitter='best')"
      ]
     },
     "execution_count": 13,
     "metadata": {},
     "output_type": "execute_result"
    }
   ],
   "source": [
    "clf_gini = DecisionTreeClassifier(criterion='entropy', max_depth=3, random_state=0, max_features=None) \n",
    "#max_feature=None nghĩa lấy hết các features\n",
    "#max_depth là độ sâu của cây \n",
    "#criterion là chọn phương pháp để đánh giá khi phân chia nhánh, trong lý thuyết mình chỉ được học entropy \n",
    "\n",
    "# fit the model\n",
    "clf_gini.fit(X_train, y_train)"
   ]
  },
  {
   "cell_type": "code",
   "execution_count": 14,
   "metadata": {
    "colab": {
     "base_uri": "https://localhost:8080/"
    },
    "id": "YVFqBYzyRBHw",
    "outputId": "74cb44af-262b-4f8b-e87b-509498039bb1"
   },
   "outputs": [
    {
     "name": "stdout",
     "output_type": "stream",
     "text": [
      "Model accuracy score with criterion gini index: 0.8021\n"
     ]
    }
   ],
   "source": [
    "accuracy = clf_gini.score(X_test,y_test)\n",
    "print('Model accuracy score with criterion gini index: {0:0.4f}'. format(accuracy))"
   ]
  },
  {
   "cell_type": "code",
   "execution_count": 15,
   "metadata": {
    "colab": {
     "base_uri": "https://localhost:8080/"
    },
    "id": "UOk11ns-Rhre",
    "outputId": "227db90b-4ff3-4264-ce6f-66bfc4066647"
   },
   "outputs": [
    {
     "name": "stdout",
     "output_type": "stream",
     "text": [
      "Training-set accuracy score: 0.7865\n"
     ]
    }
   ],
   "source": [
    "#Check accuracy trên tập training để xem model có bị overfitting hay không\n",
    "y_pred_train_gini = clf_gini.predict(X_train)\n",
    "y_pred_train_gini\n",
    "print('Training-set accuracy score: {0:0.4f}'. format(clf_gini.score(X_train,y_train)))"
   ]
  },
  {
   "cell_type": "code",
   "execution_count": 16,
   "metadata": {
    "scrolled": false
   },
   "outputs": [
    {
     "data": {
      "text/plain": [
       "[Text(133.92000000000002, 190.26, 'X[5] <= 1.5\\nentropy = 1.2\\nsamples = 1157\\nvalue = [255, 49, 813, 40]'),\n",
       " Text(66.96000000000001, 135.9, 'entropy = 0.0\\nsamples = 386\\nvalue = [0, 0, 386, 0]'),\n",
       " Text(200.88000000000002, 135.9, 'X[3] <= 2.5\\nentropy = 1.474\\nsamples = 771\\nvalue = [255, 49, 427, 40]'),\n",
       " Text(133.92000000000002, 81.53999999999999, 'X[0] <= 2.5\\nentropy = 1.638\\nsamples = 525\\nvalue = [255, 49, 181, 40]'),\n",
       " Text(66.96000000000001, 27.180000000000007, 'entropy = 0.995\\nsamples = 271\\nvalue = [124, 0, 147, 0]'),\n",
       " Text(200.88000000000002, 27.180000000000007, 'entropy = 1.759\\nsamples = 254\\nvalue = [131, 49, 34, 40]'),\n",
       " Text(267.84000000000003, 81.53999999999999, 'entropy = 0.0\\nsamples = 246\\nvalue = [0, 0, 246, 0]')]"
      ]
     },
     "execution_count": 16,
     "metadata": {},
     "output_type": "execute_result"
    },
    {
     "data": {
      "image/png": "[encoded data removed]",
      "text/plain": [
       "<Figure size 432x288 with 1 Axes>"
      ]
     },
     "metadata": {
      "needs_background": "light"
     },
     "output_type": "display_data"
    }
   ],
   "source": [
    "tree.plot_tree(clf_gini)"
   ]
  },
  {
   "cell_type": "code",
   "execution_count": null,
   "metadata": {
    "colab": {
     "base_uri": "https://localhost:8080/",
     "height": 594
    },
    "id": "3My6UzsYVPGx",
    "outputId": "75ec56cc-d96e-4815-efe6-9ec397a6dfdc",
    "scrolled": true
   },
   "outputs": [],
   "source": [
    "#Vẽ thử cây ra\n",
    "from sklearn.tree import export_graphviz\n",
    "from sklearn.externals.six import StringIO  \n",
    "from IPython.display import Image  \n",
    "import pydotplus\n",
    "\n",
    "dot_data = StringIO()\n",
    "export_graphviz(clf_gini, out_file=dot_data,  \n",
    "                filled=True, rounded=True,\n",
    "                special_characters=True,feature_names=X_train.columns,class_names=list(y_train.unique()))\n",
    "graph = pydotplus.graph_from_dot_data(dot_data.getvalue())  \n",
    "graph.write_png('diabetes.png')\n",
    "Image(graph.create_png())"
   ]
  },
  {
   "cell_type": "markdown",
   "metadata": {},
   "source": [
    "# Bài tập"
   ]
  },
  {
   "cell_type": "markdown",
   "metadata": {
    "id": "MyJMr508DXSE"
   },
   "source": [
    "1. Hãy thử thay đổi Max_depth để tăng accuracy trên tập testing, vẽ cây với Max_depth đã thay đổi.\n",
    "2. max_depth ảnh hưởng như thế nào đối với mô hình decision tree, vì sao?\n",
    "3. Dùng dataset bên dưới, từ mô hình Decision Tree hãy code thêm mô hình Random Forest như thuật toán đã học. Thử tìm hiểu cách dùng Random Forest trong sklearn để so sánh kết quả."
   ]
  },
  {
   "cell_type": "markdown",
   "metadata": {},
   "source": [
    "1. Thay đổi Max_depth để tăng accuracy trên tập testing"
   ]
  },
  {
   "cell_type": "code",
   "execution_count": 78,
   "metadata": {},
   "outputs": [
    {
     "name": "stdout",
     "output_type": "stream",
     "text": [
      "Model accuracy score with depth=1 in Test set and Training set are: 0.7619 --- 0.7244\n",
      "Model accuracy score with depth=2 in Test set and Training set are: 0.7706 --- 0.7635\n",
      "Model accuracy score with depth=3 in Test set and Training set are: 0.7706 --- 0.7635\n",
      "Model accuracy score with depth=4 in Test set and Training set are: 0.7879 --- 0.7858\n",
      "Model accuracy score with depth=5 in Test set and Training set are: 0.7879 --- 0.8361\n",
      "Model accuracy score with depth=6 in Test set and Training set are: 0.7619 --- 0.8622\n",
      "Model accuracy score with depth=7 in Test set and Training set are: 0.7835 --- 0.8864\n",
      "Model accuracy score with depth=8 in Test set and Training set are: 0.7662 --- 0.9199\n",
      "Model accuracy score with depth=9 in Test set and Training set are: 0.7013 --- 0.9479\n",
      "Model accuracy score with depth=10 in Test set and Training set are: 0.7359 --- 0.9683\n",
      "Model accuracy score with depth=11 in Test set and Training set are: 0.7359 --- 0.9777\n",
      "Model accuracy score with depth=12 in Test set and Training set are: 0.7186 --- 0.9926\n",
      "Model accuracy score with depth=13 in Test set and Training set are: 0.7359 --- 0.9944\n",
      "Model accuracy score with depth=14 in Test set and Training set are: 0.7316 --- 1.0000\n",
      "Model accuracy score with depth=15 in Test set and Training set are: 0.7316 --- 1.0000\n"
     ]
    }
   ],
   "source": [
    "from sklearn import tree\n",
    "from sklearn.tree import DecisionTreeClassifier\n",
    "\n",
    "\n",
    "\n",
    "test_accs = []\n",
    "train_accs = []\n",
    "depths = [i for i in range(1,16)] #Thử với các độ sâu từ 1-15\n",
    "for depth in depths:\n",
    "    clf_entropy = DecisionTreeClassifier(criterion='entropy', max_depth=depth, random_state=0, max_features=None) \n",
    "    #max_feature=None nghĩa lấy hết các features\n",
    "    #max_depth là độ sâu của cây \n",
    "    #criterion là chọn phương pháp để đánh giá khi phân chia nhánh, trong lý thuyết mình chỉ được học entropy \n",
    "\n",
    "    # fit the model\n",
    "    clf_entropy.fit(X_train, y_train)\n",
    "    \n",
    "    accuracy = clf_entropy.score(X_test, y_test)\n",
    "    accuracy_train = clf_entropy.score(X_train, y_train)\n",
    "    \n",
    "    test_accs.append(accuracy)\n",
    "    train_accs.append(accuracy_train)\n",
    "    \n",
    "    print('Model accuracy score with depth={0} in Test set and Training set are: {1:0.4f} --- {2:0.4f}'.format(depth, accuracy, accuracy_train))"
   ]
  },
  {
   "cell_type": "code",
   "execution_count": 79,
   "metadata": {},
   "outputs": [
    {
     "data": {
      "image/png": "[encoded data removed]",
      "text/plain": [
       "<Figure size 720x360 with 1 Axes>"
      ]
     },
     "metadata": {
      "needs_background": "light"
     },
     "output_type": "display_data"
    }
   ],
   "source": [
    "import matplotlib.pyplot as plt\n",
    "\n",
    "def plot_acc(test, train, depth_lst):\n",
    "    plt.figure(figsize=(10,5))\n",
    "    plt.plot(depth_lst, test, 'go-', label='Test Accuracy')\n",
    "    plt.plot(depth_lst, train, 'rs-', label='Train Accuracy')\n",
    "    plt.xlabel('Depth')\n",
    "    plt.ylabel('Accuracy')\n",
    "\n",
    "    plt.legend()\n",
    "    plt.show()\n",
    "\n",
    "plot_acc(test_accs, train_accs, depths)\n",
    "    "
   ]
  },
  {
   "cell_type": "markdown",
   "metadata": {},
   "source": [
    "Vẽ cây với Max_depth=4, chính là vị trí mà accuracy trên 2 tập Train và Test gần nhau nhất\n",
    "\n",
    "Với độ sâu 4 thì Decision Tree cho Accuracy cao nhất và không bị overfitting"
   ]
  },
  {
   "cell_type": "code",
   "execution_count": 81,
   "metadata": {},
   "outputs": [],
   "source": [
    "#Vẽ cây\n"
   ]
  },
  {
   "cell_type": "markdown",
   "metadata": {},
   "source": [
    "2. Max_depth ảnh hưởng như thế nào đối với mô hình decision tree, vì sao?\n",
    "\n",
    "Độ sâu tối đa của một nhánh trong Decision Tree sẽ ảnh hưởng đến perfomance của mô hình Decision Tree\n",
    "- Nếu độ sâu quá nhỏ, các nhánh trong cây sẽ chưa đạt được độ Pure đủ lớn, Entropy (một số) node lá còn cao. Chính là trường hợp underfitting\n",
    "- Nếu độ sâu của cây quá lớn, tất cả các nhánh đều Pure, Entropy đều bằng 0 tại node lá. Trên tập test lúc này sẽ có kết quả dự đoán là 100%. Trong khi tập test, hoặc data thực tế sẽ cho kết quả dự đoán tệ. Mô hình overfitting"
   ]
  },
  {
   "cell_type": "markdown",
   "metadata": {},
   "source": [
    "3. Dùng dataset bên dưới, từ mô hình Decision Tree hãy code thêm mô hình Random Forest như thuật toán đã học. Thử tìm hiểu cách dùng Random Forest trong sklearn để so sánh kết quả."
   ]
  },
  {
   "cell_type": "code",
   "execution_count": 83,
   "metadata": {
    "id": "tUz-64CGgsz5"
   },
   "outputs": [],
   "source": [
    "# Load libraries\n",
    "import pandas as pd\n",
    "from sklearn.tree import DecisionTreeClassifier # Import Decision Tree Classifier\n",
    "from sklearn.model_selection import train_test_split # Import train_test_split function\n",
    "from sklearn import metrics #Import scikit-learn metrics module for accuracy calculation"
   ]
  },
  {
   "cell_type": "code",
   "execution_count": 84,
   "metadata": {
    "colab": {
     "base_uri": "https://localhost:8080/",
     "height": 402
    },
    "id": "1hBjDu_Pguap",
    "outputId": "9505d1cf-6bde-4427-8546-a177bfa52a75",
    "scrolled": true
   },
   "outputs": [
    {
     "data": {
      "text/html": [
       "<div>\n",
       "<style scoped>\n",
       "    .dataframe tbody tr th:only-of-type {\n",
       "        vertical-align: middle;\n",
       "    }\n",
       "\n",
       "    .dataframe tbody tr th {\n",
       "        vertical-align: top;\n",
       "    }\n",
       "\n",
       "    .dataframe thead th {\n",
       "        text-align: right;\n",
       "    }\n",
       "</style>\n",
       "<table border=\"1\" class=\"dataframe\">\n",
       "  <thead>\n",
       "    <tr style=\"text-align: right;\">\n",
       "      <th></th>\n",
       "      <th>Pregnancies</th>\n",
       "      <th>Glucose</th>\n",
       "      <th>BloodPressure</th>\n",
       "      <th>SkinThickness</th>\n",
       "      <th>Insulin</th>\n",
       "      <th>BMI</th>\n",
       "      <th>DiabetesPedigreeFunction</th>\n",
       "      <th>Age</th>\n",
       "      <th>Outcome</th>\n",
       "    </tr>\n",
       "  </thead>\n",
       "  <tbody>\n",
       "    <tr>\n",
       "      <th>0</th>\n",
       "      <td>6</td>\n",
       "      <td>148</td>\n",
       "      <td>72</td>\n",
       "      <td>35</td>\n",
       "      <td>0</td>\n",
       "      <td>33.6</td>\n",
       "      <td>0.627</td>\n",
       "      <td>50</td>\n",
       "      <td>1</td>\n",
       "    </tr>\n",
       "    <tr>\n",
       "      <th>1</th>\n",
       "      <td>1</td>\n",
       "      <td>85</td>\n",
       "      <td>66</td>\n",
       "      <td>29</td>\n",
       "      <td>0</td>\n",
       "      <td>26.6</td>\n",
       "      <td>0.351</td>\n",
       "      <td>31</td>\n",
       "      <td>0</td>\n",
       "    </tr>\n",
       "    <tr>\n",
       "      <th>2</th>\n",
       "      <td>8</td>\n",
       "      <td>183</td>\n",
       "      <td>64</td>\n",
       "      <td>0</td>\n",
       "      <td>0</td>\n",
       "      <td>23.3</td>\n",
       "      <td>0.672</td>\n",
       "      <td>32</td>\n",
       "      <td>1</td>\n",
       "    </tr>\n",
       "    <tr>\n",
       "      <th>3</th>\n",
       "      <td>1</td>\n",
       "      <td>89</td>\n",
       "      <td>66</td>\n",
       "      <td>23</td>\n",
       "      <td>94</td>\n",
       "      <td>28.1</td>\n",
       "      <td>0.167</td>\n",
       "      <td>21</td>\n",
       "      <td>0</td>\n",
       "    </tr>\n",
       "    <tr>\n",
       "      <th>4</th>\n",
       "      <td>0</td>\n",
       "      <td>137</td>\n",
       "      <td>40</td>\n",
       "      <td>35</td>\n",
       "      <td>168</td>\n",
       "      <td>43.1</td>\n",
       "      <td>2.288</td>\n",
       "      <td>33</td>\n",
       "      <td>1</td>\n",
       "    </tr>\n",
       "    <tr>\n",
       "      <th>...</th>\n",
       "      <td>...</td>\n",
       "      <td>...</td>\n",
       "      <td>...</td>\n",
       "      <td>...</td>\n",
       "      <td>...</td>\n",
       "      <td>...</td>\n",
       "      <td>...</td>\n",
       "      <td>...</td>\n",
       "      <td>...</td>\n",
       "    </tr>\n",
       "    <tr>\n",
       "      <th>763</th>\n",
       "      <td>10</td>\n",
       "      <td>101</td>\n",
       "      <td>76</td>\n",
       "      <td>48</td>\n",
       "      <td>180</td>\n",
       "      <td>32.9</td>\n",
       "      <td>0.171</td>\n",
       "      <td>63</td>\n",
       "      <td>0</td>\n",
       "    </tr>\n",
       "    <tr>\n",
       "      <th>764</th>\n",
       "      <td>2</td>\n",
       "      <td>122</td>\n",
       "      <td>70</td>\n",
       "      <td>27</td>\n",
       "      <td>0</td>\n",
       "      <td>36.8</td>\n",
       "      <td>0.340</td>\n",
       "      <td>27</td>\n",
       "      <td>0</td>\n",
       "    </tr>\n",
       "    <tr>\n",
       "      <th>765</th>\n",
       "      <td>5</td>\n",
       "      <td>121</td>\n",
       "      <td>72</td>\n",
       "      <td>23</td>\n",
       "      <td>112</td>\n",
       "      <td>26.2</td>\n",
       "      <td>0.245</td>\n",
       "      <td>30</td>\n",
       "      <td>0</td>\n",
       "    </tr>\n",
       "    <tr>\n",
       "      <th>766</th>\n",
       "      <td>1</td>\n",
       "      <td>126</td>\n",
       "      <td>60</td>\n",
       "      <td>0</td>\n",
       "      <td>0</td>\n",
       "      <td>30.1</td>\n",
       "      <td>0.349</td>\n",
       "      <td>47</td>\n",
       "      <td>1</td>\n",
       "    </tr>\n",
       "    <tr>\n",
       "      <th>767</th>\n",
       "      <td>1</td>\n",
       "      <td>93</td>\n",
       "      <td>70</td>\n",
       "      <td>31</td>\n",
       "      <td>0</td>\n",
       "      <td>30.4</td>\n",
       "      <td>0.315</td>\n",
       "      <td>23</td>\n",
       "      <td>0</td>\n",
       "    </tr>\n",
       "  </tbody>\n",
       "</table>\n",
       "<p>768 rows × 9 columns</p>\n",
       "</div>"
      ],
      "text/plain": [
       "     Pregnancies  Glucose  BloodPressure  SkinThickness  Insulin   BMI  \\\n",
       "0              6      148             72             35        0  33.6   \n",
       "1              1       85             66             29        0  26.6   \n",
       "2              8      183             64              0        0  23.3   \n",
       "3              1       89             66             23       94  28.1   \n",
       "4              0      137             40             35      168  43.1   \n",
       "..           ...      ...            ...            ...      ...   ...   \n",
       "763           10      101             76             48      180  32.9   \n",
       "764            2      122             70             27        0  36.8   \n",
       "765            5      121             72             23      112  26.2   \n",
       "766            1      126             60              0        0  30.1   \n",
       "767            1       93             70             31        0  30.4   \n",
       "\n",
       "     DiabetesPedigreeFunction  Age  Outcome  \n",
       "0                       0.627   50        1  \n",
       "1                       0.351   31        0  \n",
       "2                       0.672   32        1  \n",
       "3                       0.167   21        0  \n",
       "4                       2.288   33        1  \n",
       "..                        ...  ...      ...  \n",
       "763                     0.171   63        0  \n",
       "764                     0.340   27        0  \n",
       "765                     0.245   30        0  \n",
       "766                     0.349   47        1  \n",
       "767                     0.315   23        0  \n",
       "\n",
       "[768 rows x 9 columns]"
      ]
     },
     "execution_count": 84,
     "metadata": {},
     "output_type": "execute_result"
    }
   ],
   "source": [
    "data=pd.read_csv(\"https://raw.githubusercontent.com/huynhthanh98/ML/master/lab-07/bt2.csv\")\n",
    "data"
   ]
  },
  {
   "cell_type": "markdown",
   "metadata": {
    "id": "JkUXxRmkldrf"
   },
   "source": [
    "Đây là data dự đoán một người có bị bênh tiểu đường hay không"
   ]
  },
  {
   "cell_type": "code",
   "execution_count": 85,
   "metadata": {
    "id": "N9txKM3byzro"
   },
   "outputs": [],
   "source": [
    "X_train, X_test, y_train, y_test = train_test_split(data[data.columns.difference([\"Outcome\"])], data[\"Outcome\"], test_size=0.3, random_state=1) # 70% training and 30% test"
   ]
  },
  {
   "cell_type": "code",
   "execution_count": 86,
   "metadata": {
    "scrolled": true
   },
   "outputs": [
    {
     "data": {
      "text/plain": [
       "(537, 8)"
      ]
     },
     "execution_count": 86,
     "metadata": {},
     "output_type": "execute_result"
    }
   ],
   "source": [
    "X_train.shape #Check no of features"
   ]
  },
  {
   "cell_type": "code",
   "execution_count": 87,
   "metadata": {
    "scrolled": true
   },
   "outputs": [
    {
     "name": "stdout",
     "output_type": "stream",
     "text": [
      "Model accuracy score with depth=1 in Test set and Training set are: 0.7619 --- 0.7244\n",
      "Model accuracy score with depth=2 in Test set and Training set are: 0.7706 --- 0.7635\n",
      "Model accuracy score with depth=3 in Test set and Training set are: 0.7706 --- 0.7635\n",
      "Model accuracy score with depth=4 in Test set and Training set are: 0.7879 --- 0.7858\n",
      "Model accuracy score with depth=5 in Test set and Training set are: 0.7879 --- 0.8361\n",
      "Model accuracy score with depth=6 in Test set and Training set are: 0.7619 --- 0.8622\n",
      "Model accuracy score with depth=7 in Test set and Training set are: 0.7835 --- 0.8864\n",
      "Model accuracy score with depth=8 in Test set and Training set are: 0.7662 --- 0.9199\n",
      "Model accuracy score with depth=9 in Test set and Training set are: 0.7013 --- 0.9479\n",
      "Model accuracy score with depth=10 in Test set and Training set are: 0.7359 --- 0.9683\n",
      "Model accuracy score with depth=11 in Test set and Training set are: 0.7359 --- 0.9777\n",
      "Model accuracy score with depth=12 in Test set and Training set are: 0.7186 --- 0.9926\n",
      "Model accuracy score with depth=13 in Test set and Training set are: 0.7359 --- 0.9944\n",
      "Model accuracy score with depth=14 in Test set and Training set are: 0.7316 --- 1.0000\n",
      "Model accuracy score with depth=15 in Test set and Training set are: 0.7316 --- 1.0000\n",
      "Model accuracy score with depth=16 in Test set and Training set are: 0.7316 --- 1.0000\n",
      "Model accuracy score with depth=17 in Test set and Training set are: 0.7316 --- 1.0000\n",
      "Model accuracy score with depth=18 in Test set and Training set are: 0.7316 --- 1.0000\n",
      "Model accuracy score with depth=19 in Test set and Training set are: 0.7316 --- 1.0000\n"
     ]
    }
   ],
   "source": [
    "from sklearn import tree\n",
    "from sklearn.tree import DecisionTreeClassifier\n",
    "\n",
    "#Mô hình Decision Tree thuần, với một cây duy nhất.\n",
    "test_accs = []\n",
    "train_accs = []\n",
    "depths = [i for i in range(1,20)]\n",
    "for depth in depths:\n",
    "    clf_entropy = DecisionTreeClassifier(criterion='entropy', max_depth=depth, random_state=0, max_features=None) \n",
    "    #max_feature=None nghĩa là lấy hết các features\n",
    "    #max_depth: độ sâu của cây \n",
    "    #criterion: tiêu chuẩn đánh giá khi phân chia nhánh\n",
    "\n",
    "    # fit the model\n",
    "    clf_entropy = clf_entropy.fit(X_train, y_train)\n",
    "    \n",
    "    accuracy = clf_entropy.score(X_test, y_test)\n",
    "    accuracy_train = clf_entropy.score(X_train, y_train)\n",
    "    \n",
    "    test_accs.append(accuracy)\n",
    "    train_accs.append(accuracy_train)\n",
    "    print('Model accuracy score with depth={0} in Test set and Training set are: {1:0.4f} --- {2:0.4f}'.format(depth, accuracy, accuracy_train))"
   ]
  },
  {
   "cell_type": "code",
   "execution_count": 88,
   "metadata": {},
   "outputs": [
    {
     "data": {
      "image/png": "[encoded data removed]",
      "text/plain": [
       "<Figure size 720x360 with 1 Axes>"
      ]
     },
     "metadata": {
      "needs_background": "light"
     },
     "output_type": "display_data"
    }
   ],
   "source": [
    "plot_acc(test_accs, train_accs, depths)"
   ]
  },
  {
   "cell_type": "markdown",
   "metadata": {},
   "source": [
    "Xây dựng thuật toán cho Random Forest"
   ]
  },
  {
   "cell_type": "code",
   "execution_count": 89,
   "metadata": {},
   "outputs": [],
   "source": [
    "from random import randrange, sample, choices\n",
    "from pandas import DataFrame\n",
    "\n",
    "#Hàm lấy tập con trên tập dữ liệu (đã tách nhãn) cho trước\n",
    "def subsample(dataset, label, ratio):\n",
    "    sample = list()\n",
    "    sample_label = list()\n",
    "    n_sample = round(len(dataset) * ratio)\n",
    "    while len(sample) < n_sample:\n",
    "        index = randrange(len(dataset))\n",
    "        sample.append(dataset.iloc[index,])\n",
    "        sample_label.append(label.values[index])\n",
    "    return DataFrame(sample), sample_label\n",
    "\n",
    "#Chọn random n_features trong data set có nhiều feature\n",
    "def subfeatures(dataset, n_features):\n",
    "    return sample(list(dataset.columns.values), k=n_features)"
   ]
  },
  {
   "cell_type": "code",
   "execution_count": 90,
   "metadata": {},
   "outputs": [
    {
     "data": {
      "text/plain": [
       "['BMI', 'Age', 'DiabetesPedigreeFunction', 'BloodPressure', 'SkinThickness']"
      ]
     },
     "execution_count": 90,
     "metadata": {},
     "output_type": "execute_result"
    }
   ],
   "source": [
    "random_features = sample(list(X_test.columns.values), k=5)\n",
    "random_features"
   ]
  },
  {
   "cell_type": "code",
   "execution_count": 100,
   "metadata": {},
   "outputs": [],
   "source": [
    "def subtrees_predict(X_train, y_train, X_test, y_test, n_trees, size_subset, n_feature):\n",
    "    '''\n",
    "    Input:\n",
    "    n_trees: Số cây con\n",
    "    size_subset: Tỉ lệ tập con (để xây dựng cây con) so với tập train [0:1]\n",
    "    n_feature: Số features cây con sử dụng\n",
    "    \n",
    "    Return: Dataframe chứa thông tin dự đoán của từng cây con trên tập test\n",
    "    '''\n",
    "    d = {'index': [i for i in range(len(X_test))]}\n",
    "    df_predict = pd.DataFrame(data=d)\n",
    "    \n",
    "    for i in range(n_trees): #Random forest với n_trees cây con\n",
    "        subset, subset_label = subsample(X_train, y_train, size_subset)# Lấy ra 1 tập con bằng size_subset tổng tập Train\n",
    "        clf = DecisionTreeClassifier(criterion='entropy', max_depth=None, random_state=0, max_features=None) \n",
    "        #max_feature=None: lấy hết các features do sẽ tách tập con với số feature nhỏ hơn ban đầu\n",
    "        #max_depth=None: chia đến khi nhánh pure\n",
    "\n",
    "        sub_features = subfeatures(subset, n_feature) #lấy ra ramdom n_feature features trong tổng số 8 feartures của bộ dữ liệu\n",
    "\n",
    "        # fit the model\n",
    "        clf = clf.fit(subset[sub_features], subset_label) #Train 1 cây con với tập data nhỏ và nhãn tương ứng\n",
    "        predicted = clf.predict(X_test[sub_features]) #Predict với cây này trên tập Test\n",
    "        column_name = \"Tree_\" + str(i)\n",
    "        df_predict[column_name] = predicted #Lưu vào data frame\n",
    "    \n",
    "    \n",
    "    df_predict = df_predict.drop(['index'], axis=1)\n",
    "    return df_predict\n",
    "\n",
    "\n",
    "\n",
    "def vote(df):\n",
    "    '''\n",
    "    Input: df là output của hàm subtrees_predict()\n",
    "    Return: Dataframe chứa thông tin dự đoán của từng cây con trên tập test và add thêm cột kết quả vote của các cây con\n",
    "    '''\n",
    "    voted = []\n",
    "    for i in range(len(df)):\n",
    "        predictions = list(df.iloc[i,])\n",
    "        voted.append(max(set(predictions), key=predictions.count))\n",
    "\n",
    "    df['Voted'] = voted\n",
    "    return df\n",
    "\n",
    "\n",
    "def Random_Forest(X_train, y_train, X_test, y_test, n_trees, size_subset, n_feature):\n",
    "    df_test_predict = subtrees_predict(X_train, y_train, X_test, y_test, n_trees, size_subset, n_feature)\n",
    "    return vote(df_test_predict)"
   ]
  },
  {
   "cell_type": "code",
   "execution_count": 114,
   "metadata": {
    "scrolled": true
   },
   "outputs": [
    {
     "data": {
      "text/html": [
       "<div>\n",
       "<style scoped>\n",
       "    .dataframe tbody tr th:only-of-type {\n",
       "        vertical-align: middle;\n",
       "    }\n",
       "\n",
       "    .dataframe tbody tr th {\n",
       "        vertical-align: top;\n",
       "    }\n",
       "\n",
       "    .dataframe thead th {\n",
       "        text-align: right;\n",
       "    }\n",
       "</style>\n",
       "<table border=\"1\" class=\"dataframe\">\n",
       "  <thead>\n",
       "    <tr style=\"text-align: right;\">\n",
       "      <th></th>\n",
       "      <th>Tree_0</th>\n",
       "      <th>Tree_1</th>\n",
       "      <th>Tree_2</th>\n",
       "      <th>Tree_3</th>\n",
       "      <th>Tree_4</th>\n",
       "    </tr>\n",
       "  </thead>\n",
       "  <tbody>\n",
       "    <tr>\n",
       "      <th>0</th>\n",
       "      <td>0</td>\n",
       "      <td>0</td>\n",
       "      <td>1</td>\n",
       "      <td>0</td>\n",
       "      <td>0</td>\n",
       "    </tr>\n",
       "    <tr>\n",
       "      <th>1</th>\n",
       "      <td>1</td>\n",
       "      <td>0</td>\n",
       "      <td>1</td>\n",
       "      <td>0</td>\n",
       "      <td>0</td>\n",
       "    </tr>\n",
       "    <tr>\n",
       "      <th>2</th>\n",
       "      <td>0</td>\n",
       "      <td>0</td>\n",
       "      <td>0</td>\n",
       "      <td>0</td>\n",
       "      <td>0</td>\n",
       "    </tr>\n",
       "    <tr>\n",
       "      <th>3</th>\n",
       "      <td>0</td>\n",
       "      <td>0</td>\n",
       "      <td>0</td>\n",
       "      <td>1</td>\n",
       "      <td>0</td>\n",
       "    </tr>\n",
       "    <tr>\n",
       "      <th>4</th>\n",
       "      <td>0</td>\n",
       "      <td>0</td>\n",
       "      <td>0</td>\n",
       "      <td>1</td>\n",
       "      <td>0</td>\n",
       "    </tr>\n",
       "    <tr>\n",
       "      <th>...</th>\n",
       "      <td>...</td>\n",
       "      <td>...</td>\n",
       "      <td>...</td>\n",
       "      <td>...</td>\n",
       "      <td>...</td>\n",
       "    </tr>\n",
       "    <tr>\n",
       "      <th>226</th>\n",
       "      <td>0</td>\n",
       "      <td>1</td>\n",
       "      <td>0</td>\n",
       "      <td>1</td>\n",
       "      <td>0</td>\n",
       "    </tr>\n",
       "    <tr>\n",
       "      <th>227</th>\n",
       "      <td>0</td>\n",
       "      <td>0</td>\n",
       "      <td>0</td>\n",
       "      <td>0</td>\n",
       "      <td>0</td>\n",
       "    </tr>\n",
       "    <tr>\n",
       "      <th>228</th>\n",
       "      <td>0</td>\n",
       "      <td>0</td>\n",
       "      <td>0</td>\n",
       "      <td>0</td>\n",
       "      <td>0</td>\n",
       "    </tr>\n",
       "    <tr>\n",
       "      <th>229</th>\n",
       "      <td>1</td>\n",
       "      <td>0</td>\n",
       "      <td>1</td>\n",
       "      <td>0</td>\n",
       "      <td>1</td>\n",
       "    </tr>\n",
       "    <tr>\n",
       "      <th>230</th>\n",
       "      <td>1</td>\n",
       "      <td>0</td>\n",
       "      <td>0</td>\n",
       "      <td>1</td>\n",
       "      <td>1</td>\n",
       "    </tr>\n",
       "  </tbody>\n",
       "</table>\n",
       "<p>231 rows × 5 columns</p>\n",
       "</div>"
      ],
      "text/plain": [
       "     Tree_0  Tree_1  Tree_2  Tree_3  Tree_4\n",
       "0         0       0       1       0       0\n",
       "1         1       0       1       0       0\n",
       "2         0       0       0       0       0\n",
       "3         0       0       0       1       0\n",
       "4         0       0       0       1       0\n",
       "..      ...     ...     ...     ...     ...\n",
       "226       0       1       0       1       0\n",
       "227       0       0       0       0       0\n",
       "228       0       0       0       0       0\n",
       "229       1       0       1       0       1\n",
       "230       1       0       0       1       1\n",
       "\n",
       "[231 rows x 5 columns]"
      ]
     },
     "execution_count": 114,
     "metadata": {},
     "output_type": "execute_result"
    }
   ],
   "source": [
    "#Test hàm con subtrees_predict\n",
    "a = subtrees_predict(X_train, y_train, X_test, y_test, n_trees=5, size_subset=0.6, n_feature=5)\n",
    "a"
   ]
  },
  {
   "cell_type": "code",
   "execution_count": 115,
   "metadata": {},
   "outputs": [
    {
     "data": {
      "text/html": [
       "<div>\n",
       "<style scoped>\n",
       "    .dataframe tbody tr th:only-of-type {\n",
       "        vertical-align: middle;\n",
       "    }\n",
       "\n",
       "    .dataframe tbody tr th {\n",
       "        vertical-align: top;\n",
       "    }\n",
       "\n",
       "    .dataframe thead th {\n",
       "        text-align: right;\n",
       "    }\n",
       "</style>\n",
       "<table border=\"1\" class=\"dataframe\">\n",
       "  <thead>\n",
       "    <tr style=\"text-align: right;\">\n",
       "      <th></th>\n",
       "      <th>Tree_0</th>\n",
       "      <th>Tree_1</th>\n",
       "      <th>Tree_2</th>\n",
       "      <th>Tree_3</th>\n",
       "      <th>Tree_4</th>\n",
       "      <th>Voted</th>\n",
       "    </tr>\n",
       "  </thead>\n",
       "  <tbody>\n",
       "    <tr>\n",
       "      <th>0</th>\n",
       "      <td>0</td>\n",
       "      <td>0</td>\n",
       "      <td>1</td>\n",
       "      <td>0</td>\n",
       "      <td>0</td>\n",
       "      <td>0</td>\n",
       "    </tr>\n",
       "    <tr>\n",
       "      <th>1</th>\n",
       "      <td>1</td>\n",
       "      <td>0</td>\n",
       "      <td>1</td>\n",
       "      <td>0</td>\n",
       "      <td>0</td>\n",
       "      <td>0</td>\n",
       "    </tr>\n",
       "    <tr>\n",
       "      <th>2</th>\n",
       "      <td>0</td>\n",
       "      <td>0</td>\n",
       "      <td>0</td>\n",
       "      <td>0</td>\n",
       "      <td>0</td>\n",
       "      <td>0</td>\n",
       "    </tr>\n",
       "    <tr>\n",
       "      <th>3</th>\n",
       "      <td>0</td>\n",
       "      <td>0</td>\n",
       "      <td>0</td>\n",
       "      <td>1</td>\n",
       "      <td>0</td>\n",
       "      <td>0</td>\n",
       "    </tr>\n",
       "    <tr>\n",
       "      <th>4</th>\n",
       "      <td>0</td>\n",
       "      <td>0</td>\n",
       "      <td>0</td>\n",
       "      <td>1</td>\n",
       "      <td>0</td>\n",
       "      <td>0</td>\n",
       "    </tr>\n",
       "    <tr>\n",
       "      <th>...</th>\n",
       "      <td>...</td>\n",
       "      <td>...</td>\n",
       "      <td>...</td>\n",
       "      <td>...</td>\n",
       "      <td>...</td>\n",
       "      <td>...</td>\n",
       "    </tr>\n",
       "    <tr>\n",
       "      <th>226</th>\n",
       "      <td>0</td>\n",
       "      <td>1</td>\n",
       "      <td>0</td>\n",
       "      <td>1</td>\n",
       "      <td>0</td>\n",
       "      <td>0</td>\n",
       "    </tr>\n",
       "    <tr>\n",
       "      <th>227</th>\n",
       "      <td>0</td>\n",
       "      <td>0</td>\n",
       "      <td>0</td>\n",
       "      <td>0</td>\n",
       "      <td>0</td>\n",
       "      <td>0</td>\n",
       "    </tr>\n",
       "    <tr>\n",
       "      <th>228</th>\n",
       "      <td>0</td>\n",
       "      <td>0</td>\n",
       "      <td>0</td>\n",
       "      <td>0</td>\n",
       "      <td>0</td>\n",
       "      <td>0</td>\n",
       "    </tr>\n",
       "    <tr>\n",
       "      <th>229</th>\n",
       "      <td>1</td>\n",
       "      <td>0</td>\n",
       "      <td>1</td>\n",
       "      <td>0</td>\n",
       "      <td>1</td>\n",
       "      <td>1</td>\n",
       "    </tr>\n",
       "    <tr>\n",
       "      <th>230</th>\n",
       "      <td>1</td>\n",
       "      <td>0</td>\n",
       "      <td>0</td>\n",
       "      <td>1</td>\n",
       "      <td>1</td>\n",
       "      <td>1</td>\n",
       "    </tr>\n",
       "  </tbody>\n",
       "</table>\n",
       "<p>231 rows × 6 columns</p>\n",
       "</div>"
      ],
      "text/plain": [
       "     Tree_0  Tree_1  Tree_2  Tree_3  Tree_4  Voted\n",
       "0         0       0       1       0       0      0\n",
       "1         1       0       1       0       0      0\n",
       "2         0       0       0       0       0      0\n",
       "3         0       0       0       1       0      0\n",
       "4         0       0       0       1       0      0\n",
       "..      ...     ...     ...     ...     ...    ...\n",
       "226       0       1       0       1       0      0\n",
       "227       0       0       0       0       0      0\n",
       "228       0       0       0       0       0      0\n",
       "229       1       0       1       0       1      1\n",
       "230       1       0       0       1       1      1\n",
       "\n",
       "[231 rows x 6 columns]"
      ]
     },
     "execution_count": 115,
     "metadata": {},
     "output_type": "execute_result"
    }
   ],
   "source": [
    "#Test hàm con vote\n",
    "vote(a)"
   ]
  },
  {
   "cell_type": "code",
   "execution_count": 123,
   "metadata": {
    "scrolled": true
   },
   "outputs": [
    {
     "data": {
      "text/html": [
       "<div>\n",
       "<style scoped>\n",
       "    .dataframe tbody tr th:only-of-type {\n",
       "        vertical-align: middle;\n",
       "    }\n",
       "\n",
       "    .dataframe tbody tr th {\n",
       "        vertical-align: top;\n",
       "    }\n",
       "\n",
       "    .dataframe thead th {\n",
       "        text-align: right;\n",
       "    }\n",
       "</style>\n",
       "<table border=\"1\" class=\"dataframe\">\n",
       "  <thead>\n",
       "    <tr style=\"text-align: right;\">\n",
       "      <th></th>\n",
       "      <th>Tree_0</th>\n",
       "      <th>Tree_1</th>\n",
       "      <th>Tree_2</th>\n",
       "      <th>Tree_3</th>\n",
       "      <th>Tree_4</th>\n",
       "      <th>Tree_5</th>\n",
       "      <th>Tree_6</th>\n",
       "      <th>Tree_7</th>\n",
       "      <th>Tree_8</th>\n",
       "      <th>Tree_9</th>\n",
       "      <th>...</th>\n",
       "      <th>Tree_11</th>\n",
       "      <th>Tree_12</th>\n",
       "      <th>Tree_13</th>\n",
       "      <th>Tree_14</th>\n",
       "      <th>Tree_15</th>\n",
       "      <th>Tree_16</th>\n",
       "      <th>Tree_17</th>\n",
       "      <th>Tree_18</th>\n",
       "      <th>Tree_19</th>\n",
       "      <th>Voted</th>\n",
       "    </tr>\n",
       "  </thead>\n",
       "  <tbody>\n",
       "    <tr>\n",
       "      <th>219</th>\n",
       "      <td>0</td>\n",
       "      <td>0</td>\n",
       "      <td>0</td>\n",
       "      <td>0</td>\n",
       "      <td>0</td>\n",
       "      <td>0</td>\n",
       "      <td>0</td>\n",
       "      <td>0</td>\n",
       "      <td>0</td>\n",
       "      <td>0</td>\n",
       "      <td>...</td>\n",
       "      <td>1</td>\n",
       "      <td>0</td>\n",
       "      <td>0</td>\n",
       "      <td>0</td>\n",
       "      <td>1</td>\n",
       "      <td>0</td>\n",
       "      <td>0</td>\n",
       "      <td>1</td>\n",
       "      <td>1</td>\n",
       "      <td>0</td>\n",
       "    </tr>\n",
       "    <tr>\n",
       "      <th>47</th>\n",
       "      <td>1</td>\n",
       "      <td>1</td>\n",
       "      <td>1</td>\n",
       "      <td>0</td>\n",
       "      <td>1</td>\n",
       "      <td>0</td>\n",
       "      <td>1</td>\n",
       "      <td>0</td>\n",
       "      <td>1</td>\n",
       "      <td>1</td>\n",
       "      <td>...</td>\n",
       "      <td>0</td>\n",
       "      <td>0</td>\n",
       "      <td>1</td>\n",
       "      <td>1</td>\n",
       "      <td>1</td>\n",
       "      <td>0</td>\n",
       "      <td>1</td>\n",
       "      <td>1</td>\n",
       "      <td>0</td>\n",
       "      <td>1</td>\n",
       "    </tr>\n",
       "    <tr>\n",
       "      <th>209</th>\n",
       "      <td>0</td>\n",
       "      <td>0</td>\n",
       "      <td>0</td>\n",
       "      <td>1</td>\n",
       "      <td>1</td>\n",
       "      <td>0</td>\n",
       "      <td>0</td>\n",
       "      <td>1</td>\n",
       "      <td>1</td>\n",
       "      <td>1</td>\n",
       "      <td>...</td>\n",
       "      <td>0</td>\n",
       "      <td>0</td>\n",
       "      <td>1</td>\n",
       "      <td>1</td>\n",
       "      <td>1</td>\n",
       "      <td>1</td>\n",
       "      <td>0</td>\n",
       "      <td>1</td>\n",
       "      <td>0</td>\n",
       "      <td>0</td>\n",
       "    </tr>\n",
       "    <tr>\n",
       "      <th>105</th>\n",
       "      <td>0</td>\n",
       "      <td>0</td>\n",
       "      <td>0</td>\n",
       "      <td>1</td>\n",
       "      <td>0</td>\n",
       "      <td>1</td>\n",
       "      <td>0</td>\n",
       "      <td>0</td>\n",
       "      <td>0</td>\n",
       "      <td>0</td>\n",
       "      <td>...</td>\n",
       "      <td>0</td>\n",
       "      <td>1</td>\n",
       "      <td>0</td>\n",
       "      <td>0</td>\n",
       "      <td>1</td>\n",
       "      <td>0</td>\n",
       "      <td>0</td>\n",
       "      <td>0</td>\n",
       "      <td>0</td>\n",
       "      <td>0</td>\n",
       "    </tr>\n",
       "    <tr>\n",
       "      <th>194</th>\n",
       "      <td>1</td>\n",
       "      <td>1</td>\n",
       "      <td>1</td>\n",
       "      <td>0</td>\n",
       "      <td>0</td>\n",
       "      <td>0</td>\n",
       "      <td>1</td>\n",
       "      <td>0</td>\n",
       "      <td>1</td>\n",
       "      <td>1</td>\n",
       "      <td>...</td>\n",
       "      <td>0</td>\n",
       "      <td>1</td>\n",
       "      <td>1</td>\n",
       "      <td>1</td>\n",
       "      <td>1</td>\n",
       "      <td>0</td>\n",
       "      <td>1</td>\n",
       "      <td>1</td>\n",
       "      <td>0</td>\n",
       "      <td>1</td>\n",
       "    </tr>\n",
       "    <tr>\n",
       "      <th>185</th>\n",
       "      <td>0</td>\n",
       "      <td>0</td>\n",
       "      <td>0</td>\n",
       "      <td>1</td>\n",
       "      <td>1</td>\n",
       "      <td>1</td>\n",
       "      <td>0</td>\n",
       "      <td>0</td>\n",
       "      <td>1</td>\n",
       "      <td>1</td>\n",
       "      <td>...</td>\n",
       "      <td>0</td>\n",
       "      <td>0</td>\n",
       "      <td>0</td>\n",
       "      <td>0</td>\n",
       "      <td>0</td>\n",
       "      <td>0</td>\n",
       "      <td>0</td>\n",
       "      <td>0</td>\n",
       "      <td>1</td>\n",
       "      <td>0</td>\n",
       "    </tr>\n",
       "    <tr>\n",
       "      <th>21</th>\n",
       "      <td>0</td>\n",
       "      <td>0</td>\n",
       "      <td>1</td>\n",
       "      <td>1</td>\n",
       "      <td>0</td>\n",
       "      <td>1</td>\n",
       "      <td>0</td>\n",
       "      <td>0</td>\n",
       "      <td>0</td>\n",
       "      <td>0</td>\n",
       "      <td>...</td>\n",
       "      <td>0</td>\n",
       "      <td>1</td>\n",
       "      <td>0</td>\n",
       "      <td>0</td>\n",
       "      <td>0</td>\n",
       "      <td>0</td>\n",
       "      <td>0</td>\n",
       "      <td>0</td>\n",
       "      <td>1</td>\n",
       "      <td>0</td>\n",
       "    </tr>\n",
       "    <tr>\n",
       "      <th>217</th>\n",
       "      <td>0</td>\n",
       "      <td>0</td>\n",
       "      <td>0</td>\n",
       "      <td>0</td>\n",
       "      <td>0</td>\n",
       "      <td>0</td>\n",
       "      <td>0</td>\n",
       "      <td>0</td>\n",
       "      <td>1</td>\n",
       "      <td>0</td>\n",
       "      <td>...</td>\n",
       "      <td>0</td>\n",
       "      <td>0</td>\n",
       "      <td>0</td>\n",
       "      <td>0</td>\n",
       "      <td>0</td>\n",
       "      <td>0</td>\n",
       "      <td>0</td>\n",
       "      <td>0</td>\n",
       "      <td>0</td>\n",
       "      <td>0</td>\n",
       "    </tr>\n",
       "    <tr>\n",
       "      <th>150</th>\n",
       "      <td>0</td>\n",
       "      <td>1</td>\n",
       "      <td>0</td>\n",
       "      <td>0</td>\n",
       "      <td>1</td>\n",
       "      <td>0</td>\n",
       "      <td>0</td>\n",
       "      <td>0</td>\n",
       "      <td>0</td>\n",
       "      <td>1</td>\n",
       "      <td>...</td>\n",
       "      <td>0</td>\n",
       "      <td>0</td>\n",
       "      <td>0</td>\n",
       "      <td>1</td>\n",
       "      <td>0</td>\n",
       "      <td>0</td>\n",
       "      <td>0</td>\n",
       "      <td>0</td>\n",
       "      <td>0</td>\n",
       "      <td>0</td>\n",
       "    </tr>\n",
       "    <tr>\n",
       "      <th>63</th>\n",
       "      <td>0</td>\n",
       "      <td>0</td>\n",
       "      <td>0</td>\n",
       "      <td>0</td>\n",
       "      <td>0</td>\n",
       "      <td>0</td>\n",
       "      <td>0</td>\n",
       "      <td>0</td>\n",
       "      <td>0</td>\n",
       "      <td>1</td>\n",
       "      <td>...</td>\n",
       "      <td>0</td>\n",
       "      <td>0</td>\n",
       "      <td>0</td>\n",
       "      <td>0</td>\n",
       "      <td>0</td>\n",
       "      <td>0</td>\n",
       "      <td>0</td>\n",
       "      <td>0</td>\n",
       "      <td>0</td>\n",
       "      <td>0</td>\n",
       "    </tr>\n",
       "  </tbody>\n",
       "</table>\n",
       "<p>10 rows × 21 columns</p>\n",
       "</div>"
      ],
      "text/plain": [
       "     Tree_0  Tree_1  Tree_2  Tree_3  Tree_4  Tree_5  Tree_6  Tree_7  Tree_8  \\\n",
       "219       0       0       0       0       0       0       0       0       0   \n",
       "47        1       1       1       0       1       0       1       0       1   \n",
       "209       0       0       0       1       1       0       0       1       1   \n",
       "105       0       0       0       1       0       1       0       0       0   \n",
       "194       1       1       1       0       0       0       1       0       1   \n",
       "185       0       0       0       1       1       1       0       0       1   \n",
       "21        0       0       1       1       0       1       0       0       0   \n",
       "217       0       0       0       0       0       0       0       0       1   \n",
       "150       0       1       0       0       1       0       0       0       0   \n",
       "63        0       0       0       0       0       0       0       0       0   \n",
       "\n",
       "     Tree_9  ...  Tree_11  Tree_12  Tree_13  Tree_14  Tree_15  Tree_16  \\\n",
       "219       0  ...        1        0        0        0        1        0   \n",
       "47        1  ...        0        0        1        1        1        0   \n",
       "209       1  ...        0        0        1        1        1        1   \n",
       "105       0  ...        0        1        0        0        1        0   \n",
       "194       1  ...        0        1        1        1        1        0   \n",
       "185       1  ...        0        0        0        0        0        0   \n",
       "21        0  ...        0        1        0        0        0        0   \n",
       "217       0  ...        0        0        0        0        0        0   \n",
       "150       1  ...        0        0        0        1        0        0   \n",
       "63        1  ...        0        0        0        0        0        0   \n",
       "\n",
       "     Tree_17  Tree_18  Tree_19  Voted  \n",
       "219        0        1        1      0  \n",
       "47         1        1        0      1  \n",
       "209        0        1        0      0  \n",
       "105        0        0        0      0  \n",
       "194        1        1        0      1  \n",
       "185        0        0        1      0  \n",
       "21         0        0        1      0  \n",
       "217        0        0        0      0  \n",
       "150        0        0        0      0  \n",
       "63         0        0        0      0  \n",
       "\n",
       "[10 rows x 21 columns]"
      ]
     },
     "execution_count": 123,
     "metadata": {},
     "output_type": "execute_result"
    }
   ],
   "source": [
    "#Chạy hàm Random_Forest\n",
    "RD_result = Random_Forest(X_train, y_train, X_test, y_test, n_trees=20, size_subset=0.2, n_feature=5)\n",
    "RD_result.sample(10)"
   ]
  },
  {
   "cell_type": "code",
   "execution_count": 124,
   "metadata": {},
   "outputs": [
    {
     "name": "stdout",
     "output_type": "stream",
     "text": [
      "Hand build Random Forest Accuracy: 0.7835497835497836\n"
     ]
    }
   ],
   "source": [
    "from sklearn.metrics import accuracy_score\n",
    "h_accuracy = accuracy_score(RD_result['Voted'], y_test)\n",
    "print(f'Hand build Random Forest Accuracy: {h_accuracy}')"
   ]
  },
  {
   "cell_type": "code",
   "execution_count": 122,
   "metadata": {},
   "outputs": [
    {
     "name": "stdout",
     "output_type": "stream",
     "text": [
      "sklearn Random Forest Accuracy: 0.7965367965367965\n"
     ]
    }
   ],
   "source": [
    "from sklearn.ensemble import RandomForestClassifier\n",
    "\n",
    "clf = RandomForestClassifier(n_estimators=20, criterion='entropy', max_depth=None, random_state=0, max_features=5) \n",
    "clf = clf.fit(X_train, y_train)\n",
    "predicted = clf.predict(X_test)\n",
    "sk_accuracy = accuracy_score(predicted, y_test)\n",
    "print(f'sklearn Random Forest Accuracy: {sk_accuracy}')"
   ]
  },
  {
   "cell_type": "code",
   "execution_count": null,
   "metadata": {},
   "outputs": [],
   "source": []
  }
 ],
 "metadata": {
  "colab": {
   "collapsed_sections": [],
   "name": "Copy of lab-07",
   "provenance": []
  },
  "kernelspec": {
   "display_name": "Python 3",
   "language": "python",
   "name": "python3"
  },
  "language_info": {
   "codemirror_mode": {
    "name": "ipython",
    "version": 3
   },
   "file_extension": ".py",
   "mimetype": "text/x-python",
   "name": "python",
   "nbconvert_exporter": "python",
   "pygments_lexer": "ipython3",
   "version": "3.7.6"
  }
 },
 "nbformat": 4,
 "nbformat_minor": 1
}
