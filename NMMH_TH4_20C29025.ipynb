{
 "cells": [
  {
   "cell_type": "markdown",
   "metadata": {},
   "source": [
    "# 1. Dùng các features: Sex, Pclass, và Embarked để xây dựng thuật toán Naive Bayes Multinomial. (4đ)"
   ]
  },
  {
   "cell_type": "code",
   "execution_count": 1,
   "metadata": {},
   "outputs": [],
   "source": [
    "import numpy as np\n",
    "import pandas as pd"
   ]
  },
  {
   "cell_type": "code",
   "execution_count": 2,
   "metadata": {
    "scrolled": false
   },
   "outputs": [
    {
     "data": {
      "text/html": [
       "<div>\n",
       "<style scoped>\n",
       "    .dataframe tbody tr th:only-of-type {\n",
       "        vertical-align: middle;\n",
       "    }\n",
       "\n",
       "    .dataframe tbody tr th {\n",
       "        vertical-align: top;\n",
       "    }\n",
       "\n",
       "    .dataframe thead th {\n",
       "        text-align: right;\n",
       "    }\n",
       "</style>\n",
       "<table border=\"1\" class=\"dataframe\">\n",
       "  <thead>\n",
       "    <tr style=\"text-align: right;\">\n",
       "      <th></th>\n",
       "      <th>PassengerId</th>\n",
       "      <th>Survived</th>\n",
       "      <th>Pclass</th>\n",
       "      <th>Name</th>\n",
       "      <th>Sex</th>\n",
       "      <th>Age</th>\n",
       "      <th>SibSp</th>\n",
       "      <th>Parch</th>\n",
       "      <th>Ticket</th>\n",
       "      <th>Fare</th>\n",
       "      <th>Cabin</th>\n",
       "      <th>Embarked</th>\n",
       "    </tr>\n",
       "  </thead>\n",
       "  <tbody>\n",
       "    <tr>\n",
       "      <th>0</th>\n",
       "      <td>1</td>\n",
       "      <td>0</td>\n",
       "      <td>3</td>\n",
       "      <td>Braund, Mr. Owen Harris</td>\n",
       "      <td>male</td>\n",
       "      <td>22.0</td>\n",
       "      <td>1</td>\n",
       "      <td>0</td>\n",
       "      <td>A/5 21171</td>\n",
       "      <td>7.2500</td>\n",
       "      <td>NaN</td>\n",
       "      <td>S</td>\n",
       "    </tr>\n",
       "    <tr>\n",
       "      <th>1</th>\n",
       "      <td>2</td>\n",
       "      <td>1</td>\n",
       "      <td>1</td>\n",
       "      <td>Cumings, Mrs. John Bradley (Florence Briggs Th...</td>\n",
       "      <td>female</td>\n",
       "      <td>38.0</td>\n",
       "      <td>1</td>\n",
       "      <td>0</td>\n",
       "      <td>PC 17599</td>\n",
       "      <td>71.2833</td>\n",
       "      <td>C85</td>\n",
       "      <td>C</td>\n",
       "    </tr>\n",
       "    <tr>\n",
       "      <th>2</th>\n",
       "      <td>3</td>\n",
       "      <td>1</td>\n",
       "      <td>3</td>\n",
       "      <td>Heikkinen, Miss. Laina</td>\n",
       "      <td>female</td>\n",
       "      <td>26.0</td>\n",
       "      <td>0</td>\n",
       "      <td>0</td>\n",
       "      <td>STON/O2. 3101282</td>\n",
       "      <td>7.9250</td>\n",
       "      <td>NaN</td>\n",
       "      <td>S</td>\n",
       "    </tr>\n",
       "    <tr>\n",
       "      <th>3</th>\n",
       "      <td>4</td>\n",
       "      <td>1</td>\n",
       "      <td>1</td>\n",
       "      <td>Futrelle, Mrs. Jacques Heath (Lily May Peel)</td>\n",
       "      <td>female</td>\n",
       "      <td>35.0</td>\n",
       "      <td>1</td>\n",
       "      <td>0</td>\n",
       "      <td>113803</td>\n",
       "      <td>53.1000</td>\n",
       "      <td>C123</td>\n",
       "      <td>S</td>\n",
       "    </tr>\n",
       "    <tr>\n",
       "      <th>4</th>\n",
       "      <td>5</td>\n",
       "      <td>0</td>\n",
       "      <td>3</td>\n",
       "      <td>Allen, Mr. William Henry</td>\n",
       "      <td>male</td>\n",
       "      <td>35.0</td>\n",
       "      <td>0</td>\n",
       "      <td>0</td>\n",
       "      <td>373450</td>\n",
       "      <td>8.0500</td>\n",
       "      <td>NaN</td>\n",
       "      <td>S</td>\n",
       "    </tr>\n",
       "  </tbody>\n",
       "</table>\n",
       "</div>"
      ],
      "text/plain": [
       "   PassengerId  Survived  Pclass  \\\n",
       "0            1         0       3   \n",
       "1            2         1       1   \n",
       "2            3         1       3   \n",
       "3            4         1       1   \n",
       "4            5         0       3   \n",
       "\n",
       "                                                Name     Sex   Age  SibSp  \\\n",
       "0                            Braund, Mr. Owen Harris    male  22.0      1   \n",
       "1  Cumings, Mrs. John Bradley (Florence Briggs Th...  female  38.0      1   \n",
       "2                             Heikkinen, Miss. Laina  female  26.0      0   \n",
       "3       Futrelle, Mrs. Jacques Heath (Lily May Peel)  female  35.0      1   \n",
       "4                           Allen, Mr. William Henry    male  35.0      0   \n",
       "\n",
       "   Parch            Ticket     Fare Cabin Embarked  \n",
       "0      0         A/5 21171   7.2500   NaN        S  \n",
       "1      0          PC 17599  71.2833   C85        C  \n",
       "2      0  STON/O2. 3101282   7.9250   NaN        S  \n",
       "3      0            113803  53.1000  C123        S  \n",
       "4      0            373450   8.0500   NaN        S  "
      ]
     },
     "execution_count": 2,
     "metadata": {},
     "output_type": "execute_result"
    }
   ],
   "source": [
    "data = pd.read_csv('https://raw.githubusercontent.com/huynhthanh98/ML/master/lab-04/train.csv')\n",
    "data.head()"
   ]
  },
  {
   "cell_type": "code",
   "execution_count": 3,
   "metadata": {
    "scrolled": false
   },
   "outputs": [
    {
     "name": "stdout",
     "output_type": "stream",
     "text": [
      "PassengerId      0\n",
      "Survived         0\n",
      "Pclass           0\n",
      "Name             0\n",
      "Sex              0\n",
      "Age            177\n",
      "SibSp            0\n",
      "Parch            0\n",
      "Ticket           0\n",
      "Fare             0\n",
      "Cabin          687\n",
      "Embarked         2\n",
      "dtype: int64\n"
     ]
    }
   ],
   "source": [
    "print(data.isnull().sum())"
   ]
  },
  {
   "cell_type": "code",
   "execution_count": 4,
   "metadata": {
    "scrolled": true
   },
   "outputs": [
    {
     "name": "stdout",
     "output_type": "stream",
     "text": [
      "PassengerId    0\n",
      "Survived       0\n",
      "Pclass         0\n",
      "Name           0\n",
      "Sex            0\n",
      "SibSp          0\n",
      "Parch          0\n",
      "Ticket         0\n",
      "Fare           0\n",
      "Embarked       0\n",
      "dtype: int64\n"
     ]
    }
   ],
   "source": [
    "#Loại bỏ các features có số lượng missing value nhiều và không có nhiều ảnh hưởng tới nhãn bộ dữ liệu\n",
    "data  = data.drop([\"Cabin\",\"Age\"],axis=1)\n",
    "data = data.dropna()\n",
    "print(data.isnull().sum())"
   ]
  },
  {
   "cell_type": "code",
   "execution_count": 5,
   "metadata": {},
   "outputs": [],
   "source": [
    "from sklearn.model_selection import train_test_split\n",
    "data_train, data_test = train_test_split( data, test_size = 0.2\n",
    "                                                    , random_state = 42)"
   ]
  },
  {
   "cell_type": "code",
   "execution_count": 6,
   "metadata": {
    "scrolled": true
   },
   "outputs": [
    {
     "name": "stdout",
     "output_type": "stream",
     "text": [
      "Survived\n",
      "[1 0]\n",
      "Pclass\n",
      "[1 3 2]\n",
      "Sex\n",
      "['female' 'male']\n",
      "SibSp\n",
      "[0 1 8 5 4 2 3]\n",
      "Parch\n",
      "[0 2 1 3 6 4 5]\n",
      "Fare\n",
      "[151.55    14.4542   7.925   69.55    46.9     31.275    7.8958  35.5\n",
      "   0.      26.      23.25    15.5      7.7875  13.5      6.4958  26.55\n",
      "   7.5208   7.2292  53.1     25.4667  31.3875   8.6625  34.0208   7.125\n",
      "  52.       7.8875  14.4583  83.1583   8.05    90.       7.725   39.6\n",
      "  21.075    7.7333   7.25    77.2875   9.5     12.65    10.5     55.\n",
      "   7.6292   7.75     7.8542  24.15    57.9792  15.      39.6875   7.225\n",
      " 227.525   17.8      9.5875 113.275    7.8292  13.      30.5      9.\n",
      "  71.       4.0125   7.05    78.85     8.85    27.75    27.7208 153.4625\n",
      "   8.3     19.2583  14.5    133.65    76.7292  26.2833  20.525    7.8792\n",
      "  29.7     15.7417  30.6958  51.8625  81.8583  56.4958  39.       7.4958\n",
      "   7.7958   7.55    12.      93.5     21.      12.35    16.1     78.2667\n",
      "  35.      55.9      7.8     30.      18.      26.2875  83.475   59.4\n",
      "  77.9583  28.7125  56.9292   7.65    22.3583  20.575  134.5     37.0042\n",
      "  41.5792  25.925    7.7375  15.2458 512.3292  18.75    66.6    110.8833\n",
      "  16.      86.5     19.9667  33.      16.7    135.6333  11.5     30.0708\n",
      "   8.0292  27.      24.     221.7792 263.     262.375   91.0792  26.25\n",
      "  79.65    50.      12.2875   7.3125  79.2     36.75    29.125   19.5\n",
      "  34.375  247.5208   8.5167  12.275    7.1417  20.25    57.      52.5542\n",
      "   6.75     6.45    15.55    69.3     55.4417  20.2125   9.225   13.8583\n",
      "   6.4375   8.1125  33.5     12.525   11.2417   7.775   49.5042 120.\n",
      "  61.3792  49.5     29.     164.8667  15.05    23.      10.5167  11.1333\n",
      "  21.6792  23.45     9.35    14.4     82.1708 146.5208  14.1083   7.875\n",
      "  73.5     12.475    8.1375   7.0542  89.1042  26.3875  15.9      6.95\n",
      "   6.2375  22.025   32.5     15.85    27.9     32.3208  18.7875  15.1\n",
      "   9.825    5.       9.8417   6.8583   8.6833 211.5     13.7917  65.\n",
      "  34.6542  13.4167 211.3375  76.2917  25.9292  13.8625  15.0458   6.975\n",
      "  50.4958   9.475   38.5     31.       7.7417   7.0458  71.2833  61.175\n",
      "   7.7292 108.9     10.1708  15.75    25.5875  28.5      8.6542]\n",
      "Embarked\n",
      "['S' 'C' 'Q']\n"
     ]
    }
   ],
   "source": [
    "for i in data_train.drop(labels = [\"Name\",\"Ticket\",\"PassengerId\"], axis = 1):\n",
    "    print(i)\n",
    "    print(data_train[i].unique())"
   ]
  },
  {
   "cell_type": "code",
   "execution_count": 7,
   "metadata": {},
   "outputs": [],
   "source": [
    "def get_features(data):\n",
    "    Survived = data['Survived'].values\n",
    "    Pclass = data['Pclass'].values\n",
    "    Sex = data['Sex'].values\n",
    "    SibSp = data['SibSp'].values\n",
    "    Parch = data['Parch'].values\n",
    "    Fare = data['Fare'].values\n",
    "    Embarked = data['Embarked'].values\n",
    "    \n",
    "    return Survived, Pclass, Sex, SibSp, Parch, Fare, Embarked\n",
    "\n",
    "Survived_train, Pclass_train, Sex_train, SibSp_train, Parch_train, Fare_train, Embarked_train = get_features(data_train)\n",
    "Survived_test, Pclass_test, Sex_test, SibSp_test, Parch_test, Fare_test, Embarked_test = get_features(data_test)"
   ]
  },
  {
   "cell_type": "code",
   "execution_count": 8,
   "metadata": {},
   "outputs": [],
   "source": [
    "#Xác xuất tiên nghiệm. \n",
    "P_Survived=0.5\n",
    "P_notSurvived=0.5\n",
    "#Sex\n",
    "##Survived\n",
    "P_SexisMale_Survived= np.sum((Sex_train[Survived_train==1]==\"male\"))/np.sum((Survived_train==1))\n",
    "P_SexisFemale_Survived=np.sum((Sex_train[Survived_train==1]==\"female\"))/np.sum((Survived_train==1))\n",
    "##Tính xác xuất hậu nghiệm trên tập (P(X|Survived) trên tập test)\n",
    "P_Sex_Survived= P_SexisMale_Survived*(Sex_test==\"male\").astype(float) +P_SexisFemale_Survived*(Sex_test==\"female\").astype(float)\n",
    "\n",
    "##notSurvivied\n",
    "P_SexisMale_notSurvived= np.sum((Sex_train[Survived_train==0]==\"male\"))/np.sum((Survived_train==0))\n",
    "P_SexisFemale_notSurvived=np.sum((Sex_train[Survived_train==0]==\"female\"))/np.sum((Survived_train==0))\n",
    "##Tính xác xuất hậu nghiệm trên tập (P(X|notSurvived) trên tập test)\n",
    "P_Sex_notSurvived= P_SexisMale_notSurvived*(Sex_test==\"male\").astype(float) +P_SexisFemale_notSurvived*(Sex_test==\"female\").astype(float)"
   ]
  },
  {
   "cell_type": "markdown",
   "metadata": {},
   "source": [
    "Tính xác suất"
   ]
  },
  {
   "cell_type": "code",
   "execution_count": 9,
   "metadata": {},
   "outputs": [],
   "source": [
    "#XS tiên nghiệm\n",
    "P_Survived = 0.5\n",
    "P_notSurvived = 0.5\n",
    "\n",
    "#1-Sex\n",
    "##Survived\n",
    "P_SexisMale_Survived = np.sum(Sex_train[Survived_train == 1] == 'male')/np.sum(Survived_train == 1)\n",
    "P_SexisFemale_Survived = np.sum(Sex_train[Survived_train == 1] == 'female')/np.sum(Survived_train == 1)\n",
    "\n",
    "###XS hậu nghiệm P(X|Survived) trên tập test\n",
    "P_Sex_Survived = P_SexisMale_Survived*(Sex_test == 'male').astype(float) +\\\n",
    "                 P_SexisFemale_Survived*(Sex_test == 'female').astype(float)\n",
    "\n",
    "\n",
    "##notSurvived\n",
    "P_SexisMale_notSurvived = np.sum(Sex_train[Survived_train == 0] == 'male')/np.sum(Survived_train == 0)\n",
    "P_SexisFemale_notSurvived = np.sum(Sex_train[Survived_train == 0] == 'female')/np.sum(Survived_train == 0)\n",
    "\n",
    "###XS hậu nghiệm P(X|notSurvived) trên tập test\n",
    "P_Sex_notSurvived = P_SexisMale_notSurvived*(Sex_test == 'male').astype(float) +\\\n",
    "                    P_SexisFemale_notSurvived*(Sex_test == 'female').astype(float)\n",
    "\n",
    "\n",
    "\n",
    "#2-Pclass\n",
    "##Survived\n",
    "P_Pclassis1_Survived = np.sum(Pclass_train[Survived_train == 1] == 1)/np.sum(Survived_train == 1)\n",
    "P_Pclassis2_Survived = np.sum(Pclass_train[Survived_train == 1] == 2)/np.sum(Survived_train == 1)\n",
    "P_Pclassis3_Survived = np.sum(Pclass_train[Survived_train == 1] == 3)/np.sum(Survived_train == 1)\n",
    "\n",
    "###XS hậu nghiệm P(X|Survived) trên tập test\n",
    "P_Pclass_Survived = P_Pclassis1_Survived*(Pclass_test == 1).astype(float) +\\\n",
    "                    P_Pclassis2_Survived*(Pclass_test == 2).astype(float) +\\\n",
    "                    P_Pclassis3_Survived*(Pclass_test == 3).astype(float)\n",
    "\n",
    "\n",
    "##notSurvived\n",
    "P_Pclassis1_notSurvived = np.sum(Pclass_train[Survived_train == 0] == 1)/np.sum(Survived_train == 0)\n",
    "P_Pclassis2_notSurvived = np.sum(Pclass_train[Survived_train == 0] == 2)/np.sum(Survived_train == 0)\n",
    "P_Pclassis3_notSurvived = np.sum(Pclass_train[Survived_train == 0] == 3)/np.sum(Survived_train == 0)\n",
    "\n",
    "###XS hậu nghiệm P(X|notSurvived) trên tập test\n",
    "P_Pclass_notSurvived = P_Pclassis1_notSurvived*(Pclass_test == 1).astype(float) +\\\n",
    "                    P_Pclassis2_notSurvived*(Pclass_test == 2).astype(float) +\\\n",
    "                    P_Pclassis3_notSurvived*(Pclass_test == 3).astype(float)\n",
    "\n",
    "\n",
    "#3-Embarked\n",
    "##Survived\n",
    "P_EmbarkedS_Survived = np.sum(Embarked_train[Survived_train == 1] == 'S')/np.sum(Survived_train == 1)\n",
    "P_EmbarkedC_Survived = np.sum(Embarked_train[Survived_train == 1] == 'C')/np.sum(Survived_train == 1)\n",
    "P_EmbarkedQ_Survived = np.sum(Embarked_train[Survived_train == 1] == 'Q')/np.sum(Survived_train == 1)\n",
    "\n",
    "###XS hậu nghiệm P(X|Survived) trên tập test\n",
    "P_Embarked_Survived = P_EmbarkedS_Survived*(Embarked_test == 'S').astype(float) +\\\n",
    "                      P_EmbarkedC_Survived*(Embarked_test == 'C').astype(float) +\\\n",
    "                      P_EmbarkedQ_Survived*(Embarked_test == 'Q').astype(float)\n",
    "\n",
    "\n",
    "##notSurvived\n",
    "P_EmbarkedS_notSurvived = np.sum(Embarked_train[Survived_train == 0] == 'S')/np.sum(Survived_train == 0)\n",
    "P_EmbarkedC_notSurvived = np.sum(Embarked_train[Survived_train == 0] == 'C')/np.sum(Survived_train == 0)\n",
    "P_EmbarkedQ_notSurvived = np.sum(Embarked_train[Survived_train == 0] == 'Q')/np.sum(Survived_train == 0)\n",
    "\n",
    "###XS hậu nghiệm P(X|notSurvived) trên tập test\n",
    "P_Embarked_notSurvived = P_EmbarkedS_Survived*(Embarked_test == 'S').astype(float) +\\\n",
    "                         P_EmbarkedC_Survived*(Embarked_test == 'C').astype(float) +\\\n",
    "                         P_EmbarkedQ_Survived*(Embarked_test == 'Q').astype(float)"
   ]
  },
  {
   "cell_type": "code",
   "execution_count": 10,
   "metadata": {},
   "outputs": [],
   "source": [
    "#Tích P(Survived|X)*P(Survived)\n",
    "P_Survived_combine = P_Survived*P_Sex_Survived*P_Pclass_Survived*P_Embarked_Survived\n",
    "#Tích P(notSurvived|X)*P(notSurvived)\n",
    "P_notSurvived_combine = P_notSurvived*P_Sex_notSurvived*P_Pclass_notSurvived*P_Embarked_notSurvived"
   ]
  },
  {
   "cell_type": "code",
   "execution_count": 11,
   "metadata": {},
   "outputs": [
    {
     "data": {
      "text/plain": [
       "0.7584269662921348"
      ]
     },
     "execution_count": 11,
     "metadata": {},
     "output_type": "execute_result"
    }
   ],
   "source": [
    "#KQ\n",
    "np.mean((P_Survived_combine > P_notSurvived_combine).astype(float) == Survived_test)"
   ]
  },
  {
   "cell_type": "markdown",
   "metadata": {},
   "source": [
    "### Dùng sklearn"
   ]
  },
  {
   "cell_type": "code",
   "execution_count": 12,
   "metadata": {},
   "outputs": [
    {
     "name": "stdout",
     "output_type": "stream",
     "text": [
      "0.7808988764044944\n",
      "0.7808988764044944\n"
     ]
    }
   ],
   "source": [
    "from sklearn.preprocessing import OrdinalEncoder\n",
    "from sklearn.naive_bayes import CategoricalNB\n",
    "\n",
    "X_train = pd.DataFrame({'Sex':Sex_train, 'Pclass':Pclass_train, 'Embarked':Embarked_train})\n",
    "X_test = pd.DataFrame({'Sex':Sex_test, 'Pclass':Pclass_test, 'Embarked':Embarked_test})\n",
    "\n",
    "enc = OrdinalEncoder()\n",
    "enc.fit(X_train[[\"Sex\",\"Embarked\"]])\n",
    "\n",
    "\n",
    "X_train[['Sex','Embarked']] = enc.transform(X_train[['Sex','Embarked']])\n",
    "X_train\n",
    "nb = CategoricalNB(alpha=1.0e-10).fit(X_train, Survived_train)\n",
    "\n",
    "\n",
    "X_test[['Sex','Embarked']] = enc.transform(X_test[['Sex','Embarked']])\n",
    "\n",
    "print(np.mean(Survived_test == nb.predict(X_test)))\n",
    "print(nb.score(X_test,Survived_test))"
   ]
  },
  {
   "cell_type": "code",
   "execution_count": null,
   "metadata": {},
   "outputs": [],
   "source": []
  },
  {
   "cell_type": "markdown",
   "metadata": {},
   "source": [
    "# 2. Dùng các features: SibSp,\tParch, và Fare để xây dựng thuật toán Naive Bayes Gaussian (Không cần normalize). (4đ)"
   ]
  },
  {
   "cell_type": "code",
   "execution_count": 13,
   "metadata": {},
   "outputs": [],
   "source": [
    "# Tính tham số\n",
    "#1-SibSp\n",
    "Sibsp_mean_Survived = np.mean(SibSp_train[Survived_train == 1])\n",
    "Sibsp_std_Survived = np.std(SibSp_train[Survived_train == 1])\n",
    "\n",
    "Sibsp_mean_notSurvived = np.mean(SibSp_train[Survived_train == 0])\n",
    "Sibsp_std_notSurvived = np.std(SibSp_train[Survived_train == 0])\n",
    "\n",
    "#2-Parch\n",
    "Parch_mean_Survived = np.mean(Parch_train[Survived_train == 1])\n",
    "Parch_std_Survived = np.std(Parch_train[Survived_train == 1])\n",
    "\n",
    "Parch_mean_notSurvived = np.mean(Parch_train[Survived_train == 0])\n",
    "Parch_std_notSurvived = np.std(Parch_train[Survived_train == 0])\n",
    "\n",
    "#3-Fare\n",
    "Fare_mean_Survived = np.mean(Fare_train[Survived_train == 1])\n",
    "Fare_std_Survived = np.std(Fare_train[Survived_train == 1])\n",
    "\n",
    "Fare_mean_notSurvived = np.mean(Fare_train[Survived_train == 0])\n",
    "Fare_std_notSurvived = np.std(Fare_train[Survived_train == 0])"
   ]
  },
  {
   "cell_type": "code",
   "execution_count": 14,
   "metadata": {},
   "outputs": [],
   "source": [
    "def normal(x, mean, std):\n",
    "    return 1/(np.sqrt(2*np.pi)*std)*np.exp(-np.square(x-mean)/(2*np.square(std)))"
   ]
  },
  {
   "cell_type": "code",
   "execution_count": 15,
   "metadata": {},
   "outputs": [],
   "source": [
    "# P(X|Survived) và P(X|notSurvived)\n",
    "P_SibSp_Survived = normal(SibSp_test, Sibsp_mean_Survived , Sibsp_std_Survived )\n",
    "P_SibSp_notSurvived = normal(SibSp_test, Sibsp_mean_notSurvived, Sibsp_std_notSurvived)\n",
    "\n",
    "\n",
    "P_Parch_Survived = normal(Parch_test, Parch_mean_Survived , Parch_std_Survived )\n",
    "P_Parch_notSurvived = normal(Parch_test, Parch_mean_notSurvived, Parch_std_notSurvived)\n",
    "\n",
    "\n",
    "P_Fare_Survived = normal(Fare_test, Fare_mean_Survived , Fare_std_Survived )\n",
    "P_Fare_notSurvived = normal(Fare_test, Fare_mean_notSurvived, Fare_std_notSurvived)"
   ]
  },
  {
   "cell_type": "code",
   "execution_count": 16,
   "metadata": {},
   "outputs": [],
   "source": [
    "P_Survived_combine = P_Survived*P_SibSp_Survived*P_Parch_Survived*P_Fare_Survived\n",
    "P_notSurvived_combine = P_notSurvived*P_SibSp_notSurvived*P_Parch_notSurvived*P_Fare_notSurvived"
   ]
  },
  {
   "cell_type": "code",
   "execution_count": 17,
   "metadata": {},
   "outputs": [
    {
     "data": {
      "text/plain": [
       "0.6797752808988764"
      ]
     },
     "execution_count": 17,
     "metadata": {},
     "output_type": "execute_result"
    }
   ],
   "source": [
    "#KQ\n",
    "np.mean((P_Survived_combine>P_notSurvived_combine).astype(float) == Survived_test)\n"
   ]
  },
  {
   "cell_type": "markdown",
   "metadata": {},
   "source": [
    "### Dùng sklearn"
   ]
  },
  {
   "cell_type": "code",
   "execution_count": 18,
   "metadata": {},
   "outputs": [
    {
     "name": "stdout",
     "output_type": "stream",
     "text": [
      "0.6910112359550562\n",
      "0.6910112359550562\n"
     ]
    }
   ],
   "source": [
    "from sklearn.naive_bayes import GaussianNB\n",
    "\n",
    "X_train = np.array([SibSp_train, Parch_train, Fare_train]).T\n",
    "X_test = np.array([SibSp_test, Parch_test, Fare_test]).T\n",
    "\n",
    "nb = GaussianNB().fit(X_train, Survived_train)\n",
    "\n",
    "print(np.mean(Survived_test == nb.predict(X_test)))\n",
    "print(nb.score(X_test, Survived_test))"
   ]
  },
  {
   "cell_type": "markdown",
   "metadata": {},
   "source": [
    "# 3. Từ bộ dữ liệu liên minh hãy xây dựng thuật toán Naive Bayes bằng cách dùng tất cả features (mix cả Multinomial và Gaussian. Lưu ý: Khỏi chia tập train, test. Dự đoán thẳng trên tập train) (2đ)"
   ]
  },
  {
   "cell_type": "code",
   "execution_count": 19,
   "metadata": {},
   "outputs": [],
   "source": [
    "import pandas as pd\n",
    "import numpy as np"
   ]
  },
  {
   "cell_type": "code",
   "execution_count": 20,
   "metadata": {
    "scrolled": false
   },
   "outputs": [
    {
     "data": {
      "text/html": [
       "<div>\n",
       "<style scoped>\n",
       "    .dataframe tbody tr th:only-of-type {\n",
       "        vertical-align: middle;\n",
       "    }\n",
       "\n",
       "    .dataframe tbody tr th {\n",
       "        vertical-align: top;\n",
       "    }\n",
       "\n",
       "    .dataframe thead th {\n",
       "        text-align: right;\n",
       "    }\n",
       "</style>\n",
       "<table border=\"1\" class=\"dataframe\">\n",
       "  <thead>\n",
       "    <tr style=\"text-align: right;\">\n",
       "      <th></th>\n",
       "      <th>killsDiff</th>\n",
       "      <th>minionsKilledDiff</th>\n",
       "      <th>wardPlacedDiff</th>\n",
       "      <th>firstBlood</th>\n",
       "      <th>heralds</th>\n",
       "      <th>dragons</th>\n",
       "      <th>teamWins</th>\n",
       "    </tr>\n",
       "  </thead>\n",
       "  <tbody>\n",
       "    <tr>\n",
       "      <th>0</th>\n",
       "      <td>3</td>\n",
       "      <td>-2</td>\n",
       "      <td>13</td>\n",
       "      <td>blue</td>\n",
       "      <td>none</td>\n",
       "      <td>none</td>\n",
       "      <td>red</td>\n",
       "    </tr>\n",
       "    <tr>\n",
       "      <th>1</th>\n",
       "      <td>0</td>\n",
       "      <td>-66</td>\n",
       "      <td>0</td>\n",
       "      <td>red</td>\n",
       "      <td>red</td>\n",
       "      <td>red</td>\n",
       "      <td>red</td>\n",
       "    </tr>\n",
       "    <tr>\n",
       "      <th>2</th>\n",
       "      <td>-4</td>\n",
       "      <td>-17</td>\n",
       "      <td>0</td>\n",
       "      <td>red</td>\n",
       "      <td>none</td>\n",
       "      <td>blue</td>\n",
       "      <td>red</td>\n",
       "    </tr>\n",
       "    <tr>\n",
       "      <th>3</th>\n",
       "      <td>-1</td>\n",
       "      <td>-34</td>\n",
       "      <td>28</td>\n",
       "      <td>red</td>\n",
       "      <td>blue</td>\n",
       "      <td>none</td>\n",
       "      <td>red</td>\n",
       "    </tr>\n",
       "    <tr>\n",
       "      <th>4</th>\n",
       "      <td>0</td>\n",
       "      <td>-15</td>\n",
       "      <td>58</td>\n",
       "      <td>red</td>\n",
       "      <td>none</td>\n",
       "      <td>red</td>\n",
       "      <td>red</td>\n",
       "    </tr>\n",
       "  </tbody>\n",
       "</table>\n",
       "</div>"
      ],
      "text/plain": [
       "   killsDiff  minionsKilledDiff  wardPlacedDiff firstBlood heralds dragons  \\\n",
       "0          3                 -2              13       blue    none    none   \n",
       "1          0                -66               0        red     red     red   \n",
       "2         -4                -17               0        red    none    blue   \n",
       "3         -1                -34              28        red    blue    none   \n",
       "4          0                -15              58        red    none     red   \n",
       "\n",
       "  teamWins  \n",
       "0      red  \n",
       "1      red  \n",
       "2      red  \n",
       "3      red  \n",
       "4      red  "
      ]
     },
     "execution_count": 20,
     "metadata": {},
     "output_type": "execute_result"
    }
   ],
   "source": [
    "\n",
    "df = pd.read_csv(\"https://raw.githubusercontent.com/dinhvietcuong1996/Lab-MachineLearningCourse/master/Lab04/lienminh.csv\")\n",
    "df.head()"
   ]
  },
  {
   "cell_type": "code",
   "execution_count": 21,
   "metadata": {},
   "outputs": [
    {
     "data": {
      "text/plain": [
       "(9879, 7)"
      ]
     },
     "execution_count": 21,
     "metadata": {},
     "output_type": "execute_result"
    }
   ],
   "source": [
    "df.shape"
   ]
  },
  {
   "cell_type": "code",
   "execution_count": 22,
   "metadata": {},
   "outputs": [
    {
     "data": {
      "text/plain": [
       "killsDiff            0\n",
       "minionsKilledDiff    0\n",
       "wardPlacedDiff       0\n",
       "firstBlood           0\n",
       "heralds              0\n",
       "dragons              0\n",
       "teamWins             0\n",
       "dtype: int64"
      ]
     },
     "execution_count": 22,
     "metadata": {},
     "output_type": "execute_result"
    }
   ],
   "source": [
    "df.isnull().sum()"
   ]
  },
  {
   "cell_type": "code",
   "execution_count": 23,
   "metadata": {
    "scrolled": true
   },
   "outputs": [
    {
     "name": "stdout",
     "output_type": "stream",
     "text": [
      "killsDiff\n",
      "[  3   0  -4  -1   2   1  -8   6  -5   8   5  -9  -2  -3  -6  -7   4   9\n",
      "   7 -11  11 -13  10 -10  12  13 -12  16 -15  14 -14 -17  15]\n",
      "minionsKilledDiff\n",
      "[  -2  -66  -17  -34  -15    4   61   52  -51  -27   15  -31  -19  -18\n",
      "  -28   53  -11   -6    7   18   11  -24   26    8    1   12   -3  -21\n",
      "   17  -23    9   46   10  -60   55  -38  -35    3   31    5   38   19\n",
      "   23  -37  -25   54   -4  -52   -1  -43   14   24   37   -5   32   16\n",
      "   44   21   28   41  -47  -22  112  -46   64   39  -13   27   13   20\n",
      "   -8  -70  -16  -42  -10  -36  -12   85  -26   36   -7  -50   35  -54\n",
      "   29  -41   74  -14  -20  -32  -63  -49    6  -71   33  -29    2   47\n",
      "   40   34  -53  -68  -45   50   63   22   43  -40   25 -101    0  -75\n",
      "  -39  104   96  -62   56   30   62   82   45  -61   59   69   42  -58\n",
      "  -93   76   65   57   49  -30  -44   51   79  -59   -9  110  -72   48\n",
      "  -76   72  -64  -33 -120   60  -84   77  -73  -48  -83  -98  -92   84\n",
      "   71  -81  -57  -74   80  -82   73  -65  100   89   83  -56  127 -117\n",
      "  111   93   91  -88   58  -99  -67   95   67  -90   87   92  -87  -55\n",
      "  -78   66   68 -111  103   70  -79  -85   75 -113  -69   78 -104 -108\n",
      "  -77  102   90   81  -95   86   94 -105  -80  -86  -91   99   88  117\n",
      "  115  -94   98]\n",
      "wardPlacedDiff\n",
      "[  13    0   28   58  -18  -39    1   -3    5   16    6   -6  -87   -1\n",
      "   26    2   -4   -2   63   15    8   40   -7   25    7  -20  -13   20\n",
      "  -21   29    3  -22   -8   22  -14  108   37   24    4  -35   27  -11\n",
      "  -41   48  -16   -5   11  -88   14  -28   23  -17  -23  -49   12   77\n",
      "  -25   57  -24   74  -12   39   19  -38  -27   50  -68   53  -70   18\n",
      "    9  107   21   60   17  -19  -48   42  -30 -125  -26  -15   35  -37\n",
      "  -34   69  -36   10   62   61  -29  -31 -131  128   81   33   34  135\n",
      "   -9  -32  -10   71   47   75  -33   72   67   51   66   31  -44   44\n",
      "  -64 -155  -59  -45  -58  -63  -53   30  -42  -46  109  -60   52   41\n",
      "  -61 -109   36  111  -66   64   56  -43  -91   32   89   59   65 -110\n",
      "  -89   38   73   70  -93  -50  -67  -73 -126  -69  142 -149 -112  -40\n",
      "  -57  151 -254  -52   91  -75   78  123  -55  -47   84  -54   90  -92\n",
      "   76   46  -71   68   97  -62  -72  116  -77  153 -108   55 -189  -80\n",
      " -260  -84 -130  -79   96  132  131   43  -86 -103  102   54 -115  -85\n",
      "  -76 -161  -56  -74 -113  -65 -128 -129   79  -78  -51  117  190  120\n",
      " -200  129 -120 -144   80   95   94 -173  124   49 -187  -98  134  -90\n",
      " -105   45 -174   86  103 -122 -102 -106 -154 -150   92 -101  173  -83\n",
      " -111 -197 -156 -121 -153  113   93  195  -99  110  144  192  186  161\n",
      "  -82  146 -116 -168  143  100  149 -104 -123  141 -117  118 -142  140\n",
      "   98   85  130 -114 -107   82 -146 -218  137  234  125 -148   83  158\n",
      " -143  119 -127   88]\n",
      "firstBlood\n",
      "['blue' 'red']\n",
      "heralds\n",
      "['none' 'red' 'blue']\n",
      "dragons\n",
      "['none' 'red' 'blue']\n",
      "teamWins\n",
      "['red' 'blue']\n"
     ]
    }
   ],
   "source": [
    "for col in df:\n",
    "    print(col)\n",
    "    print(df[col].unique())"
   ]
  },
  {
   "cell_type": "code",
   "execution_count": 24,
   "metadata": {},
   "outputs": [],
   "source": [
    "#3\n",
    "killsDiff = df['killsDiff'].values\n",
    "minionsKilledDiff = df['minionsKilledDiff'].values\n",
    "wardPlacedDiff = df['wardPlacedDiff'].values\n",
    "\n",
    "firstBlood = df['firstBlood'].values\n",
    "heralds = df['heralds'].values\n",
    "dragons = df['dragons'].values\n",
    "\n",
    "teamWins = df['teamWins'].values\n",
    "\n",
    "P_blueWins = 0.5\n",
    "P_redWins = 0.5"
   ]
  },
  {
   "cell_type": "code",
   "execution_count": 25,
   "metadata": {},
   "outputs": [],
   "source": [
    "#Multinomial\n",
    "\n",
    "######################################################\n",
    "#1-firstBlood: Mạng đầu tiên\n",
    "##redWin\n",
    "P_firstBloodbyRed_redWin = np.sum(firstBlood[teamWins == 'red'] == 'red')/np.sum(teamWins == 'red')\n",
    "P_firstBloodbyBlue_redWin = np.sum(firstBlood[teamWins == 'red'] == 'blue')/np.sum(teamWins == 'red')\n",
    "\n",
    "###XS hậu nghiệm P(X|redWin)\n",
    "P_firstBlood_redWin = P_firstBloodbyRed_redWin*(firstBlood == 'red').astype(float) +\\\n",
    "                      P_firstBloodbyBlue_redWin*(firstBlood == 'blue').astype(float)\n",
    "\n",
    "\n",
    "##blueWin\n",
    "P_firstBloodbyRed_blueWin = np.sum(firstBlood[teamWins == 'blue'] == 'red')/np.sum(teamWins == 'blue')\n",
    "P_firstBloodbyBlue_blueWin = np.sum(firstBlood[teamWins == 'blue'] == 'blue')/np.sum(teamWins == 'blue')\n",
    "\n",
    "###XS hậu nghiệm P(X|blueWin)\n",
    "P_firstBlood_blueWin = P_firstBloodbyRed_blueWin*(firstBlood == 'red').astype(float) +\\\n",
    "                       P_firstBloodbyBlue_blueWin*(firstBlood == 'blue').astype(float)\n",
    "\n",
    "######################################################\n",
    "#2-heralds: Ăn sứ giả lấy bùa và vật phẩm \n",
    "##redWin\n",
    "P_heraldsbyRed_redWin = np.sum(heralds[teamWins == 'red'] == 'red')/np.sum(teamWins == 'red')\n",
    "P_heraldsbyBlue_redWin = np.sum(heralds[teamWins == 'red'] == 'blue')/np.sum(teamWins == 'red')\n",
    "P_heraldsbyNone_redWin = np.sum(heralds[teamWins == 'red'] == 'none')/np.sum(teamWins == 'red')\n",
    "\n",
    "###XS hậu nghiệm P(X|redWin)\n",
    "P_heralds_redWin = P_heraldsbyRed_redWin*(heralds == 'red').astype(float) +\\\n",
    "                   P_heraldsbyBlue_redWin*(heralds == 'blue').astype(float) +\\\n",
    "                   P_heraldsbyNone_redWin*(heralds == 'none').astype(float)\n",
    "\n",
    "\n",
    "##blueWin\n",
    "P_heraldsbyRed_blueWin = np.sum(heralds[teamWins == 'blue'] == 'red')/np.sum(teamWins == 'blue')\n",
    "P_heraldsbyBlue_blueWin = np.sum(heralds[teamWins == 'blue'] == 'blue')/np.sum(teamWins == 'blue')\n",
    "P_heraldsbyNone_blueWin = np.sum(heralds[teamWins == 'blue'] == 'none')/np.sum(teamWins == 'blue')\n",
    "\n",
    "###XS hậu nghiệm P(X|blueWin)\n",
    "P_heralds_blueWin = P_heraldsbyRed_blueWin*(heralds == 'red').astype(float) +\\\n",
    "                    P_heraldsbyBlue_blueWin*(heralds == 'blue').astype(float) +\\\n",
    "                    P_heraldsbyNone_blueWin*(heralds == 'none').astype(float)\n",
    "\n",
    "######################################################\n",
    "#3-dragons: Ăn bùa rồng \n",
    "##redWin\n",
    "P_dragonsbyRed_redWin = np.sum(dragons[teamWins == 'red'] == 'red')/np.sum(teamWins == 'red')\n",
    "P_dragonsbyBlue_redWin = np.sum(dragons[teamWins == 'red'] == 'blue')/np.sum(teamWins == 'red')\n",
    "P_dragonsbyNone_redWin = np.sum(dragons[teamWins == 'red'] == 'none')/np.sum(teamWins == 'red')\n",
    "\n",
    "###XS hậu nghiệm P(X|redWin)\n",
    "P_dragons_redWin = P_dragonsbyRed_redWin*(dragons == 'red').astype(float) +\\\n",
    "                   P_dragonsbyBlue_redWin*(dragons == 'blue').astype(float) +\\\n",
    "                   P_dragonsbyNone_redWin*(dragons == 'none').astype(float)\n",
    "\n",
    "\n",
    "##blueWin\n",
    "P_dragonsbyRed_blueWin = np.sum(dragons[teamWins == 'blue'] == 'red')/np.sum(teamWins == 'blue')\n",
    "P_dragonsbyBlue_blueWin = np.sum(dragons[teamWins == 'blue'] == 'blue')/np.sum(teamWins == 'blue')\n",
    "P_dragonsbyNone_blueWin = np.sum(dragons[teamWins == 'blue'] == 'none')/np.sum(teamWins == 'blue')\n",
    "\n",
    "###XS hậu nghiệm P(X|blueWin)\n",
    "P_dragons_blueWin = P_dragonsbyRed_blueWin*(dragons == 'red').astype(float) +\\\n",
    "                    P_dragonsbyBlue_blueWin*(dragons == 'blue').astype(float) +\\\n",
    "                    P_dragonsbyNone_blueWin*(dragons == 'none').astype(float)"
   ]
  },
  {
   "cell_type": "code",
   "execution_count": 26,
   "metadata": {},
   "outputs": [],
   "source": [
    "#Gaussian\n",
    "# Tính tham số cho phân phối Gauusian\n",
    "#1-killsDiff: Chênh lệch số Hạ gục đối phương\n",
    "killsDiff_mean_redWin = np.mean(killsDiff[teamWins == 'red'])\n",
    "killsDiff_std_redWin = np.std(killsDiff[teamWins == 'red'])\n",
    "\n",
    "killsDiff_mean_blueWin = np.mean(killsDiff[teamWins == 'blue'])\n",
    "killsDiff_std_blueWin = np.std(killsDiff[teamWins == 'blue'])\n",
    "\n",
    "#2-minionsKilledDiff: Chênh lệch số lính \n",
    "minionsKilledDiff_mean_redWin = np.mean(minionsKilledDiff[teamWins == 'red'])\n",
    "minionsKilledDiff_std_redWin = np.std(minionsKilledDiff[teamWins == 'red'])\n",
    "\n",
    "minionsKilledDiff_mean_blueWin = np.mean(minionsKilledDiff[teamWins == 'blue'])\n",
    "minionsKilledDiff_std_blueWin = np.std(minionsKilledDiff[teamWins == 'blue'])\n",
    "\n",
    "#3-wardPlacedDiff: Chênh lệch số lần Cắm mắt\n",
    "wardPlacedDiff_mean_redWin = np.mean(wardPlacedDiff[teamWins == 'red'])\n",
    "wardPlacedDiff_std_redWin = np.std(wardPlacedDiff[teamWins == 'red'])\n",
    "\n",
    "wardPlacedDiff_mean_blueWin = np.mean(wardPlacedDiff[teamWins == 'blue'])\n",
    "wardPlacedDiff_std_blueWin = np.std(wardPlacedDiff[teamWins == 'blue'])\n",
    "\n",
    "\n",
    "def normal(x, mean, std):\n",
    "    return 1/(np.sqrt(2*np.pi)*std)*np.exp(-np.square(x-mean)/(2*np.square(std)))\n",
    "\n",
    "\n",
    "\n",
    "# P(X|redWin) và P(X|blueWin)\n",
    "P_killsDiff_redWin = normal(killsDiff, killsDiff_mean_redWin , killsDiff_std_redWin )\n",
    "P_killsDiff_blueWin = normal(killsDiff, killsDiff_mean_blueWin, killsDiff_std_blueWin)\n",
    "\n",
    "\n",
    "P_minionsKilledDiff_redWin = normal(minionsKilledDiff, minionsKilledDiff_mean_redWin , minionsKilledDiff_std_redWin )\n",
    "P_minionsKilledDiff_blueWin = normal(minionsKilledDiff, minionsKilledDiff_mean_blueWin, minionsKilledDiff_std_blueWin)\n",
    "\n",
    "\n",
    "P_wardPlacedDiff_redWin = normal(wardPlacedDiff, wardPlacedDiff_mean_redWin , wardPlacedDiff_std_redWin )\n",
    "P_wardPlacedDiff_blueWin = normal(wardPlacedDiff, wardPlacedDiff_mean_blueWin, wardPlacedDiff_std_blueWin)"
   ]
  },
  {
   "cell_type": "code",
   "execution_count": 27,
   "metadata": {},
   "outputs": [
    {
     "data": {
      "text/plain": [
       "0.7116104868913857"
      ]
     },
     "execution_count": 27,
     "metadata": {},
     "output_type": "execute_result"
    }
   ],
   "source": [
    "#Kết quả\n",
    "P_redWin_combine = P_redWins*P_firstBlood_redWin*P_heralds_redWin*P_dragons_redWin*\\\n",
    "                             P_killsDiff_redWin*P_minionsKilledDiff_redWin*P_wardPlacedDiff_redWin\n",
    "\n",
    "P_blueWin_combine = P_blueWins*P_firstBlood_blueWin*P_heralds_blueWin*P_dragons_blueWin*\\\n",
    "                             P_killsDiff_blueWin*P_minionsKilledDiff_blueWin*P_wardPlacedDiff_blueWin\n",
    "\n",
    "np.mean((P_redWin_combine > P_blueWin_combine).astype(float) == (teamWins =='red'))"
   ]
  },
  {
   "cell_type": "code",
   "execution_count": 28,
   "metadata": {},
   "outputs": [
    {
     "data": {
      "text/plain": [
       "0.6298208320680231"
      ]
     },
     "execution_count": 28,
     "metadata": {},
     "output_type": "execute_result"
    }
   ],
   "source": [
    "P_redWin_combineMul = P_redWins*P_firstBlood_redWin*P_heralds_redWin*P_dragons_redWin\n",
    "P_blueWin_combineMul = P_blueWins*P_firstBlood_blueWin*P_heralds_blueWin*P_dragons_blueWin\n",
    "\n",
    "np.mean((P_redWin_combineMul > P_blueWin_combineMul).astype(float) == (teamWins =='red'))"
   ]
  },
  {
   "cell_type": "code",
   "execution_count": 29,
   "metadata": {},
   "outputs": [
    {
     "data": {
      "text/plain": [
       "0.7079663933596518"
      ]
     },
     "execution_count": 29,
     "metadata": {},
     "output_type": "execute_result"
    }
   ],
   "source": [
    "P_redWin_combineGass = P_redWins*P_killsDiff_redWin*P_minionsKilledDiff_redWin*P_wardPlacedDiff_redWin\n",
    "\n",
    "P_blueWin_combineGass = P_blueWins*P_killsDiff_blueWin*P_minionsKilledDiff_blueWin*P_wardPlacedDiff_blueWin\n",
    "\n",
    "np.mean((P_redWin_combineGass > P_blueWin_combineGass).astype(float) == (teamWins =='red'))"
   ]
  },
  {
   "cell_type": "code",
   "execution_count": 30,
   "metadata": {},
   "outputs": [
    {
     "name": "stdout",
     "output_type": "stream",
     "text": [
      "0.725680736916692\n",
      "0.7111043627897561\n"
     ]
    }
   ],
   "source": [
    "from sklearn.preprocessing import OrdinalEncoder, LabelEncoder\n",
    "from sklearn.naive_bayes import CategoricalNB, MultinomialNB, GaussianNB\n",
    "\n",
    "X = df.drop(['teamWins'], axis = 1)\n",
    "Y = df['teamWins']\n",
    "Oenc = OrdinalEncoder()\n",
    "Oenc.fit(X)\n",
    "XX= Oenc.transform(X)\n",
    "\n",
    "\n",
    "Lenc = LabelEncoder()\n",
    "Lenc.fit(Y)\n",
    "YY = Lenc.transform(Y)\n",
    "\n",
    "CNB = CategoricalNB(alpha=1.0e-10).fit(XX, YY)\n",
    "GNB = GaussianNB().fit(XX, YY)\n",
    "\n",
    "print(CNB.score(XX,YY))\n",
    "print(GNB.score(XX,YY))"
   ]
  }
 ],
 "metadata": {
  "kernelspec": {
   "display_name": "Python 3",
   "language": "python",
   "name": "python3"
  },
  "language_info": {
   "codemirror_mode": {
    "name": "ipython",
    "version": 3
   },
   "file_extension": ".py",
   "mimetype": "text/x-python",
   "name": "python",
   "nbconvert_exporter": "python",
   "pygments_lexer": "ipython3",
   "version": "3.7.6"
  }
 },
 "nbformat": 4,
 "nbformat_minor": 4
}
