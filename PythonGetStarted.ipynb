{
  "nbformat": 4,
  "nbformat_minor": 0,
  "metadata": {
    "colab": {
      "name": "PythonGetStarted.ipynb",
      "provenance": []
    },
    "kernelspec": {
      "display_name": "Python 3",
      "name": "python3"
    }
  },
  "cells": [
    {
      "cell_type": "markdown",
      "metadata": {
        "id": "e_I6QJSBnCga"
      },
      "source": [
        "\n",
        "# **Basics Python Language**"
      ]
    },
    {
      "cell_type": "markdown",
      "metadata": {
        "id": "QR02J5gGpz1h"
      },
      "source": [
        "**1. Printing in Python**\n"
      ]
    },
    {
      "cell_type": "markdown",
      "metadata": {
        "id": "A2_pWgqFqCO8"
      },
      "source": [
        "1.1. Printing text\n"
      ]
    },
    {
      "cell_type": "code",
      "metadata": {
        "colab": {
          "base_uri": "https://localhost:8080/"
        },
        "id": "e6LjiCtspSgX",
        "outputId": "0b106b6f-dbc1-44c2-f485-f6b4b7c4725f"
      },
      "source": [
        "print(\"Hello Python\")\n",
        "print(\"Xin chào Python\")"
      ],
      "execution_count": null,
      "outputs": [
        {
          "output_type": "stream",
          "text": [
            "Hello Python\n",
            "Xin chào Python\n"
          ],
          "name": "stdout"
        }
      ]
    },
    {
      "cell_type": "code",
      "metadata": {
        "colab": {
          "base_uri": "https://localhost:8080/"
        },
        "id": "q1EuMEBrqjqp",
        "outputId": "4679c365-e7fb-430c-dd11-70a44cda40ac"
      },
      "source": [
        "print(\"Hello Python\\nXin chào Python\")"
      ],
      "execution_count": null,
      "outputs": [
        {
          "output_type": "stream",
          "text": [
            "Hello Python\n",
            "Xin chào Python\n"
          ],
          "name": "stdout"
        }
      ]
    },
    {
      "cell_type": "code",
      "metadata": {
        "colab": {
          "base_uri": "https://localhost:8080/"
        },
        "id": "l3fZpSHMqwQw",
        "outputId": "a4c1d909-15e1-4e3a-843c-0f3d2bb5d95e"
      },
      "source": [
        "print(\"\\tHello Python 1\")\n",
        "print(\"\\tHello Python 2\")\n",
        "print(\"Hello Python 3\")"
      ],
      "execution_count": null,
      "outputs": [
        {
          "output_type": "stream",
          "text": [
            "\tHello Python 1\n",
            "\tHello Python 2\n",
            "Hello Python 3\n"
          ],
          "name": "stdout"
        }
      ]
    },
    {
      "cell_type": "markdown",
      "metadata": {
        "id": "1YP9eOY9q8kz"
      },
      "source": [
        "1.2. Printing the result of a calculation\n"
      ]
    },
    {
      "cell_type": "code",
      "metadata": {
        "colab": {
          "base_uri": "https://localhost:8080/"
        },
        "id": "Elo2xb1trGJP",
        "outputId": "f5e8f667-8d72-473c-ba99-acba0dbd91fe"
      },
      "source": [
        "print(\"3 + 4\")\n",
        "print(3+4)"
      ],
      "execution_count": null,
      "outputs": [
        {
          "output_type": "stream",
          "text": [
            "3 + 4\n",
            "7\n"
          ],
          "name": "stdout"
        }
      ]
    },
    {
      "cell_type": "code",
      "metadata": {
        "colab": {
          "base_uri": "https://localhost:8080/"
        },
        "id": "1J83wPQHrUzf",
        "outputId": "c005685c-9022-457a-e41d-51af299d182d"
      },
      "source": [
        "print(\"3 + 4 =\",3+4)"
      ],
      "execution_count": null,
      "outputs": [
        {
          "output_type": "stream",
          "text": [
            "3 + 4 = 7\n"
          ],
          "name": "stdout"
        }
      ]
    },
    {
      "cell_type": "markdown",
      "metadata": {
        "id": "RFh3ZEd1sMhB"
      },
      "source": [
        "1.3. Separating Multiple Arguments"
      ]
    },
    {
      "cell_type": "code",
      "metadata": {
        "colab": {
          "base_uri": "https://localhost:8080/"
        },
        "id": "0vSC1TvUrmnQ",
        "outputId": "e9141cf1-1335-4275-f896-0d2b62f0c589"
      },
      "source": [
        "print(\"3 + 4 =\", 3+4, \"and 3 - 4=\",3-4 )"
      ],
      "execution_count": null,
      "outputs": [
        {
          "output_type": "stream",
          "text": [
            "3 + 4 = 7 and 3 - 4= -1\n"
          ],
          "name": "stdout"
        }
      ]
    },
    {
      "cell_type": "markdown",
      "metadata": {
        "id": "vFEiKs3UssQL"
      },
      "source": [
        "**2. Python Comments**"
      ]
    },
    {
      "cell_type": "markdown",
      "metadata": {
        "id": "9fQQCK9QvVoS"
      },
      "source": [
        "2.1. Creating a Comment\n",
        "\n",
        "Comments starts with a #, and Python will ignore them:"
      ]
    },
    {
      "cell_type": "code",
      "metadata": {
        "colab": {
          "base_uri": "https://localhost:8080/"
        },
        "id": "nmr_Nknzsrf7",
        "outputId": "5bc16c3f-5866-4286-dbf2-3d359878873c"
      },
      "source": [
        "#This is a comment\n",
        "print(\"Hello, World!\")"
      ],
      "execution_count": null,
      "outputs": [
        {
          "output_type": "stream",
          "text": [
            "Hello, World!\n"
          ],
          "name": "stdout"
        }
      ]
    },
    {
      "cell_type": "code",
      "metadata": {
        "colab": {
          "base_uri": "https://localhost:8080/"
        },
        "id": "H18ClW0Gvp5Q",
        "outputId": "bb462e54-cca0-4b3b-8076-2f7bbd56fbb8"
      },
      "source": [
        "print(\"Hello, World!\") #This is a comment"
      ],
      "execution_count": null,
      "outputs": [
        {
          "output_type": "stream",
          "text": [
            "Hello, World!\n"
          ],
          "name": "stdout"
        }
      ]
    },
    {
      "cell_type": "markdown",
      "metadata": {
        "id": "Veey7xKHwCrg"
      },
      "source": [
        "Comments does not have to be text to explain the code, it can also be used to prevent Python from executing code:"
      ]
    },
    {
      "cell_type": "markdown",
      "metadata": {
        "id": "l3v14D80vlEU"
      },
      "source": [
        "2.2. Multi Line Comments"
      ]
    },
    {
      "cell_type": "markdown",
      "metadata": {
        "id": "zgXXWPuYxOoo"
      },
      "source": [
        "Python does not really have a syntax for multi line comments.\n",
        "\n",
        "To add a multiline comment you could insert a # for each line:"
      ]
    },
    {
      "cell_type": "code",
      "metadata": {
        "id": "f27mMWkQvLh8"
      },
      "source": [
        "#This is a comment\n",
        "#written in\n",
        "#more than just one line\n",
        "print(\"Hello, World!\")"
      ],
      "execution_count": null,
      "outputs": []
    },
    {
      "cell_type": "markdown",
      "metadata": {
        "id": "RV52LeXSwzPc"
      },
      "source": [
        "Or, not quite as intended, you can use a multiline string.\n",
        "\n",
        "Since Python will ignore string literals that are not assigned to a variable, you can add a multiline string (triple quotes) in your code, and place your comment inside it:\n",
        "\n"
      ]
    },
    {
      "cell_type": "code",
      "metadata": {
        "id": "Ru-xYolbwdMT"
      },
      "source": [
        "\"\"\"\n",
        "This is a comment\n",
        "written in\n",
        "more than just one line\n",
        "\"\"\"\n",
        "print(\"Hello, World!\")"
      ],
      "execution_count": null,
      "outputs": []
    },
    {
      "cell_type": "markdown",
      "metadata": {
        "id": "sI06G6nFxRtL"
      },
      "source": [
        "**3. Python Variables and Data Types**\n"
      ]
    },
    {
      "cell_type": "markdown",
      "metadata": {
        "id": "HX3UyTcP3ClH"
      },
      "source": [
        "**Python Variables** "
      ]
    },
    {
      "cell_type": "markdown",
      "metadata": {
        "id": "8iAVlVnN0VAt"
      },
      "source": [
        "A variable can have a short name (like x and y) or a more descriptive name (age, carname, total_volume). Rules for Python variables:\n",
        "  * A variable name must start with a letter or the underscore character\n",
        "  * A variable name cannot start with a number\n",
        "  * A variable name can only contain alpha-numeric characters and underscores (A-z, 0-9, and _ )\n",
        "  \n",
        "Variable names are case-sensitive (age, Age and AGE are three different variables)"
      ]
    },
    {
      "cell_type": "code",
      "metadata": {
        "id": "Ce4OYaME0j0i"
      },
      "source": [
        "myvar = \"Python\" \n",
        "my_var = \"Python\" \n",
        "_my_var = \"Python\" \n",
        "myVar = \"Python\" \n",
        "MYVAR = \"Python\" \n",
        "myvar2 = \"Python\" "
      ],
      "execution_count": null,
      "outputs": []
    },
    {
      "cell_type": "code",
      "metadata": {
        "colab": {
          "base_uri": "https://localhost:8080/",
          "height": 132
        },
        "id": "MT4VlDHp0nr-",
        "outputId": "1f615b3e-ecfa-4f16-e512-cc4f4b7d1d75"
      },
      "source": [
        "2myvar = \"Python\" \n",
        "my-var = \"Python\" \n",
        "my var = \"Python\" "
      ],
      "execution_count": null,
      "outputs": [
        {
          "output_type": "error",
          "ename": "SyntaxError",
          "evalue": "ignored",
          "traceback": [
            "\u001b[0;36m  File \u001b[0;32m\"<ipython-input-49-382e2b42eaec>\"\u001b[0;36m, line \u001b[0;32m1\u001b[0m\n\u001b[0;31m    2myvar = \"Python\"\u001b[0m\n\u001b[0m         ^\u001b[0m\n\u001b[0;31mSyntaxError\u001b[0m\u001b[0;31m:\u001b[0m invalid syntax\n"
          ]
        }
      ]
    },
    {
      "cell_type": "markdown",
      "metadata": {
        "id": "VA3pX2MX1Mj2"
      },
      "source": [
        "Multi Words Variable Names"
      ]
    },
    {
      "cell_type": "code",
      "metadata": {
        "id": "x4iErB9I1L_V"
      },
      "source": [
        "#Camel Case\n",
        "#Each word, except the first, starts with a capital letter:\n",
        "myVariableName = \"Python\"\n",
        "\n",
        "#Pascal Case\n",
        "#Each word starts with a capital letter:\n",
        "MyVariableName = \"Python\"\n",
        "\n",
        "#Snake Case\n",
        "#Each word is separated by an underscore character:\n",
        "my_variable_name = \"Python\""
      ],
      "execution_count": null,
      "outputs": []
    },
    {
      "cell_type": "markdown",
      "metadata": {
        "id": "GEd5Cq8hx0L-"
      },
      "source": [
        "3.1. Assigning Values to Variables"
      ]
    },
    {
      "cell_type": "code",
      "metadata": {
        "id": "13sD6ngTxyrk"
      },
      "source": [
        "counter = 100          # An integer assignment\n",
        "miles   = 1000.0       # A floating point\n",
        "name    = \"Python\"     # A string"
      ],
      "execution_count": null,
      "outputs": []
    },
    {
      "cell_type": "markdown",
      "metadata": {
        "id": "Fx8bZvLLytvn"
      },
      "source": [
        "3.2 Multiple Assignment"
      ]
    },
    {
      "cell_type": "code",
      "metadata": {
        "id": "Y0nqrUwpzII7"
      },
      "source": [
        "a = b = c = 1"
      ],
      "execution_count": null,
      "outputs": []
    },
    {
      "cell_type": "code",
      "metadata": {
        "colab": {
          "base_uri": "https://localhost:8080/"
        },
        "id": "BcZAYgPPzXhL",
        "outputId": "5264cf8b-d050-4d46-b8de-b823c1c676d1"
      },
      "source": [
        "print(a)\n",
        "print(b)\n",
        "print(c)"
      ],
      "execution_count": null,
      "outputs": [
        {
          "output_type": "stream",
          "text": [
            "1\n",
            "1\n",
            "1\n"
          ],
          "name": "stdout"
        }
      ]
    },
    {
      "cell_type": "code",
      "metadata": {
        "id": "kmMnoHNczegt"
      },
      "source": [
        "a,b,c = 1,2.7,\"Python\""
      ],
      "execution_count": null,
      "outputs": []
    },
    {
      "cell_type": "code",
      "metadata": {
        "colab": {
          "base_uri": "https://localhost:8080/"
        },
        "id": "SAlgQtHezlcp",
        "outputId": "7a822327-357b-4099-9684-215a7049d9cc"
      },
      "source": [
        "print(a)\n",
        "print(b)\n",
        "print(c)"
      ],
      "execution_count": null,
      "outputs": [
        {
          "output_type": "stream",
          "text": [
            "1\n",
            "2.7\n",
            "Python\n"
          ],
          "name": "stdout"
        }
      ]
    },
    {
      "cell_type": "markdown",
      "metadata": {
        "id": "2rZ4F4kFzoNM"
      },
      "source": [
        "3.3. Output Variables"
      ]
    },
    {
      "cell_type": "code",
      "metadata": {
        "colab": {
          "base_uri": "https://localhost:8080/"
        },
        "id": "q88j1RIpznME",
        "outputId": "d9ac557e-0c08-4ce2-9bae-bb499b127495"
      },
      "source": [
        "x = \"awesome\"\n",
        "print(\"Python is \" + x)"
      ],
      "execution_count": null,
      "outputs": [
        {
          "output_type": "stream",
          "text": [
            "Python is awesome\n"
          ],
          "name": "stdout"
        }
      ]
    },
    {
      "cell_type": "code",
      "metadata": {
        "colab": {
          "base_uri": "https://localhost:8080/"
        },
        "id": "ojykm3TD2LLq",
        "outputId": "dcb2f4c0-a453-4760-b053-d6803a09a093"
      },
      "source": [
        "x = \"Python is \"\n",
        "y = \"awesome\"\n",
        "z =  x + y\n",
        "print(z)"
      ],
      "execution_count": null,
      "outputs": [
        {
          "output_type": "stream",
          "text": [
            "Python is awesome\n"
          ],
          "name": "stdout"
        }
      ]
    },
    {
      "cell_type": "code",
      "metadata": {
        "colab": {
          "base_uri": "https://localhost:8080/"
        },
        "id": "1FiU35tW2OkI",
        "outputId": "4568d5ae-3929-4841-eb3b-59d3e5bb8733"
      },
      "source": [
        "x = 5\n",
        "y = 10\n",
        "print(x + y)"
      ],
      "execution_count": null,
      "outputs": [
        {
          "output_type": "stream",
          "text": [
            "15\n"
          ],
          "name": "stdout"
        }
      ]
    },
    {
      "cell_type": "code",
      "metadata": {
        "colab": {
          "base_uri": "https://localhost:8080/",
          "height": 238
        },
        "id": "l_-AHeYA2RYd",
        "outputId": "47aa0436-a736-4cf8-dc45-e47e065ce46b"
      },
      "source": [
        "x = 5\n",
        "y = \"Python\"\n",
        "print(x + y)"
      ],
      "execution_count": null,
      "outputs": [
        {
          "output_type": "error",
          "ename": "TypeError",
          "evalue": "ignored",
          "traceback": [
            "\u001b[0;31m---------------------------------------------------------------------------\u001b[0m",
            "\u001b[0;31mTypeError\u001b[0m                                 Traceback (most recent call last)",
            "\u001b[0;32m<ipython-input-58-eab17410f43f>\u001b[0m in \u001b[0;36m<module>\u001b[0;34m()\u001b[0m\n\u001b[1;32m      1\u001b[0m \u001b[0mx\u001b[0m \u001b[0;34m=\u001b[0m \u001b[0;36m5\u001b[0m\u001b[0;34m\u001b[0m\u001b[0;34m\u001b[0m\u001b[0m\n\u001b[1;32m      2\u001b[0m \u001b[0my\u001b[0m \u001b[0;34m=\u001b[0m \u001b[0;34m\"Python\"\u001b[0m\u001b[0;34m\u001b[0m\u001b[0;34m\u001b[0m\u001b[0m\n\u001b[0;32m----> 3\u001b[0;31m \u001b[0mprint\u001b[0m\u001b[0;34m(\u001b[0m\u001b[0mx\u001b[0m \u001b[0;34m+\u001b[0m \u001b[0my\u001b[0m\u001b[0;34m)\u001b[0m\u001b[0;34m\u001b[0m\u001b[0;34m\u001b[0m\u001b[0m\n\u001b[0m",
            "\u001b[0;31mTypeError\u001b[0m: unsupported operand type(s) for +: 'int' and 'str'"
          ]
        }
      ]
    },
    {
      "cell_type": "markdown",
      "metadata": {
        "id": "yFvfrea13Age"
      },
      "source": [
        "**Python Data Types**"
      ]
    },
    {
      "cell_type": "markdown",
      "metadata": {
        "id": "06LoFS3-2c5Z"
      },
      "source": [
        "In programming, data type is an important concept.\n",
        "\n",
        "Variables can store data of different types, and different types can do different things.\n",
        "\n",
        "Python has the following data types built-in by default, in these categories:\n",
        "\n",
        "  * Text Type:\tstr\n",
        "  * Numeric Types:\tint, float, complex\n",
        "  * Sequence Types:\tlist, tuple, range\n",
        "  * Mapping Type:\tdict\n",
        "  * Set Types:\tset, frozenset\n",
        "  * Boolean Type:\tbool\n",
        "  * Binary Types:\tbytes, bytearray, memoryview"
      ]
    },
    {
      "cell_type": "markdown",
      "metadata": {
        "id": "pIor4U3Z4o6G"
      },
      "source": [
        "Setting the Data Type\n",
        "\n",
        "In Python, the data type is set when you assign a value to a variable:"
      ]
    },
    {
      "cell_type": "code",
      "metadata": {
        "id": "7PAv2cWY4oAQ"
      },
      "source": [
        "x = \"Hello World\"\t                              #str\t\n",
        "x = 20\t                                        #int\t\n",
        "x = 20.5\t                                      #float\t\n",
        "x = 3+5j\t                                      #complex\t\n",
        "x = [\"apple\", \"banana\", \"cherry\"]\t              #list\t\n",
        "x = (\"apple\", \"banana\", \"cherry\")\t              #tuple\t\n",
        "x = range(6)\t                                  #range\t\n",
        "x = {\"name\" : \"John\", \"age\" : 36}\t              #dict\t\n",
        "x = {\"apple\", \"banana\", \"cherry\"}\t              #set\t\n",
        "x = frozenset({\"apple\", \"banana\", \"cherry\"})\t  #frozenset\t\n",
        "x = True\t                                      #bool\t\n",
        "x = b\"Hello\"\t                                  #bytes\t\n",
        "x = bytearray(5)\t                              #bytearray\t\n",
        "x = memoryview(bytes(5))                        #memoryview"
      ],
      "execution_count": null,
      "outputs": []
    },
    {
      "cell_type": "markdown",
      "metadata": {
        "id": "nxYGwzfj8e4M"
      },
      "source": [
        "3.1. Strings"
      ]
    },
    {
      "cell_type": "markdown",
      "metadata": {
        "id": "uvEwKngZLpnM"
      },
      "source": [
        "Python - Slicing Strings"
      ]
    },
    {
      "cell_type": "code",
      "metadata": {
        "id": "iRi-IslI8eIk"
      },
      "source": [
        "a = \"Hello, World!\"\n"
      ],
      "execution_count": null,
      "outputs": []
    },
    {
      "cell_type": "code",
      "metadata": {
        "colab": {
          "base_uri": "https://localhost:8080/"
        },
        "id": "YPglWd0O4jXd",
        "outputId": "6273b1ec-40da-4c30-e54c-191a88088898"
      },
      "source": [
        "#Strings are Arrays\n",
        "print(a[1])"
      ],
      "execution_count": null,
      "outputs": [
        {
          "output_type": "stream",
          "text": [
            "e\n"
          ],
          "name": "stdout"
        }
      ]
    },
    {
      "cell_type": "code",
      "metadata": {
        "colab": {
          "base_uri": "https://localhost:8080/"
        },
        "id": "PkNajdVU2_XB",
        "outputId": "9319e4d6-3981-4f4a-849a-82d5b721909e"
      },
      "source": [
        "#Looping Through a String\n",
        "for x in \"banana\":\n",
        "  print(x)"
      ],
      "execution_count": null,
      "outputs": [
        {
          "output_type": "stream",
          "text": [
            "b\n",
            "a\n",
            "n\n",
            "a\n",
            "n\n",
            "a\n"
          ],
          "name": "stdout"
        }
      ]
    },
    {
      "cell_type": "code",
      "metadata": {
        "colab": {
          "base_uri": "https://localhost:8080/",
          "height": 132
        },
        "id": "rOyGamc0rvpd",
        "outputId": "2328e013-420b-45ec-8b5b-724275f28536"
      },
      "source": [
        "for x in \"banana\":\n",
        "print(x)"
      ],
      "execution_count": null,
      "outputs": [
        {
          "output_type": "error",
          "ename": "IndentationError",
          "evalue": "ignored",
          "traceback": [
            "\u001b[0;36m  File \u001b[0;32m\"<ipython-input-62-9bed3ed1e594>\"\u001b[0;36m, line \u001b[0;32m2\u001b[0m\n\u001b[0;31m    print(x)\u001b[0m\n\u001b[0m        ^\u001b[0m\n\u001b[0;31mIndentationError\u001b[0m\u001b[0;31m:\u001b[0m expected an indented block\n"
          ]
        }
      ]
    },
    {
      "cell_type": "code",
      "metadata": {
        "colab": {
          "base_uri": "https://localhost:8080/"
        },
        "id": "0Oj4PA3bH4CY",
        "outputId": "7f024d9e-49ec-4c31-de7d-a331cca18d72"
      },
      "source": [
        "#String Length\n",
        "#To get the length of a string, use the len() function.\n",
        "\n",
        "a = \"Hello, World!\"\n",
        "print(len(a))"
      ],
      "execution_count": null,
      "outputs": [
        {
          "output_type": "stream",
          "text": [
            "13\n"
          ],
          "name": "stdout"
        }
      ]
    },
    {
      "cell_type": "code",
      "metadata": {
        "colab": {
          "base_uri": "https://localhost:8080/"
        },
        "id": "5WE8pwb0IC3B",
        "outputId": "186d2eed-c4c4-47f6-aa9e-7ef921da83a1"
      },
      "source": [
        "#Check String\n",
        "txt = \"The best things in life are free!\"\n",
        "print(\"free\" in txt)\n",
        "print(\"free1\" in txt) \n",
        "\n",
        "txt = \"The best things in life are free!\"\n",
        "print(\"expensive\" not in txt)\n",
        "print(\"free\" not in txt)"
      ],
      "execution_count": null,
      "outputs": [
        {
          "output_type": "stream",
          "text": [
            "True\n",
            "False\n",
            "True\n",
            "False\n"
          ],
          "name": "stdout"
        }
      ]
    },
    {
      "cell_type": "code",
      "metadata": {
        "colab": {
          "base_uri": "https://localhost:8080/"
        },
        "id": "nyRj9FctIjvM",
        "outputId": "69291ba0-79fa-4d33-8f78-5354d520019b"
      },
      "source": [
        "#Print only if \"free\" is present:\n",
        "txt = \"The best things in life are free!\"\n",
        "if \"free\" in txt:\n",
        "  print(\"Yes, 'free' is present.\")"
      ],
      "execution_count": null,
      "outputs": [
        {
          "output_type": "stream",
          "text": [
            "Yes, 'free' is present.\n"
          ],
          "name": "stdout"
        }
      ]
    },
    {
      "cell_type": "code",
      "metadata": {
        "colab": {
          "base_uri": "https://localhost:8080/"
        },
        "id": "fOTXHpc-IeiL",
        "outputId": "613b9c67-40dc-4688-8a52-123351874a6f"
      },
      "source": [
        "txt = \"The best things in life are free!\"\n",
        "if \"expensive\" not in txt:\n",
        "  print(\"Yes, 'expensive' is NOT present.\")"
      ],
      "execution_count": null,
      "outputs": [
        {
          "output_type": "stream",
          "text": [
            "Yes, 'expensive' is NOT present.\n"
          ],
          "name": "stdout"
        }
      ]
    },
    {
      "cell_type": "code",
      "metadata": {
        "colab": {
          "base_uri": "https://localhost:8080/"
        },
        "id": "jAHCnTjeJ3WE",
        "outputId": "fa31390b-7c9c-44d5-d51c-ebddc2ec5643"
      },
      "source": [
        "#Slicing\n",
        "print(a[2:5])"
      ],
      "execution_count": null,
      "outputs": [
        {
          "output_type": "stream",
          "text": [
            "llo\n"
          ],
          "name": "stdout"
        }
      ]
    },
    {
      "cell_type": "code",
      "metadata": {
        "colab": {
          "base_uri": "https://localhost:8080/"
        },
        "id": "IGrN3br6J-I5",
        "outputId": "5512a02a-a31b-44b8-f10a-9800b99f0dae"
      },
      "source": [
        "#Slice From the Start\n",
        "print(a[:5])"
      ],
      "execution_count": null,
      "outputs": [
        {
          "output_type": "stream",
          "text": [
            "Hello\n"
          ],
          "name": "stdout"
        }
      ]
    },
    {
      "cell_type": "code",
      "metadata": {
        "colab": {
          "base_uri": "https://localhost:8080/"
        },
        "id": "oiIeyEv5KFVn",
        "outputId": "1c0a187f-7236-4304-cba0-1f0a8b32a005"
      },
      "source": [
        "#Slice To the End\n",
        "print(a[2:])"
      ],
      "execution_count": null,
      "outputs": [
        {
          "output_type": "stream",
          "text": [
            "llo, World!\n"
          ],
          "name": "stdout"
        }
      ]
    },
    {
      "cell_type": "code",
      "metadata": {
        "colab": {
          "base_uri": "https://localhost:8080/"
        },
        "id": "Q9TnC6KfKOCH",
        "outputId": "b38ef992-ea47-472f-ed25-57890b35514a"
      },
      "source": [
        "#Negative Indexing\n",
        "#Use negative indexes to start the slice from the end of the string:\n",
        "\n",
        "print(a[-5:-2])\n"
      ],
      "execution_count": null,
      "outputs": [
        {
          "output_type": "stream",
          "text": [
            "orl\n"
          ],
          "name": "stdout"
        }
      ]
    },
    {
      "cell_type": "markdown",
      "metadata": {
        "id": "c_uCElwsL7Xl"
      },
      "source": [
        "Python - Modify Strings"
      ]
    },
    {
      "cell_type": "code",
      "metadata": {
        "colab": {
          "base_uri": "https://localhost:8080/"
        },
        "id": "qVkbOn2bKTZy",
        "outputId": "d57969be-bada-44e2-afe0-60e22e50f235"
      },
      "source": [
        "print(a.upper())\n",
        "print(a.lower())"
      ],
      "execution_count": null,
      "outputs": [
        {
          "output_type": "stream",
          "text": [
            "HELLO, WORLD!\n",
            "hello, world!\n"
          ],
          "name": "stdout"
        }
      ]
    },
    {
      "cell_type": "code",
      "metadata": {
        "colab": {
          "base_uri": "https://localhost:8080/"
        },
        "id": "S8oJESfxKa7U",
        "outputId": "982b16e3-82cb-436f-e19e-e66825b93429"
      },
      "source": [
        "#Replace String\n",
        "print(a.replace(\"H\", \"J\"))"
      ],
      "execution_count": null,
      "outputs": [
        {
          "output_type": "stream",
          "text": [
            "Jello, World!\n"
          ],
          "name": "stdout"
        }
      ]
    },
    {
      "cell_type": "code",
      "metadata": {
        "colab": {
          "base_uri": "https://localhost:8080/"
        },
        "id": "snvo72lRMLkn",
        "outputId": "51d9f38c-9746-4a5a-8105-8a3794753a3a"
      },
      "source": [
        "#The strip() method removes any whitespace from the beginning or the end:\n",
        "\n",
        "a = \" Hello, World! \"\n",
        "print(a.strip()) # returns \"Hello, World!\""
      ],
      "execution_count": null,
      "outputs": [
        {
          "output_type": "stream",
          "text": [
            "Hello, World!\n"
          ],
          "name": "stdout"
        }
      ]
    },
    {
      "cell_type": "code",
      "metadata": {
        "colab": {
          "base_uri": "https://localhost:8080/"
        },
        "id": "WVZOFbpZMUcO",
        "outputId": "d0ee2701-78d6-4d28-f28b-e523f7565d75"
      },
      "source": [
        "a = \"Hello, World,!\"\n",
        "print(a.split(\", \")) # returns ['Hello', ' World!']"
      ],
      "execution_count": null,
      "outputs": [
        {
          "output_type": "stream",
          "text": [
            "['Hello', 'World,!']\n"
          ],
          "name": "stdout"
        }
      ]
    },
    {
      "cell_type": "markdown",
      "metadata": {
        "id": "_jqLHI3oLrPy"
      },
      "source": [
        "Python - String Concatenation"
      ]
    },
    {
      "cell_type": "code",
      "metadata": {
        "id": "m5y8bDvoKqaq"
      },
      "source": [
        "a = \"Hello\"\n",
        "b = \"World\"\n",
        "c = a + b\n",
        "print(c)"
      ],
      "execution_count": null,
      "outputs": []
    },
    {
      "cell_type": "markdown",
      "metadata": {
        "id": "nrUExOgZcRUj"
      },
      "source": [
        "**Four collection data types**"
      ]
    },
    {
      "cell_type": "markdown",
      "metadata": {
        "id": "BIxzXb5jcCP3"
      },
      "source": [
        "There are four collection data types in the Python programming language:\n",
        "\n",
        "  * List is a collection which is ordered and changeable. Allows duplicate members.\n",
        "  * Tuple is a collection which is ordered and unchangeable. Allows duplicate members.\n",
        "  * Set is a collection which is unordered and unindexed. No duplicate members.\n",
        "  * Dictionary is a collection which is unordered and changeable. No duplicate members.\n",
        "  \n",
        "When choosing a collection type, it is useful to understand the properties of that type. Choosing the right type for a particular data set could mean retention of meaning, and, it could mean an increase in efficiency or security.\n",
        "\n"
      ]
    },
    {
      "cell_type": "markdown",
      "metadata": {
        "id": "Gtb9wZwjM87d"
      },
      "source": [
        "3.2. List"
      ]
    },
    {
      "cell_type": "code",
      "metadata": {
        "id": "hM4eNFrCNIHq"
      },
      "source": [
        "thislist = [\"apple\", \"banana\", \"cherry\"]\n",
        "print(thislist)"
      ],
      "execution_count": null,
      "outputs": []
    },
    {
      "cell_type": "code",
      "metadata": {
        "id": "QXtc9CYpNzZs"
      },
      "source": [
        "#String, int and boolean data types:\n",
        "list1 = [\"apple\", \"banana\", \"cherry\"]\n",
        "list2 = [1, 5, 7, 9, 3]\n",
        "list3 = [True, False, False]"
      ],
      "execution_count": null,
      "outputs": []
    },
    {
      "cell_type": "code",
      "metadata": {
        "id": "7n4rVOt8N_ds"
      },
      "source": [
        "#A list can contain different data types:\n",
        "list1 = [\"abc\", 34, True, 40, \"male\",[\"a\",b]]"
      ],
      "execution_count": null,
      "outputs": []
    },
    {
      "cell_type": "code",
      "metadata": {
        "id": "rjiar-tJNrgi"
      },
      "source": [
        "#Print the number of items in the list:\n",
        "print(len(thislist))"
      ],
      "execution_count": null,
      "outputs": []
    },
    {
      "cell_type": "code",
      "metadata": {
        "id": "yVYG7tZbOC_R"
      },
      "source": [
        "#Print the number of the list:\n",
        "print(type(list1))"
      ],
      "execution_count": null,
      "outputs": []
    },
    {
      "cell_type": "markdown",
      "metadata": {
        "id": "aFtAddRkWwfB"
      },
      "source": [
        "Access Items"
      ]
    },
    {
      "cell_type": "code",
      "metadata": {
        "colab": {
          "base_uri": "https://localhost:8080/"
        },
        "id": "oSPUXHbLWg4y",
        "outputId": "b8fae6d3-d2a5-4953-ea4e-8e8bd7e5106b"
      },
      "source": [
        "thislist = [\"apple\", \"banana\", \"cherry\"]\n",
        "print(thislist[1])"
      ],
      "execution_count": null,
      "outputs": [
        {
          "output_type": "stream",
          "text": [
            "banana\n"
          ],
          "name": "stdout"
        }
      ]
    },
    {
      "cell_type": "code",
      "metadata": {
        "colab": {
          "base_uri": "https://localhost:8080/"
        },
        "id": "rU_XrKjQW2Wx",
        "outputId": "882411cb-bb6b-4d89-b16f-80745df4c74d"
      },
      "source": [
        "thislist = [\"apple\", \"banana\", \"cherry\"]\n",
        "print(thislist[-1])"
      ],
      "execution_count": null,
      "outputs": [
        {
          "output_type": "stream",
          "text": [
            "cherry\n"
          ],
          "name": "stdout"
        }
      ]
    },
    {
      "cell_type": "code",
      "metadata": {
        "colab": {
          "base_uri": "https://localhost:8080/"
        },
        "id": "KYOzvlyMW7CZ",
        "outputId": "28b312df-ad22-4c08-d968-218a8461d400"
      },
      "source": [
        "thislist = [\"apple\", \"banana\", \"cherry\", \"orange\", \"kiwi\", \"melon\", \"mango\"]\n",
        "print(thislist[2:5])"
      ],
      "execution_count": null,
      "outputs": [
        {
          "output_type": "stream",
          "text": [
            "['cherry', 'orange', 'kiwi']\n"
          ],
          "name": "stdout"
        }
      ]
    },
    {
      "cell_type": "code",
      "metadata": {
        "colab": {
          "base_uri": "https://localhost:8080/"
        },
        "id": "sKoxChesW_mB",
        "outputId": "62682ce1-085f-47f5-e88c-3d15fdaa5a1d"
      },
      "source": [
        "thislist = [\"apple\", \"banana\", \"cherry\", \"orange\", \"kiwi\", \"melon\", \"mango\"]\n",
        "print(thislist[:4])"
      ],
      "execution_count": null,
      "outputs": [
        {
          "output_type": "stream",
          "text": [
            "['apple', 'banana', 'cherry', 'orange']\n"
          ],
          "name": "stdout"
        }
      ]
    },
    {
      "cell_type": "code",
      "metadata": {
        "colab": {
          "base_uri": "https://localhost:8080/"
        },
        "id": "zZh9ttEuuANH",
        "outputId": "86a1bccb-401f-4535-89ee-6a2c86e5a7f5"
      },
      "source": [
        "print(thislist[3:])"
      ],
      "execution_count": null,
      "outputs": [
        {
          "output_type": "stream",
          "text": [
            "['orange', 'kiwi', 'melon', 'mango']\n"
          ],
          "name": "stdout"
        }
      ]
    },
    {
      "cell_type": "code",
      "metadata": {
        "colab": {
          "base_uri": "https://localhost:8080/"
        },
        "id": "DLIqFHeuuFYo",
        "outputId": "33facf20-a091-4d46-e7d5-338c41a85164"
      },
      "source": [
        "print(thislist[-4])"
      ],
      "execution_count": null,
      "outputs": [
        {
          "output_type": "stream",
          "text": [
            "orange\n"
          ],
          "name": "stdout"
        }
      ]
    },
    {
      "cell_type": "markdown",
      "metadata": {
        "id": "rG8cDWZxXHju"
      },
      "source": [
        "Change Item Value\n"
      ]
    },
    {
      "cell_type": "code",
      "metadata": {
        "colab": {
          "base_uri": "https://localhost:8080/"
        },
        "id": "jQZ_JZceXGe6",
        "outputId": "aa7bbcd8-349c-47f3-910a-d7777b36b3e3"
      },
      "source": [
        "thislist = [\"apple\", \"banana\", \"cherry\"]\n",
        "thislist[1] = \"blackcurrant\"\n",
        "print(thislist)"
      ],
      "execution_count": null,
      "outputs": [
        {
          "output_type": "stream",
          "text": [
            "['apple', 'blackcurrant', 'cherry']\n"
          ],
          "name": "stdout"
        }
      ]
    },
    {
      "cell_type": "code",
      "metadata": {
        "colab": {
          "base_uri": "https://localhost:8080/"
        },
        "id": "41CURrd2XAoh",
        "outputId": "7be9b242-4353-4c65-f959-bdff5bc55847"
      },
      "source": [
        "thislist = [\"apple\", \"banana\", \"cherry\", \"orange\", \"kiwi\", \"mango\"]\n",
        "thislist[1:3] = [\"blackcurrant\", \"watermelon\"]\n",
        "print(thislist)"
      ],
      "execution_count": null,
      "outputs": [
        {
          "output_type": "stream",
          "text": [
            "['apple', 'blackcurrant', 'watermelon', 'orange', 'kiwi', 'mango']\n"
          ],
          "name": "stdout"
        }
      ]
    },
    {
      "cell_type": "code",
      "metadata": {
        "colab": {
          "base_uri": "https://localhost:8080/"
        },
        "id": "YHcMjmE1XU3z",
        "outputId": "55df7a7f-b65b-4bc5-b1a9-605d1623f3d9"
      },
      "source": [
        "#If you insert more items than you replace, the new items will be inserted where you specified, and the remaining items will move accordingly:\n",
        "thislist = [\"apple\", \"banana\", \"cherry\",\"abnv\"]\n",
        "thislist[1:2] = [\"blackcurrant\", \"watermelon\"]\n",
        "print(thislist)"
      ],
      "execution_count": null,
      "outputs": [
        {
          "output_type": "stream",
          "text": [
            "['apple', 'blackcurrant', 'watermelon', 'cherry', 'abnv']\n"
          ],
          "name": "stdout"
        }
      ]
    },
    {
      "cell_type": "code",
      "metadata": {
        "colab": {
          "base_uri": "https://localhost:8080/"
        },
        "id": "Vj6Ghgv2l2kV",
        "outputId": "5e84491c-83a1-4efd-c0e6-ff9c4b862e95"
      },
      "source": [
        "#If you insert less items than you replace, the new items will be inserted where you specified, and the remaining items will move accordingly:\n",
        "thislist = [\"apple\", \"banana\", \"cherry\"]\n",
        "thislist[1:3] = [\"watermelon\"]\n",
        "print(thislist)"
      ],
      "execution_count": null,
      "outputs": [
        {
          "output_type": "stream",
          "text": [
            "['apple', 'watermelon']\n"
          ],
          "name": "stdout"
        }
      ]
    },
    {
      "cell_type": "markdown",
      "metadata": {
        "id": "xSMqdjzKXifZ"
      },
      "source": [
        " Add List Items"
      ]
    },
    {
      "cell_type": "code",
      "metadata": {
        "colab": {
          "base_uri": "https://localhost:8080/"
        },
        "id": "7_IpY0KUXwW0",
        "outputId": "f06e975b-161e-46fd-d162-32eb82b51936"
      },
      "source": [
        "#To add an item to the end of the list, use the append() method:\n",
        "thislist = [\"apple\", \"banana\", \"cherry\"]\n",
        "thislist.append(\"orange\")\n",
        "print(thislist)"
      ],
      "execution_count": null,
      "outputs": [
        {
          "output_type": "stream",
          "text": [
            "['apple', 'banana', 'cherry', 'orange']\n"
          ],
          "name": "stdout"
        }
      ]
    },
    {
      "cell_type": "code",
      "metadata": {
        "colab": {
          "base_uri": "https://localhost:8080/"
        },
        "id": "9SYYX5PlXz_-",
        "outputId": "cded3b9b-7e0c-49f0-a460-b7898090bd0f"
      },
      "source": [
        "#Insert an item as the second position:\n",
        "thislist = [\"apple\", \"banana\", \"cherry\"]\n",
        "thislist.insert(1, \"orange\")\n",
        "print(thislist)"
      ],
      "execution_count": null,
      "outputs": [
        {
          "output_type": "stream",
          "text": [
            "['apple', 'orange', 'banana', 'cherry']\n"
          ],
          "name": "stdout"
        }
      ]
    },
    {
      "cell_type": "code",
      "metadata": {
        "colab": {
          "base_uri": "https://localhost:8080/"
        },
        "id": "y7V3vBwQX3NZ",
        "outputId": "206000d1-8997-4e12-fa88-75840b15792d"
      },
      "source": [
        "#To append elements from another list to the current list, use the extend() method.\n",
        "thislist = [\"apple\", \"banana\", \"cherry\"]\n",
        "tropical = [\"mango\", \"pineapple\", \"papaya\"]\n",
        "thislist.extend(tropical)\n",
        "print(thislist)"
      ],
      "execution_count": null,
      "outputs": [
        {
          "output_type": "stream",
          "text": [
            "['apple', 'banana', 'cherry', 'mango', 'pineapple', 'papaya']\n"
          ],
          "name": "stdout"
        }
      ]
    },
    {
      "cell_type": "markdown",
      "metadata": {
        "id": "cvU2EsOcYTlQ"
      },
      "source": [
        "Remove List Items\n"
      ]
    },
    {
      "cell_type": "code",
      "metadata": {
        "colab": {
          "base_uri": "https://localhost:8080/"
        },
        "id": "iTfJRAkyYUW0",
        "outputId": "f8fc7eb5-c341-4ede-cce8-7a5370860e06"
      },
      "source": [
        "#The remove() method removes the specified item.\n",
        "thislist = [\"apple\", \"banana\", \"cherry\"]\n",
        "thislist.remove(\"banana\")\n",
        "print(thislist)"
      ],
      "execution_count": null,
      "outputs": [
        {
          "output_type": "stream",
          "text": [
            "['apple', 'cherry']\n"
          ],
          "name": "stdout"
        }
      ]
    },
    {
      "cell_type": "code",
      "metadata": {
        "colab": {
          "base_uri": "https://localhost:8080/"
        },
        "id": "ECFurhZnYjiy",
        "outputId": "7454fd45-6787-431e-95ef-1985bc116e2b"
      },
      "source": [
        "#The pop() method removes the specified index.\n",
        "thislist = [\"apple\", \"banana\", \"cherry\"]\n",
        "thislist.pop(1)\n",
        "print(thislist)"
      ],
      "execution_count": null,
      "outputs": [
        {
          "output_type": "stream",
          "text": [
            "['apple', 'cherry']\n"
          ],
          "name": "stdout"
        }
      ]
    },
    {
      "cell_type": "code",
      "metadata": {
        "colab": {
          "base_uri": "https://localhost:8080/"
        },
        "id": "5jov9bfUYuzH",
        "outputId": "bd5dff5b-c4d0-4d42-853c-20324cdf24de"
      },
      "source": [
        "#If you do not specify the index, the pop() method removes the last item.\n",
        "thislist = [\"apple\", \"banana\", \"cherry\"]\n",
        "thislist.pop()\n",
        "print(thislist)"
      ],
      "execution_count": null,
      "outputs": [
        {
          "output_type": "stream",
          "text": [
            "['apple', 'banana']\n"
          ],
          "name": "stdout"
        }
      ]
    },
    {
      "cell_type": "code",
      "metadata": {
        "colab": {
          "base_uri": "https://localhost:8080/"
        },
        "id": "ZDIZPf0RY2Gw",
        "outputId": "ddf9ae37-776b-4812-ba14-2079fa9e61ec"
      },
      "source": [
        "#The del keyword also removes the specified index:\n",
        "thislist = [\"apple\", \"banana\", \"cherry\"]\n",
        "del thislist[0]\n",
        "print(thislist)"
      ],
      "execution_count": null,
      "outputs": [
        {
          "output_type": "stream",
          "text": [
            "['banana', 'cherry']\n"
          ],
          "name": "stdout"
        }
      ]
    },
    {
      "cell_type": "code",
      "metadata": {
        "colab": {
          "base_uri": "https://localhost:8080/",
          "height": 238
        },
        "id": "v8guddvMY9Xj",
        "outputId": "1cf0d190-6f12-417c-8361-308859f52f27"
      },
      "source": [
        "thislist = [\"apple\", \"banana\", \"cherry\"]\n",
        "del thislist\n",
        "print(thislist)"
      ],
      "execution_count": null,
      "outputs": [
        {
          "output_type": "error",
          "ename": "NameError",
          "evalue": "ignored",
          "traceback": [
            "\u001b[0;31m---------------------------------------------------------------------------\u001b[0m",
            "\u001b[0;31mNameError\u001b[0m                                 Traceback (most recent call last)",
            "\u001b[0;32m<ipython-input-101-4b9c960a30eb>\u001b[0m in \u001b[0;36m<module>\u001b[0;34m()\u001b[0m\n\u001b[1;32m      1\u001b[0m \u001b[0mthislist\u001b[0m \u001b[0;34m=\u001b[0m \u001b[0;34m[\u001b[0m\u001b[0;34m\"apple\"\u001b[0m\u001b[0;34m,\u001b[0m \u001b[0;34m\"banana\"\u001b[0m\u001b[0;34m,\u001b[0m \u001b[0;34m\"cherry\"\u001b[0m\u001b[0;34m]\u001b[0m\u001b[0;34m\u001b[0m\u001b[0;34m\u001b[0m\u001b[0m\n\u001b[1;32m      2\u001b[0m \u001b[0;32mdel\u001b[0m \u001b[0mthislist\u001b[0m\u001b[0;34m\u001b[0m\u001b[0;34m\u001b[0m\u001b[0m\n\u001b[0;32m----> 3\u001b[0;31m \u001b[0mprint\u001b[0m\u001b[0;34m(\u001b[0m\u001b[0mthislist\u001b[0m\u001b[0;34m)\u001b[0m\u001b[0;34m\u001b[0m\u001b[0;34m\u001b[0m\u001b[0m\n\u001b[0m",
            "\u001b[0;31mNameError\u001b[0m: name 'thislist' is not defined"
          ]
        }
      ]
    },
    {
      "cell_type": "code",
      "metadata": {
        "colab": {
          "base_uri": "https://localhost:8080/"
        },
        "id": "pLrlzyKQZIG7",
        "outputId": "cddd7c78-b891-4475-a404-2a9dc2e0b0a8"
      },
      "source": [
        "#Clear the List\n",
        "thislist = [\"apple\", \"banana\", \"cherry\"]\n",
        "thislist.clear()\n",
        "print(thislist)"
      ],
      "execution_count": null,
      "outputs": [
        {
          "output_type": "stream",
          "text": [
            "[]\n"
          ],
          "name": "stdout"
        }
      ]
    },
    {
      "cell_type": "markdown",
      "metadata": {
        "id": "KgaUn6Z6Z-ly"
      },
      "source": [
        "Sort Lists"
      ]
    },
    {
      "cell_type": "code",
      "metadata": {
        "id": "bLTGVfmaZ6wN"
      },
      "source": [
        "thislist = [\"orange\", \"mango\", \"kiwi\", \"pineapple\", \"banana\"]\n",
        "thislist.sort()\n",
        "print(thislist)"
      ],
      "execution_count": null,
      "outputs": []
    },
    {
      "cell_type": "code",
      "metadata": {
        "id": "_vsu6SmgZ_4V"
      },
      "source": [
        "thislist = [\"orange\", \"mango\", \"kiwi\", \"pineapple\", \"banana\"]\n",
        "thislist.sort(reverse = True)\n",
        "print(thislist)"
      ],
      "execution_count": null,
      "outputs": []
    },
    {
      "cell_type": "markdown",
      "metadata": {
        "id": "Z2mgIlCCaKsk"
      },
      "source": [
        "Copy Lists"
      ]
    },
    {
      "cell_type": "code",
      "metadata": {
        "colab": {
          "background_save": true
        },
        "id": "BciHKXoVaMsa",
        "outputId": "d6ad7ddb-497b-4428-9bd8-5df608a7a3e5"
      },
      "source": [
        "thislist = [\"apple\", \"banana\", \"cherry\"]\n",
        "mylist = thislist.copy()\n",
        "print(mylist)"
      ],
      "execution_count": null,
      "outputs": [
        {
          "output_type": "stream",
          "text": [
            "['apple', 'banana', 'cherry']\n"
          ],
          "name": "stdout"
        }
      ]
    },
    {
      "cell_type": "code",
      "metadata": {
        "id": "o3E5HS6qaP6-"
      },
      "source": [
        "thislist = [\"apple\", \"banana\", \"cherry\"]\n",
        "mylist = list(thislist)\n",
        "print(mylist)"
      ],
      "execution_count": null,
      "outputs": []
    },
    {
      "cell_type": "markdown",
      "metadata": {
        "id": "qjOvC_p8af-u"
      },
      "source": [
        "Join Lists"
      ]
    },
    {
      "cell_type": "code",
      "metadata": {
        "id": "AsuCUl9gaSy_"
      },
      "source": [
        "list1 = [\"a\", \"b\", \"c\"]\n",
        "list2 = [1, 2, 3]\n",
        "\n",
        "list3 = list1 + list2\n",
        "print(list3)"
      ],
      "execution_count": null,
      "outputs": []
    },
    {
      "cell_type": "code",
      "metadata": {
        "id": "lFseUx-RaizM"
      },
      "source": [
        "list1 = [\"a\", \"b\" , \"c\"]\n",
        "list2 = [1, 2, 3]\n",
        "\n",
        "for x in list2:\n",
        "  list1.append(x)\n",
        "\n",
        "print(list1)"
      ],
      "execution_count": null,
      "outputs": []
    },
    {
      "cell_type": "code",
      "metadata": {
        "id": "Hk6xI42galG-"
      },
      "source": [
        "list1 = [\"a\", \"b\" , \"c\"]\n",
        "list2 = [1, 2, 3]\n",
        "\n",
        "list1.extend(list2)\n",
        "print(list1)\n"
      ],
      "execution_count": null,
      "outputs": []
    },
    {
      "cell_type": "markdown",
      "metadata": {
        "id": "A0Lzga5wcoNZ"
      },
      "source": [
        "3.2. Python tuples"
      ]
    },
    {
      "cell_type": "code",
      "metadata": {
        "id": "xTaiPfVWcjbv"
      },
      "source": [
        "thistuple = (\"apple\", \"banana\", \"cherry\")\n",
        "print(thistuple)"
      ],
      "execution_count": null,
      "outputs": []
    },
    {
      "cell_type": "code",
      "metadata": {
        "id": "7AG-OJzbc3Ov"
      },
      "source": [
        "#Allow Duplicates\n",
        "thistuple = (\"apple\", \"banana\", \"cherry\", \"apple\", \"cherry\")\n",
        "print(thistuple)"
      ],
      "execution_count": null,
      "outputs": []
    },
    {
      "cell_type": "markdown",
      "metadata": {
        "id": "7bdosjCEdIRN"
      },
      "source": [
        "Access Tuple Items"
      ]
    },
    {
      "cell_type": "code",
      "metadata": {
        "id": "kO0k37ygdCj8"
      },
      "source": [
        "thistuple = (\"apple\", \"banana\", \"cherry\")\n",
        "print(thistuple[1])"
      ],
      "execution_count": null,
      "outputs": []
    },
    {
      "cell_type": "markdown",
      "metadata": {
        "id": "ZNk5-p8KdRky"
      },
      "source": [
        "Update Tuples"
      ]
    },
    {
      "cell_type": "code",
      "metadata": {
        "id": "wvdapZR-dL3S"
      },
      "source": [
        "x = (\"apple\", \"banana\", \"cherry\")\n",
        "y = list(x)\n",
        "y[1] = \"kiwi\"\n",
        "x = tuple(y)\n",
        "\n",
        "print(x)"
      ],
      "execution_count": null,
      "outputs": []
    },
    {
      "cell_type": "code",
      "metadata": {
        "id": "VPwX_aRGdU3_"
      },
      "source": [
        "thistuple = (\"apple\", \"banana\", \"cherry\")\n",
        "y = list(thistuple)\n",
        "y.remove(\"apple\")\n",
        "thistuple = tuple(y)"
      ],
      "execution_count": null,
      "outputs": []
    },
    {
      "cell_type": "markdown",
      "metadata": {
        "id": "GVYyA0fXiZu9"
      },
      "source": [
        "Join two tuples"
      ]
    },
    {
      "cell_type": "code",
      "metadata": {
        "id": "2HFlDag5idnn"
      },
      "source": [
        "tuple1 = (\"a\", \"b\" , \"c\")\n",
        "tuple2 = (1, 2, 3)\n",
        "\n",
        "tuple3 = tuple1 + tuple2\n",
        "print(tuple3)"
      ],
      "execution_count": null,
      "outputs": []
    },
    {
      "cell_type": "code",
      "metadata": {
        "id": "uCDxgycBihTN"
      },
      "source": [
        "fruits = (\"apple\", \"banana\", \"cherry\")\n",
        "mytuple = fruits * 2\n",
        "\n",
        "print(mytuple)"
      ],
      "execution_count": null,
      "outputs": []
    },
    {
      "cell_type": "markdown",
      "metadata": {
        "id": "OdgqDgwjd1fn"
      },
      "source": [
        "3.3. Set"
      ]
    },
    {
      "cell_type": "code",
      "metadata": {
        "id": "5RHTbHBkd4pS"
      },
      "source": [
        "myset = {\"apple\", \"banana\", \"cherry\"}"
      ],
      "execution_count": null,
      "outputs": []
    },
    {
      "cell_type": "markdown",
      "metadata": {
        "id": "mM0CdSlud_Ag"
      },
      "source": [
        "Access Items\n",
        "\n",
        "You cannot access items in a set by referring to an index or a key.\n",
        "\n",
        "But you can loop through the set items using a for loop, or ask if a specified value is present in a set, by using the in keyword."
      ]
    },
    {
      "cell_type": "code",
      "metadata": {
        "id": "ONc0irSKd-HR"
      },
      "source": [
        "thisset = {\"apple\", \"banana\", \"cherry\"}\n",
        "\n",
        "for x in thisset:\n",
        "  print(x)"
      ],
      "execution_count": null,
      "outputs": []
    },
    {
      "cell_type": "code",
      "metadata": {
        "id": "Df8wcjsWeF8A"
      },
      "source": [
        "thisset = {\"apple\", \"banana\", \"cherry\"}\n",
        "\n",
        "print(\"banana\" in thisset)"
      ],
      "execution_count": null,
      "outputs": []
    },
    {
      "cell_type": "markdown",
      "metadata": {
        "id": "e-DZ6rgresGq"
      },
      "source": [
        "Add Items"
      ]
    },
    {
      "cell_type": "code",
      "metadata": {
        "id": "mYO3z2XQeO1Z"
      },
      "source": [
        "thisset = {\"apple\", \"banana\", \"cherry\"}\n",
        "\n",
        "thisset.add(\"orange\")\n",
        "\n",
        "print(thisset)"
      ],
      "execution_count": null,
      "outputs": []
    },
    {
      "cell_type": "code",
      "metadata": {
        "id": "YYon9ai_eyGE"
      },
      "source": [
        "thisset = {\"apple\", \"banana\", \"cherry\"}\n",
        "tropical = {\"pineapple\", \"mango\", \"papaya\"}\n",
        "\n",
        "thisset.update(tropical)\n",
        "\n",
        "print(thisset)"
      ],
      "execution_count": null,
      "outputs": []
    },
    {
      "cell_type": "code",
      "metadata": {
        "id": "1KmC7A49e1ak"
      },
      "source": [
        "thisset = {\"apple\", \"banana\", \"cherry\"}\n",
        "mylist = [\"kiwi\", \"orange\"]\n",
        "\n",
        "thisset.update(mylist)\n",
        "\n",
        "print(thisset)"
      ],
      "execution_count": null,
      "outputs": []
    },
    {
      "cell_type": "markdown",
      "metadata": {
        "id": "NXX7o5Xee_Bx"
      },
      "source": [
        "Remove Item"
      ]
    },
    {
      "cell_type": "code",
      "metadata": {
        "id": "u8pu4PiXfALB"
      },
      "source": [
        "thisset = {\"apple\", \"banana\", \"cherry\"}\n",
        "\n",
        "thisset.remove(\"banana\")\n",
        "\n",
        "print(thisset)"
      ],
      "execution_count": null,
      "outputs": []
    },
    {
      "cell_type": "code",
      "metadata": {
        "id": "ru5NeY3GfBfQ"
      },
      "source": [
        "thisset = {\"apple\", \"banana\", \"cherry\"}\n",
        "\n",
        "thisset.discard(\"banana\")\n",
        "\n",
        "print(thisset)"
      ],
      "execution_count": null,
      "outputs": []
    },
    {
      "cell_type": "code",
      "metadata": {
        "id": "taVOeHJkfBH3"
      },
      "source": [
        "thisset = {\"apple\", \"banana\", \"cherry\"}\n",
        "\n",
        "x = thisset.pop()\n",
        "\n",
        "print(x)\n",
        "\n",
        "print(thisset)\n"
      ],
      "execution_count": null,
      "outputs": []
    },
    {
      "cell_type": "code",
      "metadata": {
        "id": "hHQgCkkafA2p"
      },
      "source": [
        "thisset = {\"apple\", \"banana\", \"cherry\"}\n",
        "\n",
        "thisset.clear()\n",
        "\n",
        "print(thisset)"
      ],
      "execution_count": null,
      "outputs": []
    },
    {
      "cell_type": "code",
      "metadata": {
        "id": "Z9WN_bR6fRLh"
      },
      "source": [
        "thisset = {\"apple\", \"banana\", \"cherry\"}\n",
        "\n",
        "del thisset\n",
        "\n",
        "print(thisset)"
      ],
      "execution_count": null,
      "outputs": []
    },
    {
      "cell_type": "markdown",
      "metadata": {
        "id": "8SRXRaHufWBR"
      },
      "source": [
        "Join Two Sets"
      ]
    },
    {
      "cell_type": "code",
      "metadata": {
        "id": "-RCYEZJAfW20"
      },
      "source": [
        "set1 = {\"a\", \"b\" , \"c\"}\n",
        "set2 = {1, 2, 3}\n",
        "\n",
        "set3 = set1.union(set2)\n",
        "print(set3)"
      ],
      "execution_count": null,
      "outputs": []
    },
    {
      "cell_type": "code",
      "metadata": {
        "id": "f_JGEfb0fXQj"
      },
      "source": [
        "set1 = {\"a\", \"b\" , \"c\"}\n",
        "set2 = {1, 2, 3}\n",
        "\n",
        "set1.update(set2)\n",
        "print(set1)\n"
      ],
      "execution_count": null,
      "outputs": []
    },
    {
      "cell_type": "markdown",
      "metadata": {
        "id": "RfTnryP4aSJ0"
      },
      "source": [
        "3.4. Python Dictionaries"
      ]
    },
    {
      "cell_type": "code",
      "metadata": {
        "id": "zrNq13oIbh5b"
      },
      "source": [
        "thisdict = {\n",
        "  \"brand\": \"Ford\",\n",
        "  \"model\": \"Mustang\",\n",
        "  \"year\": 1964\n",
        "}\n",
        "print(thisdict)"
      ],
      "execution_count": null,
      "outputs": []
    },
    {
      "cell_type": "markdown",
      "metadata": {
        "id": "v6RQCWX6fr29"
      },
      "source": [
        "Accessing Items"
      ]
    },
    {
      "cell_type": "code",
      "metadata": {
        "id": "821ZB2B7botN"
      },
      "source": [
        "thisdict = {\n",
        "  \"brand\": \"Ford\",\n",
        "  \"model\": \"Mustang\",\n",
        "  \"year\": 1964,,\n",
        "  \"colors\": [\"red\", \"white\", \"blue\"]\n",
        "}\n",
        "print(thisdict[\"brand\"])"
      ],
      "execution_count": null,
      "outputs": []
    },
    {
      "cell_type": "code",
      "metadata": {
        "id": "TmkHbjW5ftZK"
      },
      "source": [
        "x = thisdict.get(\"model\")"
      ],
      "execution_count": null,
      "outputs": []
    },
    {
      "cell_type": "markdown",
      "metadata": {
        "id": "R80IEWAEgQtJ"
      },
      "source": [
        "Change Items"
      ]
    },
    {
      "cell_type": "code",
      "metadata": {
        "id": "5LOuk_03gO8g"
      },
      "source": [
        "thisdict = {\n",
        "  \"brand\": \"Ford\",\n",
        "  \"model\": \"Mustang\",\n",
        "  \"year\": 1964\n",
        "}\n",
        "thisdict.update({\"year\": 2020})"
      ],
      "execution_count": null,
      "outputs": []
    },
    {
      "cell_type": "markdown",
      "metadata": {
        "id": "7vQwztF8f2vV"
      },
      "source": [
        "Get Keys"
      ]
    },
    {
      "cell_type": "code",
      "metadata": {
        "id": "GYiHUlG7fyru"
      },
      "source": [
        "x = thisdict.keys()"
      ],
      "execution_count": null,
      "outputs": []
    },
    {
      "cell_type": "markdown",
      "metadata": {
        "id": "eb8Iiiu9f99V"
      },
      "source": [
        "Get Values"
      ]
    },
    {
      "cell_type": "code",
      "metadata": {
        "id": "Txy-NMxgf_K4"
      },
      "source": [
        "x = thisdict.values()"
      ],
      "execution_count": null,
      "outputs": []
    },
    {
      "cell_type": "markdown",
      "metadata": {
        "id": "qPU3SvDtgZgh"
      },
      "source": [
        "Add Items"
      ]
    },
    {
      "cell_type": "code",
      "metadata": {
        "id": "ilpxT7bKgbVq"
      },
      "source": [
        "thisdict = {\n",
        "  \"brand\": \"Ford\",\n",
        "  \"model\": \"Mustang\",\n",
        "  \"year\": 1964\n",
        "}\n",
        "thisdict.update({\"color\": \"red\"})"
      ],
      "execution_count": null,
      "outputs": []
    },
    {
      "cell_type": "code",
      "metadata": {
        "id": "pWrEKzY1gcOH"
      },
      "source": [
        "thisdict = {\n",
        "  \"brand\": \"Ford\",\n",
        "  \"model\": \"Mustang\",\n",
        "  \"year\": 1964\n",
        "}\n",
        "thisdict[\"color\"] = \"red\"\n",
        "print(thisdict)"
      ],
      "execution_count": null,
      "outputs": []
    },
    {
      "cell_type": "markdown",
      "metadata": {
        "id": "QbhWSB_8fVD1"
      },
      "source": [
        "Removing Items"
      ]
    },
    {
      "cell_type": "code",
      "metadata": {
        "id": "ZiJ3ZXCMgtsv"
      },
      "source": [
        "#The pop() method removes the item with the specified key name:\n",
        "thisdict = {\n",
        "  \"brand\": \"Ford\",\n",
        "  \"model\": \"Mustang\",\n",
        "  \"year\": 1964\n",
        "}\n",
        "thisdict.pop(\"model\")\n",
        "print(thisdict)\n",
        "\n"
      ],
      "execution_count": null,
      "outputs": []
    },
    {
      "cell_type": "code",
      "metadata": {
        "id": "5wDB3eLyg2Sf"
      },
      "source": [
        "#The del keyword removes the item with the specified key name:\n",
        "thisdict = {\n",
        "  \"brand\": \"Ford\",\n",
        "  \"model\": \"Mustang\",\n",
        "  \"year\": 1964\n",
        "}\n",
        "del thisdict[\"model\"]\n",
        "print(thisdict)"
      ],
      "execution_count": null,
      "outputs": []
    },
    {
      "cell_type": "code",
      "metadata": {
        "id": "_XpOSXH-hBi7"
      },
      "source": [
        "#The clear() method empties the dictionary:\n",
        "thisdict = {\n",
        "  \"brand\": \"Ford\",\n",
        "  \"model\": \"Mustang\",\n",
        "  \"year\": 1964\n",
        "}\n",
        "thisdict.clear()\n",
        "print(thisdict)"
      ],
      "execution_count": null,
      "outputs": []
    },
    {
      "cell_type": "markdown",
      "metadata": {
        "id": "0B_iDGJJN0lp"
      },
      "source": [
        "**4. Python If ... Else**"
      ]
    },
    {
      "cell_type": "markdown",
      "metadata": {
        "id": "4Wu2DzkjPKMo"
      },
      "source": [
        "Python Conditions and If statements\n",
        "Python supports the usual logical conditions from mathematics:\n",
        "\n",
        "  * Equals: a == b\n",
        "  * Not Equals: a != b\n",
        "  * Less than: a < b\n",
        "  * Less than or equal to: a <= b\n",
        "  * Greater than: a > b\n",
        "  * Greater than or equal to: a >= b\n",
        "  \n",
        "These conditions can be used in several ways, most commonly in \"if statements\" and loops.\n",
        "\n",
        "An \"if statement\" is written by using the if keyword."
      ]
    },
    {
      "cell_type": "markdown",
      "metadata": {
        "id": "P5XCbv_rPbZ4"
      },
      "source": [
        "4.1 Python Conditions and If statements"
      ]
    },
    {
      "cell_type": "code",
      "metadata": {
        "id": "cmTuRASFPEHi"
      },
      "source": [
        "a = 33\n",
        "b = 200\n",
        "if b > a:\n",
        "  print(\"b is greater than a\")"
      ],
      "execution_count": null,
      "outputs": []
    },
    {
      "cell_type": "markdown",
      "metadata": {
        "id": "bEjh2evrPqu2"
      },
      "source": [
        "Elif"
      ]
    },
    {
      "cell_type": "code",
      "metadata": {
        "id": "VZU0E7iFPlqF"
      },
      "source": [
        "a = 33\n",
        "b = 33\n",
        "if b > a:\n",
        "  print(\"b is greater than a\")\n",
        "elif a == b:\n",
        "  print(\"a and b are equal\")"
      ],
      "execution_count": null,
      "outputs": []
    },
    {
      "cell_type": "markdown",
      "metadata": {
        "id": "AmWjRPbGPu8b"
      },
      "source": [
        "Else"
      ]
    },
    {
      "cell_type": "code",
      "metadata": {
        "id": "ovJLL6wSP0om"
      },
      "source": [
        "a = 200\n",
        "b = 33\n",
        "if b > a:\n",
        "  print(\"b is greater than a\")\n",
        "elif a == b:\n",
        "  print(\"a and b are equal\")\n",
        "else:\n",
        "  print(\"a is greater than b\")"
      ],
      "execution_count": null,
      "outputs": []
    },
    {
      "cell_type": "code",
      "metadata": {
        "id": "40AgbswnP9-B"
      },
      "source": [
        "a = 200\n",
        "b = 33\n",
        "if b > a:\n",
        "  print(\"b is greater than a\")\n",
        "else:\n",
        "  print(\"b is not greater than a\")"
      ],
      "execution_count": null,
      "outputs": []
    },
    {
      "cell_type": "markdown",
      "metadata": {
        "id": "VjLsUZLiPYzh"
      },
      "source": [
        "And"
      ]
    },
    {
      "cell_type": "code",
      "metadata": {
        "id": "FjzK6ME9Q2AM"
      },
      "source": [
        "a = 200\n",
        "b = 33\n",
        "c = 500\n",
        "if a > b and c > a:\n",
        "  print(\"Both conditions are True\")"
      ],
      "execution_count": null,
      "outputs": []
    },
    {
      "cell_type": "markdown",
      "metadata": {
        "id": "cPWZmDi-REbF"
      },
      "source": [
        "Or"
      ]
    },
    {
      "cell_type": "code",
      "metadata": {
        "id": "Ttp-VFn3Q5Hd"
      },
      "source": [
        "a = 200\n",
        "b = 33\n",
        "c = 500\n",
        "if a > b or a > c:\n",
        "  print(\"At least one of the conditions is True\")"
      ],
      "execution_count": null,
      "outputs": []
    },
    {
      "cell_type": "markdown",
      "metadata": {
        "id": "nbRINPaMRG1_"
      },
      "source": [
        "Nested If"
      ]
    },
    {
      "cell_type": "code",
      "metadata": {
        "id": "3QVIqyycRGGN"
      },
      "source": [
        "x = 41\n",
        "\n",
        "if x > 10:\n",
        "  print(\"Above ten,\")\n",
        "  if x > 20:\n",
        "    print(\"and also above 20!\")\n",
        "  else:\n",
        "    print(\"but not above 20.\")"
      ],
      "execution_count": null,
      "outputs": []
    },
    {
      "cell_type": "markdown",
      "metadata": {
        "id": "Qn0EDYw0RUGC"
      },
      "source": [
        "**5. Python While Loops**"
      ]
    },
    {
      "cell_type": "code",
      "metadata": {
        "id": "yznP4xLtRCwp"
      },
      "source": [
        "i = 1\n",
        "while i < 6:\n",
        "  print(i)\n",
        "  i += 1"
      ],
      "execution_count": null,
      "outputs": []
    },
    {
      "cell_type": "markdown",
      "metadata": {
        "id": "PJCAPS8NRa1T"
      },
      "source": [
        "The break Statement\n",
        "\n",
        "Continue to the next iteration if i is 3"
      ]
    },
    {
      "cell_type": "code",
      "metadata": {
        "id": "et-WlvXWRZ8K"
      },
      "source": [
        "i = 1\n",
        "while i < 6:\n",
        "  print(i)\n",
        "  if i == 3:\n",
        "    break\n",
        "  i += 1"
      ],
      "execution_count": null,
      "outputs": []
    },
    {
      "cell_type": "markdown",
      "metadata": {
        "id": "y2YYBPTPRi0X"
      },
      "source": [
        "The continue Statement\n",
        "\n",
        "With the continue statement we can stop the current iteration, and continue with the next"
      ]
    },
    {
      "cell_type": "code",
      "metadata": {
        "id": "WeutTqkTReHQ"
      },
      "source": [
        "i = 0\n",
        "while i < 6:\n",
        "  i += 1\n",
        "  if i == 3:\n",
        "    continue\n",
        "  print(i)"
      ],
      "execution_count": null,
      "outputs": []
    },
    {
      "cell_type": "markdown",
      "metadata": {
        "id": "zTYA7bzKSO89"
      },
      "source": [
        "**6. Python For Loops**"
      ]
    },
    {
      "cell_type": "markdown",
      "metadata": {
        "id": "vT1g-NWHSXOw"
      },
      "source": [
        "Print each fruit in a fruit list:"
      ]
    },
    {
      "cell_type": "code",
      "metadata": {
        "id": "h5Tq-FUPSBN-"
      },
      "source": [
        "fruits = [\"apple\", \"banana\", \"cherry\"]\n",
        "for x in fruits:\n",
        "  print(x)"
      ],
      "execution_count": null,
      "outputs": []
    },
    {
      "cell_type": "markdown",
      "metadata": {
        "id": "zkvMaqTsSbGY"
      },
      "source": [
        "Looping Through a String"
      ]
    },
    {
      "cell_type": "code",
      "metadata": {
        "id": "ZCCtAI2DSUBV"
      },
      "source": [
        "for x in \"banana\":\n",
        "  print(x)"
      ],
      "execution_count": null,
      "outputs": []
    },
    {
      "cell_type": "markdown",
      "metadata": {
        "id": "ni-ohwPLSh4_"
      },
      "source": [
        "The break Statement"
      ]
    },
    {
      "cell_type": "code",
      "metadata": {
        "id": "ttWFohQpSfyD"
      },
      "source": [
        "fruits = [\"apple\", \"banana\", \"cherry\"]\n",
        "for x in fruits:\n",
        "  print(x)\n",
        "  if x == \"banana\":\n",
        "    break\n",
        "  print(x)"
      ],
      "execution_count": null,
      "outputs": []
    },
    {
      "cell_type": "markdown",
      "metadata": {
        "id": "MbN9xuRVTu_4"
      },
      "source": [
        "The continue Statement"
      ]
    },
    {
      "cell_type": "code",
      "metadata": {
        "id": "RsgXtYSvSkif"
      },
      "source": [
        "fruits = [\"apple\", \"banana\", \"cherry\"]\n",
        "for x in fruits:\n",
        "  if x == \"banana\":\n",
        "    continue\n",
        "  print(x)"
      ],
      "execution_count": null,
      "outputs": []
    },
    {
      "cell_type": "markdown",
      "metadata": {
        "id": "gLK7iKGmS2-J"
      },
      "source": [
        "The range() Function"
      ]
    },
    {
      "cell_type": "code",
      "metadata": {
        "id": "CvqI0c2iS1V6"
      },
      "source": [
        "for x in range(6):\n",
        "  print(x)"
      ],
      "execution_count": null,
      "outputs": []
    },
    {
      "cell_type": "markdown",
      "metadata": {
        "id": "KRfc7Pm-Tq_b"
      },
      "source": [
        "Nested Loops"
      ]
    },
    {
      "cell_type": "code",
      "metadata": {
        "id": "l2wkVeJNTnDZ"
      },
      "source": [
        "adj = [\"red\", \"big\", \"tasty\"]\n",
        "fruits = [\"apple\", \"banana\", \"cherry\"]\n",
        "\n",
        "for x in adj:\n",
        "  for y in fruits:\n",
        "    print(x, y)"
      ],
      "execution_count": null,
      "outputs": []
    },
    {
      "cell_type": "markdown",
      "metadata": {
        "id": "XOMi87llTsVn"
      },
      "source": [
        "**7. Python Functions**"
      ]
    },
    {
      "cell_type": "markdown",
      "metadata": {
        "id": "5MLZaKHuUHhP"
      },
      "source": [
        "7.1. Creating a Function"
      ]
    },
    {
      "cell_type": "code",
      "metadata": {
        "id": "53TDQzx9T7pX"
      },
      "source": [
        "#Creating a Function\n",
        "def my_function():\n",
        "  print(\"Hello from a function\")"
      ],
      "execution_count": null,
      "outputs": []
    },
    {
      "cell_type": "markdown",
      "metadata": {
        "id": "zDGtj9xCUKSX"
      },
      "source": [
        "7.2. Calling a Function"
      ]
    },
    {
      "cell_type": "code",
      "metadata": {
        "id": "Ls-s-zy-UCTu"
      },
      "source": [
        "def my_function():\n",
        "  print(\"Hello from a function\")\n",
        "\n",
        "my_function()"
      ],
      "execution_count": null,
      "outputs": []
    },
    {
      "cell_type": "markdown",
      "metadata": {
        "id": "jS775xXHUOhN"
      },
      "source": [
        "7.3. Arguments"
      ]
    },
    {
      "cell_type": "code",
      "metadata": {
        "id": "_IlEgVvpUFd2"
      },
      "source": [
        "def my_function(fname):\n",
        "  print(fname + \" Refsnes\")\n",
        "\n",
        "my_function(\"Emil\")\n",
        "my_function(\"Tobias\")\n",
        "my_function(\"Linus\")"
      ],
      "execution_count": null,
      "outputs": []
    },
    {
      "cell_type": "markdown",
      "metadata": {
        "id": "ltrs2nooUokS"
      },
      "source": [
        "7.4. Arbitrary Arguments, *args"
      ]
    },
    {
      "cell_type": "code",
      "metadata": {
        "id": "AbFzgKDQVi7W"
      },
      "source": [
        "def my_function(*kids):\n",
        "  print(\"The youngest child is \" + kids[2])\n",
        "\n",
        "my_function(\"Emil\", \"Tobias\", \"Linus\")"
      ],
      "execution_count": null,
      "outputs": []
    },
    {
      "cell_type": "markdown",
      "metadata": {
        "id": "gppKpktMVrjw"
      },
      "source": [
        "7.5. Keyword Arguments"
      ]
    },
    {
      "cell_type": "code",
      "metadata": {
        "id": "RwWhMldTVwez"
      },
      "source": [
        "def my_function(child3, child2, child1):\n",
        "  print(\"The youngest child is \" + child3)\n",
        "\n",
        "my_function(child1 = \"Emil\", child2 = \"Tobias\", child3 = \"Linus\")"
      ],
      "execution_count": null,
      "outputs": []
    },
    {
      "cell_type": "markdown",
      "metadata": {
        "id": "GbP8EyD7Vztl"
      },
      "source": [
        "7.6. Default Parameter Value"
      ]
    },
    {
      "cell_type": "code",
      "metadata": {
        "id": "HnQcoaY5V5bg"
      },
      "source": [
        "def my_function(country = \"Norway\"):\n",
        "  print(\"I am from \" + country)\n",
        "\n",
        "my_function(\"Sweden\")\n",
        "my_function(\"India\")\n",
        "my_function()\n",
        "my_function(\"Brazil\")"
      ],
      "execution_count": null,
      "outputs": []
    },
    {
      "cell_type": "markdown",
      "metadata": {
        "id": "mqx00Y3pV_Oz"
      },
      "source": [
        "7.7 Passing a List as an Argument"
      ]
    },
    {
      "cell_type": "code",
      "metadata": {
        "id": "7sYeexAuV-hZ"
      },
      "source": [
        "def my_function(food):\n",
        "  for x in food:\n",
        "    print(x)\n",
        "\n",
        "fruits = [\"apple\", \"banana\", \"cherry\"]\n",
        "\n",
        "my_function(fruits)"
      ],
      "execution_count": null,
      "outputs": []
    },
    {
      "cell_type": "markdown",
      "metadata": {
        "id": "fTjxX4EwWUS2"
      },
      "source": [
        "7.8 Return Values"
      ]
    },
    {
      "cell_type": "code",
      "metadata": {
        "id": "KApw2IGhWTaR"
      },
      "source": [
        "def my_function(x):\n",
        "  return 5 * x\n",
        "\n",
        "print(my_function(3))\n",
        "print(my_function(5))\n",
        "print(my_function(9))"
      ],
      "execution_count": null,
      "outputs": []
    },
    {
      "cell_type": "markdown",
      "metadata": {
        "id": "8ZdIGTdehIOr"
      },
      "source": [
        "**8. Lambda**"
      ]
    },
    {
      "cell_type": "code",
      "metadata": {
        "id": "t6dSR4l6hL5n"
      },
      "source": [
        "f = lambda a : a + 10\n",
        "print(f(5))"
      ],
      "execution_count": null,
      "outputs": []
    },
    {
      "cell_type": "code",
      "metadata": {
        "id": "ZZoLpdlwhQTy"
      },
      "source": [
        "f = lambda a, b : a * b\n",
        "print(f(5, 6))"
      ],
      "execution_count": null,
      "outputs": []
    },
    {
      "cell_type": "markdown",
      "metadata": {
        "id": "U6zBITYlheD_"
      },
      "source": [
        "Use that function definition to make a function that always doubles the number you send in:\n"
      ]
    },
    {
      "cell_type": "code",
      "metadata": {
        "id": "HKtjpPXehhqs"
      },
      "source": [
        "def myfunc(n):\n",
        "  return lambda a : a * n\n",
        "\n",
        "mydoubler = myfunc(2)\n",
        "\n",
        "print(mydoubler(11))"
      ],
      "execution_count": null,
      "outputs": []
    }
  ]
}